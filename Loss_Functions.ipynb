{
  "nbformat": 4,
  "nbformat_minor": 0,
  "metadata": {
    "colab": {
      "provenance": [],
      "authorship_tag": "ABX9TyOk/7u25YetGlaF6g2BMTh3",
      "include_colab_link": true
    },
    "kernelspec": {
      "name": "python3",
      "display_name": "Python 3"
    },
    "language_info": {
      "name": "python"
    }
  },
  "cells": [
    {
      "cell_type": "markdown",
      "metadata": {
        "id": "view-in-github",
        "colab_type": "text"
      },
      "source": [
        "<a href=\"https://colab.research.google.com/github/lukaszplust/Deep_Learning/blob/main/Loss_Functions.ipynb\" target=\"_parent\"><img src=\"https://colab.research.google.com/assets/colab-badge.svg\" alt=\"Open In Colab\"/></a>"
      ]
    },
    {
      "cell_type": "markdown",
      "source": [
        "Accuracy"
      ],
      "metadata": {
        "id": "h3LZTgjwhQpS"
      }
    },
    {
      "cell_type": "code",
      "source": [
        "# Accuracy = correct predictions / total predictions * 100\n",
        "import numpy as np\n",
        "y_true = np.array([1, 1, 1, 0, 1, 0])# dane rzeczywiste\n",
        "y_pred = np.array([1, 0, 1, 1, 1, 0])# dane przewidziane przez siec\n",
        "def accuracy(y_true, y_pred):\n",
        "  correct = 0\n",
        "\n",
        "  for i in range(len(y_true)):\n",
        "    if y_true[i] == y_pred[i]:\n",
        "      correct += 1\n",
        "  return correct / len(y_true) * 100\n",
        "accuracy(y_true, y_pred)"
      ],
      "metadata": {
        "id": "Db7SHiFM2fBh",
        "colab": {
          "base_uri": "https://localhost:8080/"
        },
        "outputId": "9e86d6a7-0386-491d-ec6f-19d1c50dfd92"
      },
      "execution_count": 29,
      "outputs": [
        {
          "output_type": "execute_result",
          "data": {
            "text/plain": [
              "66.66666666666666"
            ]
          },
          "metadata": {},
          "execution_count": 29
        }
      ]
    },
    {
      "cell_type": "markdown",
      "source": [
        "Entropy -> suma iloczynu prawdopodobieństw * logarytm z tego prawdopodobieństwa\n",
        "\n",
        "Entropia charakteryzuje możliwość oddania informacji przez źródło. Jest to miara niekreślności/niepewności. Średnia wartość oczekiwania zdziwienia"
      ],
      "metadata": {
        "id": "WWZFbKVxhS46"
      }
    },
    {
      "cell_type": "code",
      "source": [
        "from math import log, e\n",
        "# base -> podstawa logarytmu\n",
        "def entropy(data, base=None):\n",
        "  len_data = len(data)\n",
        "\n",
        "  if len_data <= 1:\n",
        "    return 0\n",
        "\n",
        "  value, counts = np.unique(data, return_counts= True)\n",
        "  probability = counts / len_data\n",
        "\n",
        "  not_zero_probability = np.count_nonzero(probability)\n",
        "\n",
        "  if not_zero_probability <= 1:\n",
        "    return 0\n",
        "\n",
        "  entropy = 0\n",
        "\n",
        "  base = e if base is None else base\n",
        "\n",
        "  for i in probability:\n",
        "    entropy -= i * log(i, base)\n",
        "  return entropy\n",
        "\n",
        "\n",
        "data = [1,2,3,4,5,3,2,5,3,2,4,3,2,4]\n",
        "entropy(data)\n"
      ],
      "metadata": {
        "colab": {
          "base_uri": "https://localhost:8080/"
        },
        "id": "dpN2sE30hCmN",
        "outputId": "069ec671-0b3e-4fd4-d1c4-7fa9c7a4fd06"
      },
      "execution_count": 30,
      "outputs": [
        {
          "output_type": "execute_result",
          "data": {
            "text/plain": [
              "1.512451178466448"
            ]
          },
          "metadata": {},
          "execution_count": 30
        }
      ]
    },
    {
      "cell_type": "markdown",
      "source": [
        "Binary Entropy -> -y_true * log(y_pred) - (1 - y_true) * log(1 - y_pred)"
      ],
      "metadata": {
        "id": "u9bhI21llDUZ"
      }
    },
    {
      "cell_type": "code",
      "source": [
        "y_true = np.array([1, 1, 1, 0, 1, 0])# dane rzeczywiste\n",
        "y_pred = np.array([1, 0, 1, 1, 1, 0])# dane przewidziane przez siec\n",
        "\n",
        "def binary_crossentropy(y_true, y_pred):\n",
        "  # np.clip(a, a_min -> tam gdzie 0, a_max -> tam gdzie 1, out=None)\n",
        "  y_pred = np.clip(y_pred, 0.0000001, 1-0.0000001) # muszę dodać wartość bardzo małą do 0 zeby nie było dzielenia przez 0\n",
        "  return -y_true * np.log(y_pred) - (1 - y_true) * np.log(1 - y_pred)"
      ],
      "metadata": {
        "id": "vNP69GuGkrzk"
      },
      "execution_count": 31,
      "outputs": []
    },
    {
      "cell_type": "code",
      "source": [
        "binary_crossentropy(y_true, y_pred)"
      ],
      "metadata": {
        "colab": {
          "base_uri": "https://localhost:8080/"
        },
        "id": "22XPsIZWCnPT",
        "outputId": "77383695-c2aa-4350-b674-223e00d66e4e"
      },
      "execution_count": 32,
      "outputs": [
        {
          "output_type": "execute_result",
          "data": {
            "text/plain": [
              "array([1.00000005e-07, 1.61180957e+01, 1.00000005e-07, 1.61180957e+01,\n",
              "       1.00000005e-07, 1.00000005e-07])"
            ]
          },
          "metadata": {},
          "execution_count": 32
        }
      ]
    },
    {
      "cell_type": "markdown",
      "source": [
        "Categorical Crossentropy -> - suma (y_true * log(y_pred))"
      ],
      "metadata": {
        "id": "23ALFDGyJ_Ml"
      }
    },
    {
      "cell_type": "code",
      "source": [
        "y_true = np.array([1, 0, 0, 0, 0])# dane rzeczywiste\n",
        "y_pred = np.array([0.96, 0.04, 0.05, 0, 0.2])# dane przewidziane przez siec"
      ],
      "metadata": {
        "id": "HF3eZlh7Eba1"
      },
      "execution_count": 33,
      "outputs": []
    },
    {
      "cell_type": "code",
      "source": [
        "def categorical_crossentropy(y_ture, y_pred):\n",
        "  y_pred = np.clip(y_pred, 0.0000001, 1-0.0000001) # muszę dodać wartość bardzo małą do 0 zeby nie było dzielenia przez 0\n",
        "  return - np.sum(np.log(y_pred) * y_true)"
      ],
      "metadata": {
        "id": "3COONv7OKqnj"
      },
      "execution_count": 34,
      "outputs": []
    },
    {
      "cell_type": "code",
      "source": [
        "categorical_crossentropy(y_true, y_pred)"
      ],
      "metadata": {
        "colab": {
          "base_uri": "https://localhost:8080/"
        },
        "id": "WnuwmAgALBDq",
        "outputId": "4d0b9b32-6bd6-4e29-e8e7-da6e33c026c5"
      },
      "execution_count": 35,
      "outputs": [
        {
          "output_type": "execute_result",
          "data": {
            "text/plain": [
              "0.040821994520255166"
            ]
          },
          "metadata": {},
          "execution_count": 35
        }
      ]
    },
    {
      "cell_type": "code",
      "source": [
        "y_true = np.array([1, 0, 0, 0, 0])# dane rzeczywiste\n",
        "y_pred = np.array([0.4, 0.04, 0.05, 0.2, 0.2])# dane przewidziane przez siec"
      ],
      "metadata": {
        "id": "AkM5b0zILDwj"
      },
      "execution_count": 36,
      "outputs": []
    },
    {
      "cell_type": "code",
      "source": [
        "categorical_crossentropy(y_true, y_pred)"
      ],
      "metadata": {
        "colab": {
          "base_uri": "https://localhost:8080/"
        },
        "id": "Pvo0f_t1QJMP",
        "outputId": "1860645b-3ec7-4b5e-ac87-21800c0f0e38"
      },
      "execution_count": 37,
      "outputs": [
        {
          "output_type": "execute_result",
          "data": {
            "text/plain": [
              "0.916290731874155"
            ]
          },
          "metadata": {},
          "execution_count": 37
        }
      ]
    },
    {
      "cell_type": "markdown",
      "source": [
        "Im mniejsza funkcja starty tym algorytm jest bardziej wartościowy"
      ],
      "metadata": {
        "id": "Z0_FNmcTiexy"
      }
    },
    {
      "cell_type": "code",
      "source": [],
      "metadata": {
        "id": "YNOGfy8cQJ2D"
      },
      "execution_count": null,
      "outputs": []
    }
  ]
}