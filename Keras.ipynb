{
  "nbformat": 4,
  "nbformat_minor": 0,
  "metadata": {
    "colab": {
      "provenance": [],
      "authorship_tag": "ABX9TyOjMgCgnfSrE1dNLewXHtG2",
      "include_colab_link": true
    },
    "kernelspec": {
      "name": "python3",
      "display_name": "Python 3"
    },
    "language_info": {
      "name": "python"
    }
  },
  "cells": [
    {
      "cell_type": "markdown",
      "metadata": {
        "id": "view-in-github",
        "colab_type": "text"
      },
      "source": [
        "<a href=\"https://colab.research.google.com/github/lukaszplust/Deep_Learning/blob/main/Keras.ipynb\" target=\"_parent\"><img src=\"https://colab.research.google.com/assets/colab-badge.svg\" alt=\"Open In Colab\"/></a>"
      ]
    },
    {
      "cell_type": "code",
      "execution_count": 1,
      "metadata": {
        "colab": {
          "base_uri": "https://localhost:8080/"
        },
        "id": "FAjXifZ3AA8b",
        "outputId": "1cb869d2-0de8-4f58-dbfd-ba92b457589d"
      },
      "outputs": [
        {
          "output_type": "stream",
          "name": "stdout",
          "text": [
            "Requirement already satisfied: tensorflow in /usr/local/lib/python3.10/dist-packages (2.12.0)\n",
            "Requirement already satisfied: absl-py>=1.0.0 in /usr/local/lib/python3.10/dist-packages (from tensorflow) (1.4.0)\n",
            "Requirement already satisfied: astunparse>=1.6.0 in /usr/local/lib/python3.10/dist-packages (from tensorflow) (1.6.3)\n",
            "Requirement already satisfied: flatbuffers>=2.0 in /usr/local/lib/python3.10/dist-packages (from tensorflow) (23.5.26)\n",
            "Requirement already satisfied: gast<=0.4.0,>=0.2.1 in /usr/local/lib/python3.10/dist-packages (from tensorflow) (0.4.0)\n",
            "Requirement already satisfied: google-pasta>=0.1.1 in /usr/local/lib/python3.10/dist-packages (from tensorflow) (0.2.0)\n",
            "Requirement already satisfied: grpcio<2.0,>=1.24.3 in /usr/local/lib/python3.10/dist-packages (from tensorflow) (1.56.0)\n",
            "Requirement already satisfied: h5py>=2.9.0 in /usr/local/lib/python3.10/dist-packages (from tensorflow) (3.8.0)\n",
            "Requirement already satisfied: jax>=0.3.15 in /usr/local/lib/python3.10/dist-packages (from tensorflow) (0.4.10)\n",
            "Requirement already satisfied: keras<2.13,>=2.12.0 in /usr/local/lib/python3.10/dist-packages (from tensorflow) (2.12.0)\n",
            "Requirement already satisfied: libclang>=13.0.0 in /usr/local/lib/python3.10/dist-packages (from tensorflow) (16.0.0)\n",
            "Requirement already satisfied: numpy<1.24,>=1.22 in /usr/local/lib/python3.10/dist-packages (from tensorflow) (1.22.4)\n",
            "Requirement already satisfied: opt-einsum>=2.3.2 in /usr/local/lib/python3.10/dist-packages (from tensorflow) (3.3.0)\n",
            "Requirement already satisfied: packaging in /usr/local/lib/python3.10/dist-packages (from tensorflow) (23.1)\n",
            "Requirement already satisfied: protobuf!=4.21.0,!=4.21.1,!=4.21.2,!=4.21.3,!=4.21.4,!=4.21.5,<5.0.0dev,>=3.20.3 in /usr/local/lib/python3.10/dist-packages (from tensorflow) (3.20.3)\n",
            "Requirement already satisfied: setuptools in /usr/local/lib/python3.10/dist-packages (from tensorflow) (67.7.2)\n",
            "Requirement already satisfied: six>=1.12.0 in /usr/local/lib/python3.10/dist-packages (from tensorflow) (1.16.0)\n",
            "Requirement already satisfied: tensorboard<2.13,>=2.12 in /usr/local/lib/python3.10/dist-packages (from tensorflow) (2.12.3)\n",
            "Requirement already satisfied: tensorflow-estimator<2.13,>=2.12.0 in /usr/local/lib/python3.10/dist-packages (from tensorflow) (2.12.0)\n",
            "Requirement already satisfied: termcolor>=1.1.0 in /usr/local/lib/python3.10/dist-packages (from tensorflow) (2.3.0)\n",
            "Requirement already satisfied: typing-extensions>=3.6.6 in /usr/local/lib/python3.10/dist-packages (from tensorflow) (4.6.3)\n",
            "Requirement already satisfied: wrapt<1.15,>=1.11.0 in /usr/local/lib/python3.10/dist-packages (from tensorflow) (1.14.1)\n",
            "Requirement already satisfied: tensorflow-io-gcs-filesystem>=0.23.1 in /usr/local/lib/python3.10/dist-packages (from tensorflow) (0.32.0)\n",
            "Requirement already satisfied: wheel<1.0,>=0.23.0 in /usr/local/lib/python3.10/dist-packages (from astunparse>=1.6.0->tensorflow) (0.40.0)\n",
            "Requirement already satisfied: ml-dtypes>=0.1.0 in /usr/local/lib/python3.10/dist-packages (from jax>=0.3.15->tensorflow) (0.2.0)\n",
            "Requirement already satisfied: scipy>=1.7 in /usr/local/lib/python3.10/dist-packages (from jax>=0.3.15->tensorflow) (1.10.1)\n",
            "Requirement already satisfied: google-auth<3,>=1.6.3 in /usr/local/lib/python3.10/dist-packages (from tensorboard<2.13,>=2.12->tensorflow) (2.17.3)\n",
            "Requirement already satisfied: google-auth-oauthlib<1.1,>=0.5 in /usr/local/lib/python3.10/dist-packages (from tensorboard<2.13,>=2.12->tensorflow) (1.0.0)\n",
            "Requirement already satisfied: markdown>=2.6.8 in /usr/local/lib/python3.10/dist-packages (from tensorboard<2.13,>=2.12->tensorflow) (3.4.3)\n",
            "Requirement already satisfied: requests<3,>=2.21.0 in /usr/local/lib/python3.10/dist-packages (from tensorboard<2.13,>=2.12->tensorflow) (2.27.1)\n",
            "Requirement already satisfied: tensorboard-data-server<0.8.0,>=0.7.0 in /usr/local/lib/python3.10/dist-packages (from tensorboard<2.13,>=2.12->tensorflow) (0.7.1)\n",
            "Requirement already satisfied: werkzeug>=1.0.1 in /usr/local/lib/python3.10/dist-packages (from tensorboard<2.13,>=2.12->tensorflow) (2.3.6)\n",
            "Requirement already satisfied: cachetools<6.0,>=2.0.0 in /usr/local/lib/python3.10/dist-packages (from google-auth<3,>=1.6.3->tensorboard<2.13,>=2.12->tensorflow) (5.3.1)\n",
            "Requirement already satisfied: pyasn1-modules>=0.2.1 in /usr/local/lib/python3.10/dist-packages (from google-auth<3,>=1.6.3->tensorboard<2.13,>=2.12->tensorflow) (0.3.0)\n",
            "Requirement already satisfied: rsa<5,>=3.1.4 in /usr/local/lib/python3.10/dist-packages (from google-auth<3,>=1.6.3->tensorboard<2.13,>=2.12->tensorflow) (4.9)\n",
            "Requirement already satisfied: requests-oauthlib>=0.7.0 in /usr/local/lib/python3.10/dist-packages (from google-auth-oauthlib<1.1,>=0.5->tensorboard<2.13,>=2.12->tensorflow) (1.3.1)\n",
            "Requirement already satisfied: urllib3<1.27,>=1.21.1 in /usr/local/lib/python3.10/dist-packages (from requests<3,>=2.21.0->tensorboard<2.13,>=2.12->tensorflow) (1.26.16)\n",
            "Requirement already satisfied: certifi>=2017.4.17 in /usr/local/lib/python3.10/dist-packages (from requests<3,>=2.21.0->tensorboard<2.13,>=2.12->tensorflow) (2023.5.7)\n",
            "Requirement already satisfied: charset-normalizer~=2.0.0 in /usr/local/lib/python3.10/dist-packages (from requests<3,>=2.21.0->tensorboard<2.13,>=2.12->tensorflow) (2.0.12)\n",
            "Requirement already satisfied: idna<4,>=2.5 in /usr/local/lib/python3.10/dist-packages (from requests<3,>=2.21.0->tensorboard<2.13,>=2.12->tensorflow) (3.4)\n",
            "Requirement already satisfied: MarkupSafe>=2.1.1 in /usr/local/lib/python3.10/dist-packages (from werkzeug>=1.0.1->tensorboard<2.13,>=2.12->tensorflow) (2.1.3)\n",
            "Requirement already satisfied: pyasn1<0.6.0,>=0.4.6 in /usr/local/lib/python3.10/dist-packages (from pyasn1-modules>=0.2.1->google-auth<3,>=1.6.3->tensorboard<2.13,>=2.12->tensorflow) (0.5.0)\n",
            "Requirement already satisfied: oauthlib>=3.0.0 in /usr/local/lib/python3.10/dist-packages (from requests-oauthlib>=0.7.0->google-auth-oauthlib<1.1,>=0.5->tensorboard<2.13,>=2.12->tensorflow) (3.2.2)\n"
          ]
        }
      ],
      "source": [
        "!pip install tensorflow"
      ]
    },
    {
      "cell_type": "code",
      "source": [
        "import numpy as np\n",
        "import pandas as pd\n",
        "import tensorflow as tf\n",
        "import plotly.express as px\n",
        "tf.__version__"
      ],
      "metadata": {
        "colab": {
          "base_uri": "https://localhost:8080/",
          "height": 35
        },
        "id": "v7FNcVmkAKkA",
        "outputId": "dcbe0e38-7623-48a4-99c0-d695a0301e7b"
      },
      "execution_count": 2,
      "outputs": [
        {
          "output_type": "execute_result",
          "data": {
            "text/plain": [
              "'2.12.0'"
            ],
            "application/vnd.google.colaboratory.intrinsic+json": {
              "type": "string"
            }
          },
          "metadata": {},
          "execution_count": 2
        }
      ]
    },
    {
      "cell_type": "markdown",
      "source": [
        "Model sekwencyjny -> liniowy stos warst"
      ],
      "metadata": {
        "id": "lcdN4Q_DAY54"
      }
    },
    {
      "cell_type": "code",
      "source": [
        "from tensorflow.keras.models import Sequential"
      ],
      "metadata": {
        "id": "4GBSvNKQASbV"
      },
      "execution_count": 3,
      "outputs": []
    },
    {
      "cell_type": "code",
      "source": [
        "model = Sequential()\n",
        "print(model)"
      ],
      "metadata": {
        "colab": {
          "base_uri": "https://localhost:8080/"
        },
        "id": "Nwuo4_vsAhAN",
        "outputId": "d382faff-59c3-4363-ac9c-8f824244e0a6"
      },
      "execution_count": 4,
      "outputs": [
        {
          "output_type": "stream",
          "name": "stdout",
          "text": [
            "<keras.engine.sequential.Sequential object at 0x7f745f670df0>\n"
          ]
        }
      ]
    },
    {
      "cell_type": "markdown",
      "source": [
        "Podstawowym elementem składowym modelu są warstwy. Aby dodać najbardziej standardową warstwę - warstwę gęsto połączoną należy użyć warstwy Dense. Warstwe do modelu można dodać poprzez -> .add(). WARSTWA DENSE -> GĘSTO POŁĄCZONA"
      ],
      "metadata": {
        "id": "nRJ4KLd2A2FH"
      }
    },
    {
      "cell_type": "code",
      "source": [
        "from tensorflow.keras.layers import Dense\n",
        "\n",
        "model.add(Dense(units=4, input_shape=(10,)))# units -> liczba neuronów w warstwie, input_shape -> rozmiar danych wejsciowych (w tym przypadku dla 10 byłoby 10 \"kółek:))\")"
      ],
      "metadata": {
        "id": "_MNRcDS2BoFd"
      },
      "execution_count": 5,
      "outputs": []
    },
    {
      "cell_type": "code",
      "source": [
        "model.summary()"
      ],
      "metadata": {
        "colab": {
          "base_uri": "https://localhost:8080/"
        },
        "id": "rpJCIQE4CAYU",
        "outputId": "bc858459-a2e5-4935-87e4-e549f0c4c66c"
      },
      "execution_count": 6,
      "outputs": [
        {
          "output_type": "stream",
          "name": "stdout",
          "text": [
            "Model: \"sequential\"\n",
            "_________________________________________________________________\n",
            " Layer (type)                Output Shape              Param #   \n",
            "=================================================================\n",
            " dense (Dense)               (None, 4)                 44        \n",
            "                                                                 \n",
            "=================================================================\n",
            "Total params: 44\n",
            "Trainable params: 44\n",
            "Non-trainable params: 0\n",
            "_________________________________________________________________\n"
          ]
        }
      ]
    },
    {
      "cell_type": "markdown",
      "source": [
        "Dodanie kolejnej warstwy"
      ],
      "metadata": {
        "id": "4srqazzZC8pe"
      }
    },
    {
      "cell_type": "code",
      "source": [
        "model.add(Dense(units=2))\n",
        "\n",
        "model.summary()"
      ],
      "metadata": {
        "colab": {
          "base_uri": "https://localhost:8080/"
        },
        "id": "77Q5XpGFCJjy",
        "outputId": "837f0880-d1b5-4bd7-d24a-e0fca4c6232c"
      },
      "execution_count": 7,
      "outputs": [
        {
          "output_type": "stream",
          "name": "stdout",
          "text": [
            "Model: \"sequential\"\n",
            "_________________________________________________________________\n",
            " Layer (type)                Output Shape              Param #   \n",
            "=================================================================\n",
            " dense (Dense)               (None, 4)                 44        \n",
            "                                                                 \n",
            " dense_1 (Dense)             (None, 2)                 10        \n",
            "                                                                 \n",
            "=================================================================\n",
            "Total params: 54\n",
            "Trainable params: 54\n",
            "Non-trainable params: 0\n",
            "_________________________________________________________________\n"
          ]
        }
      ]
    },
    {
      "cell_type": "markdown",
      "source": [
        "Liniowa funkcja aktywacji"
      ],
      "metadata": {
        "id": "X9i0mW8xMHHI"
      }
    },
    {
      "cell_type": "code",
      "source": [
        "from tensorflow.keras.activations import linear\n",
        "\n",
        "random_data = sorted(np.random.randn(200))\n",
        "data = pd.DataFrame({'data': random_data, 'linear': linear(random_data)})\n",
        "data.head()"
      ],
      "metadata": {
        "id": "w9Dzu-0CDBL-",
        "colab": {
          "base_uri": "https://localhost:8080/",
          "height": 206
        },
        "outputId": "4eb536b4-8d7b-4f0a-9480-eb426c2ebe15"
      },
      "execution_count": 8,
      "outputs": [
        {
          "output_type": "execute_result",
          "data": {
            "text/plain": [
              "       data    linear\n",
              "0 -2.684796 -2.684796\n",
              "1 -2.266756 -2.266756\n",
              "2 -2.264480 -2.264480\n",
              "3 -2.010770 -2.010770\n",
              "4 -2.000333 -2.000333"
            ],
            "text/html": [
              "\n",
              "  <div id=\"df-16782c1f-9d84-4993-bdf4-36108cca89ec\">\n",
              "    <div class=\"colab-df-container\">\n",
              "      <div>\n",
              "<style scoped>\n",
              "    .dataframe tbody tr th:only-of-type {\n",
              "        vertical-align: middle;\n",
              "    }\n",
              "\n",
              "    .dataframe tbody tr th {\n",
              "        vertical-align: top;\n",
              "    }\n",
              "\n",
              "    .dataframe thead th {\n",
              "        text-align: right;\n",
              "    }\n",
              "</style>\n",
              "<table border=\"1\" class=\"dataframe\">\n",
              "  <thead>\n",
              "    <tr style=\"text-align: right;\">\n",
              "      <th></th>\n",
              "      <th>data</th>\n",
              "      <th>linear</th>\n",
              "    </tr>\n",
              "  </thead>\n",
              "  <tbody>\n",
              "    <tr>\n",
              "      <th>0</th>\n",
              "      <td>-2.684796</td>\n",
              "      <td>-2.684796</td>\n",
              "    </tr>\n",
              "    <tr>\n",
              "      <th>1</th>\n",
              "      <td>-2.266756</td>\n",
              "      <td>-2.266756</td>\n",
              "    </tr>\n",
              "    <tr>\n",
              "      <th>2</th>\n",
              "      <td>-2.264480</td>\n",
              "      <td>-2.264480</td>\n",
              "    </tr>\n",
              "    <tr>\n",
              "      <th>3</th>\n",
              "      <td>-2.010770</td>\n",
              "      <td>-2.010770</td>\n",
              "    </tr>\n",
              "    <tr>\n",
              "      <th>4</th>\n",
              "      <td>-2.000333</td>\n",
              "      <td>-2.000333</td>\n",
              "    </tr>\n",
              "  </tbody>\n",
              "</table>\n",
              "</div>\n",
              "      <button class=\"colab-df-convert\" onclick=\"convertToInteractive('df-16782c1f-9d84-4993-bdf4-36108cca89ec')\"\n",
              "              title=\"Convert this dataframe to an interactive table.\"\n",
              "              style=\"display:none;\">\n",
              "        \n",
              "  <svg xmlns=\"http://www.w3.org/2000/svg\" height=\"24px\"viewBox=\"0 0 24 24\"\n",
              "       width=\"24px\">\n",
              "    <path d=\"M0 0h24v24H0V0z\" fill=\"none\"/>\n",
              "    <path d=\"M18.56 5.44l.94 2.06.94-2.06 2.06-.94-2.06-.94-.94-2.06-.94 2.06-2.06.94zm-11 1L8.5 8.5l.94-2.06 2.06-.94-2.06-.94L8.5 2.5l-.94 2.06-2.06.94zm10 10l.94 2.06.94-2.06 2.06-.94-2.06-.94-.94-2.06-.94 2.06-2.06.94z\"/><path d=\"M17.41 7.96l-1.37-1.37c-.4-.4-.92-.59-1.43-.59-.52 0-1.04.2-1.43.59L10.3 9.45l-7.72 7.72c-.78.78-.78 2.05 0 2.83L4 21.41c.39.39.9.59 1.41.59.51 0 1.02-.2 1.41-.59l7.78-7.78 2.81-2.81c.8-.78.8-2.07 0-2.86zM5.41 20L4 18.59l7.72-7.72 1.47 1.35L5.41 20z\"/>\n",
              "  </svg>\n",
              "      </button>\n",
              "      \n",
              "  <style>\n",
              "    .colab-df-container {\n",
              "      display:flex;\n",
              "      flex-wrap:wrap;\n",
              "      gap: 12px;\n",
              "    }\n",
              "\n",
              "    .colab-df-convert {\n",
              "      background-color: #E8F0FE;\n",
              "      border: none;\n",
              "      border-radius: 50%;\n",
              "      cursor: pointer;\n",
              "      display: none;\n",
              "      fill: #1967D2;\n",
              "      height: 32px;\n",
              "      padding: 0 0 0 0;\n",
              "      width: 32px;\n",
              "    }\n",
              "\n",
              "    .colab-df-convert:hover {\n",
              "      background-color: #E2EBFA;\n",
              "      box-shadow: 0px 1px 2px rgba(60, 64, 67, 0.3), 0px 1px 3px 1px rgba(60, 64, 67, 0.15);\n",
              "      fill: #174EA6;\n",
              "    }\n",
              "\n",
              "    [theme=dark] .colab-df-convert {\n",
              "      background-color: #3B4455;\n",
              "      fill: #D2E3FC;\n",
              "    }\n",
              "\n",
              "    [theme=dark] .colab-df-convert:hover {\n",
              "      background-color: #434B5C;\n",
              "      box-shadow: 0px 1px 3px 1px rgba(0, 0, 0, 0.15);\n",
              "      filter: drop-shadow(0px 1px 2px rgba(0, 0, 0, 0.3));\n",
              "      fill: #FFFFFF;\n",
              "    }\n",
              "  </style>\n",
              "\n",
              "      <script>\n",
              "        const buttonEl =\n",
              "          document.querySelector('#df-16782c1f-9d84-4993-bdf4-36108cca89ec button.colab-df-convert');\n",
              "        buttonEl.style.display =\n",
              "          google.colab.kernel.accessAllowed ? 'block' : 'none';\n",
              "\n",
              "        async function convertToInteractive(key) {\n",
              "          const element = document.querySelector('#df-16782c1f-9d84-4993-bdf4-36108cca89ec');\n",
              "          const dataTable =\n",
              "            await google.colab.kernel.invokeFunction('convertToInteractive',\n",
              "                                                     [key], {});\n",
              "          if (!dataTable) return;\n",
              "\n",
              "          const docLinkHtml = 'Like what you see? Visit the ' +\n",
              "            '<a target=\"_blank\" href=https://colab.research.google.com/notebooks/data_table.ipynb>data table notebook</a>'\n",
              "            + ' to learn more about interactive tables.';\n",
              "          element.innerHTML = '';\n",
              "          dataTable['output_type'] = 'display_data';\n",
              "          await google.colab.output.renderOutput(dataTable, element);\n",
              "          const docLink = document.createElement('div');\n",
              "          docLink.innerHTML = docLinkHtml;\n",
              "          element.appendChild(docLink);\n",
              "        }\n",
              "      </script>\n",
              "    </div>\n",
              "  </div>\n",
              "  "
            ]
          },
          "metadata": {},
          "execution_count": 8
        }
      ]
    },
    {
      "cell_type": "code",
      "source": [
        "px.line(data, x = 'data', y='linear', width=800, range_y = [-2,2])"
      ],
      "metadata": {
        "colab": {
          "base_uri": "https://localhost:8080/",
          "height": 542
        },
        "id": "yaehNQquMv3c",
        "outputId": "cef59610-9007-43fc-afb0-bc4365e03669"
      },
      "execution_count": 9,
      "outputs": [
        {
          "output_type": "display_data",
          "data": {
            "text/html": [
              "<html>\n",
              "<head><meta charset=\"utf-8\" /></head>\n",
              "<body>\n",
              "    <div>            <script src=\"https://cdnjs.cloudflare.com/ajax/libs/mathjax/2.7.5/MathJax.js?config=TeX-AMS-MML_SVG\"></script><script type=\"text/javascript\">if (window.MathJax && window.MathJax.Hub && window.MathJax.Hub.Config) {window.MathJax.Hub.Config({SVG: {font: \"STIX-Web\"}});}</script>                <script type=\"text/javascript\">window.PlotlyConfig = {MathJaxConfig: 'local'};</script>\n",
              "        <script src=\"https://cdn.plot.ly/plotly-2.18.2.min.js\"></script>                <div id=\"e5a0db12-0766-4fd1-8263-5f9ab280a8f6\" class=\"plotly-graph-div\" style=\"height:525px; width:800px;\"></div>            <script type=\"text/javascript\">                                    window.PLOTLYENV=window.PLOTLYENV || {};                                    if (document.getElementById(\"e5a0db12-0766-4fd1-8263-5f9ab280a8f6\")) {                    Plotly.newPlot(                        \"e5a0db12-0766-4fd1-8263-5f9ab280a8f6\",                        [{\"hovertemplate\":\"data=%{x}<br>linear=%{y}<extra></extra>\",\"legendgroup\":\"\",\"line\":{\"color\":\"#636efa\",\"dash\":\"solid\"},\"marker\":{\"symbol\":\"circle\"},\"mode\":\"lines\",\"name\":\"\",\"orientation\":\"v\",\"showlegend\":false,\"x\":[-2.684795565906477,-2.2667558160936148,-2.264479759106153,-2.0107702771818956,-2.000332666368232,-1.8832354428584683,-1.8275191662545354,-1.7074078598796245,-1.7029872990586592,-1.6148593538799738,-1.5431039390637087,-1.5410123932105155,-1.4316720793805444,-1.417759925616224,-1.3671858177589034,-1.3234203377872746,-1.2372104230308387,-1.2229951531393304,-1.206408801509876,-1.1372068756239542,-1.1072673042400176,-1.1062435017730183,-1.0684505822083954,-1.0551712934038706,-1.0523519583015155,-1.0508952595813061,-1.0485490109408597,-1.0294862202435013,-1.0237017431521271,-1.0020635786653884,-0.9462278866932021,-0.9284324614784433,-0.8702746433530408,-0.8676623945854902,-0.8504176278363189,-0.8490259035156472,-0.8451405682981623,-0.838323323000124,-0.8369205276569781,-0.7924025385063356,-0.7916649658466863,-0.7772763219614546,-0.7433233193713179,-0.699411624822523,-0.6966122562520749,-0.6588745080947183,-0.6507171184090206,-0.612850128546249,-0.6068366467033062,-0.6006814815601593,-0.5853270248197457,-0.5844579238960063,-0.5816508994956026,-0.5681248969192835,-0.5583263844010458,-0.553692659825993,-0.5150304141376122,-0.5130338484122797,-0.5045788500372291,-0.4868806480472465,-0.4783458195413033,-0.4584983927371335,-0.45642220028721464,-0.44308022029243244,-0.44050091138337144,-0.4321619179812401,-0.4153319716927889,-0.41279751249921437,-0.4069875983821267,-0.37902645007278374,-0.3635260486671029,-0.3632051765435091,-0.3552007982679532,-0.3471979772973212,-0.3415868843928979,-0.3402121563464219,-0.3371010018673922,-0.31045871868650227,-0.28711179142310134,-0.25825720475495884,-0.16338422623588647,-0.16221282612626794,-0.1464580257133667,-0.1325904760341113,-0.11033238083964475,-0.09546185780209919,-0.09061810017830475,-0.08959726045614544,-0.0798397585612092,-0.07420552111390914,-0.04684203435534242,-0.03625542959603197,-0.03389812937824503,-0.03160377210908512,-0.020010205689059358,-0.014585009903612542,0.0021054327107545693,0.02123235346670931,0.023345085190403885,0.0323260951508147,0.05361792212292535,0.07670775027999406,0.07921236101784783,0.10042301172199998,0.12750165907160477,0.12901017300892942,0.13311584434923218,0.14219612448924093,0.14722162171076916,0.15006068153535254,0.1508898991852155,0.19189373582388472,0.19240833928598183,0.2019601278604184,0.21034543554572252,0.21209489077871893,0.22288402595269416,0.23405168970477694,0.24420463703572542,0.2549527873032416,0.26052550250152234,0.29388346059224724,0.3475707666611888,0.35878270055957406,0.3647400170354895,0.3651018106401769,0.36827296512546975,0.3785857657787286,0.3802460773048267,0.3969601397138857,0.4013744012600556,0.40682016064277937,0.4166421868421415,0.4478136603362536,0.4532780555808438,0.4542715566957441,0.46324576078406,0.4713029615873358,0.4888317029924552,0.49321389855526326,0.49588140612835063,0.4962569547972923,0.5051542479384272,0.5114662740567023,0.5608883410071012,0.5666850358444591,0.5733333680371684,0.5753624893656273,0.5816994238356578,0.604844018953918,0.6551421908301001,0.6993034063921229,0.7108071213607431,0.745807031785174,0.7472565336299345,0.7706994519798109,0.7817656157827636,0.807094578191009,0.8205608584218048,0.830741836754783,0.8392657334537004,0.8492350122080349,0.8630927896972954,0.8894976892493422,0.9383166317666893,0.9558914517247713,1.0074988127436806,1.0133550695123232,1.0219886698473017,1.0635419766782246,1.106738314821484,1.1337180476098758,1.1397527213425982,1.1666869874580603,1.1739411539010474,1.2430292762815711,1.291821067636718,1.3200139489011138,1.3322742353459522,1.332910413247804,1.3654236431039342,1.3700442504880816,1.4565416667887028,1.4772723587040397,1.4858124671587687,1.5574846291086855,1.5952116717046698,1.6447873753943199,1.7589588424878944,1.8855623313059744,1.9343018123738325,1.9476076528789212,1.9491028357543991,2.0198297801550065,2.032938055327162,2.124793509765412,2.2536777177666494,2.521965738206222,2.575580635744351,4.318466653110579],\"xaxis\":\"x\",\"y\":[-2.684795565906477,-2.2667558160936148,-2.264479759106153,-2.0107702771818956,-2.000332666368232,-1.8832354428584683,-1.8275191662545354,-1.7074078598796245,-1.7029872990586592,-1.6148593538799738,-1.5431039390637087,-1.5410123932105155,-1.4316720793805444,-1.417759925616224,-1.3671858177589034,-1.3234203377872746,-1.2372104230308387,-1.2229951531393304,-1.206408801509876,-1.1372068756239542,-1.1072673042400176,-1.1062435017730183,-1.0684505822083954,-1.0551712934038706,-1.0523519583015155,-1.0508952595813061,-1.0485490109408597,-1.0294862202435013,-1.0237017431521271,-1.0020635786653884,-0.9462278866932021,-0.9284324614784433,-0.8702746433530408,-0.8676623945854902,-0.8504176278363189,-0.8490259035156472,-0.8451405682981623,-0.838323323000124,-0.8369205276569781,-0.7924025385063356,-0.7916649658466863,-0.7772763219614546,-0.7433233193713179,-0.699411624822523,-0.6966122562520749,-0.6588745080947183,-0.6507171184090206,-0.612850128546249,-0.6068366467033062,-0.6006814815601593,-0.5853270248197457,-0.5844579238960063,-0.5816508994956026,-0.5681248969192835,-0.5583263844010458,-0.553692659825993,-0.5150304141376122,-0.5130338484122797,-0.5045788500372291,-0.4868806480472465,-0.4783458195413033,-0.4584983927371335,-0.45642220028721464,-0.44308022029243244,-0.44050091138337144,-0.4321619179812401,-0.4153319716927889,-0.41279751249921437,-0.4069875983821267,-0.37902645007278374,-0.3635260486671029,-0.3632051765435091,-0.3552007982679532,-0.3471979772973212,-0.3415868843928979,-0.3402121563464219,-0.3371010018673922,-0.31045871868650227,-0.28711179142310134,-0.25825720475495884,-0.16338422623588647,-0.16221282612626794,-0.1464580257133667,-0.1325904760341113,-0.11033238083964475,-0.09546185780209919,-0.09061810017830475,-0.08959726045614544,-0.0798397585612092,-0.07420552111390914,-0.04684203435534242,-0.03625542959603197,-0.03389812937824503,-0.03160377210908512,-0.020010205689059358,-0.014585009903612542,0.0021054327107545693,0.02123235346670931,0.023345085190403885,0.0323260951508147,0.05361792212292535,0.07670775027999406,0.07921236101784783,0.10042301172199998,0.12750165907160477,0.12901017300892942,0.13311584434923218,0.14219612448924093,0.14722162171076916,0.15006068153535254,0.1508898991852155,0.19189373582388472,0.19240833928598183,0.2019601278604184,0.21034543554572252,0.21209489077871893,0.22288402595269416,0.23405168970477694,0.24420463703572542,0.2549527873032416,0.26052550250152234,0.29388346059224724,0.3475707666611888,0.35878270055957406,0.3647400170354895,0.3651018106401769,0.36827296512546975,0.3785857657787286,0.3802460773048267,0.3969601397138857,0.4013744012600556,0.40682016064277937,0.4166421868421415,0.4478136603362536,0.4532780555808438,0.4542715566957441,0.46324576078406,0.4713029615873358,0.4888317029924552,0.49321389855526326,0.49588140612835063,0.4962569547972923,0.5051542479384272,0.5114662740567023,0.5608883410071012,0.5666850358444591,0.5733333680371684,0.5753624893656273,0.5816994238356578,0.604844018953918,0.6551421908301001,0.6993034063921229,0.7108071213607431,0.745807031785174,0.7472565336299345,0.7706994519798109,0.7817656157827636,0.807094578191009,0.8205608584218048,0.830741836754783,0.8392657334537004,0.8492350122080349,0.8630927896972954,0.8894976892493422,0.9383166317666893,0.9558914517247713,1.0074988127436806,1.0133550695123232,1.0219886698473017,1.0635419766782246,1.106738314821484,1.1337180476098758,1.1397527213425982,1.1666869874580603,1.1739411539010474,1.2430292762815711,1.291821067636718,1.3200139489011138,1.3322742353459522,1.332910413247804,1.3654236431039342,1.3700442504880816,1.4565416667887028,1.4772723587040397,1.4858124671587687,1.5574846291086855,1.5952116717046698,1.6447873753943199,1.7589588424878944,1.8855623313059744,1.9343018123738325,1.9476076528789212,1.9491028357543991,2.0198297801550065,2.032938055327162,2.124793509765412,2.2536777177666494,2.521965738206222,2.575580635744351,4.318466653110579],\"yaxis\":\"y\",\"type\":\"scatter\"}],                        {\"template\":{\"data\":{\"histogram2dcontour\":[{\"type\":\"histogram2dcontour\",\"colorbar\":{\"outlinewidth\":0,\"ticks\":\"\"},\"colorscale\":[[0.0,\"#0d0887\"],[0.1111111111111111,\"#46039f\"],[0.2222222222222222,\"#7201a8\"],[0.3333333333333333,\"#9c179e\"],[0.4444444444444444,\"#bd3786\"],[0.5555555555555556,\"#d8576b\"],[0.6666666666666666,\"#ed7953\"],[0.7777777777777778,\"#fb9f3a\"],[0.8888888888888888,\"#fdca26\"],[1.0,\"#f0f921\"]]}],\"choropleth\":[{\"type\":\"choropleth\",\"colorbar\":{\"outlinewidth\":0,\"ticks\":\"\"}}],\"histogram2d\":[{\"type\":\"histogram2d\",\"colorbar\":{\"outlinewidth\":0,\"ticks\":\"\"},\"colorscale\":[[0.0,\"#0d0887\"],[0.1111111111111111,\"#46039f\"],[0.2222222222222222,\"#7201a8\"],[0.3333333333333333,\"#9c179e\"],[0.4444444444444444,\"#bd3786\"],[0.5555555555555556,\"#d8576b\"],[0.6666666666666666,\"#ed7953\"],[0.7777777777777778,\"#fb9f3a\"],[0.8888888888888888,\"#fdca26\"],[1.0,\"#f0f921\"]]}],\"heatmap\":[{\"type\":\"heatmap\",\"colorbar\":{\"outlinewidth\":0,\"ticks\":\"\"},\"colorscale\":[[0.0,\"#0d0887\"],[0.1111111111111111,\"#46039f\"],[0.2222222222222222,\"#7201a8\"],[0.3333333333333333,\"#9c179e\"],[0.4444444444444444,\"#bd3786\"],[0.5555555555555556,\"#d8576b\"],[0.6666666666666666,\"#ed7953\"],[0.7777777777777778,\"#fb9f3a\"],[0.8888888888888888,\"#fdca26\"],[1.0,\"#f0f921\"]]}],\"heatmapgl\":[{\"type\":\"heatmapgl\",\"colorbar\":{\"outlinewidth\":0,\"ticks\":\"\"},\"colorscale\":[[0.0,\"#0d0887\"],[0.1111111111111111,\"#46039f\"],[0.2222222222222222,\"#7201a8\"],[0.3333333333333333,\"#9c179e\"],[0.4444444444444444,\"#bd3786\"],[0.5555555555555556,\"#d8576b\"],[0.6666666666666666,\"#ed7953\"],[0.7777777777777778,\"#fb9f3a\"],[0.8888888888888888,\"#fdca26\"],[1.0,\"#f0f921\"]]}],\"contourcarpet\":[{\"type\":\"contourcarpet\",\"colorbar\":{\"outlinewidth\":0,\"ticks\":\"\"}}],\"contour\":[{\"type\":\"contour\",\"colorbar\":{\"outlinewidth\":0,\"ticks\":\"\"},\"colorscale\":[[0.0,\"#0d0887\"],[0.1111111111111111,\"#46039f\"],[0.2222222222222222,\"#7201a8\"],[0.3333333333333333,\"#9c179e\"],[0.4444444444444444,\"#bd3786\"],[0.5555555555555556,\"#d8576b\"],[0.6666666666666666,\"#ed7953\"],[0.7777777777777778,\"#fb9f3a\"],[0.8888888888888888,\"#fdca26\"],[1.0,\"#f0f921\"]]}],\"surface\":[{\"type\":\"surface\",\"colorbar\":{\"outlinewidth\":0,\"ticks\":\"\"},\"colorscale\":[[0.0,\"#0d0887\"],[0.1111111111111111,\"#46039f\"],[0.2222222222222222,\"#7201a8\"],[0.3333333333333333,\"#9c179e\"],[0.4444444444444444,\"#bd3786\"],[0.5555555555555556,\"#d8576b\"],[0.6666666666666666,\"#ed7953\"],[0.7777777777777778,\"#fb9f3a\"],[0.8888888888888888,\"#fdca26\"],[1.0,\"#f0f921\"]]}],\"mesh3d\":[{\"type\":\"mesh3d\",\"colorbar\":{\"outlinewidth\":0,\"ticks\":\"\"}}],\"scatter\":[{\"fillpattern\":{\"fillmode\":\"overlay\",\"size\":10,\"solidity\":0.2},\"type\":\"scatter\"}],\"parcoords\":[{\"type\":\"parcoords\",\"line\":{\"colorbar\":{\"outlinewidth\":0,\"ticks\":\"\"}}}],\"scatterpolargl\":[{\"type\":\"scatterpolargl\",\"marker\":{\"colorbar\":{\"outlinewidth\":0,\"ticks\":\"\"}}}],\"bar\":[{\"error_x\":{\"color\":\"#2a3f5f\"},\"error_y\":{\"color\":\"#2a3f5f\"},\"marker\":{\"line\":{\"color\":\"#E5ECF6\",\"width\":0.5},\"pattern\":{\"fillmode\":\"overlay\",\"size\":10,\"solidity\":0.2}},\"type\":\"bar\"}],\"scattergeo\":[{\"type\":\"scattergeo\",\"marker\":{\"colorbar\":{\"outlinewidth\":0,\"ticks\":\"\"}}}],\"scatterpolar\":[{\"type\":\"scatterpolar\",\"marker\":{\"colorbar\":{\"outlinewidth\":0,\"ticks\":\"\"}}}],\"histogram\":[{\"marker\":{\"pattern\":{\"fillmode\":\"overlay\",\"size\":10,\"solidity\":0.2}},\"type\":\"histogram\"}],\"scattergl\":[{\"type\":\"scattergl\",\"marker\":{\"colorbar\":{\"outlinewidth\":0,\"ticks\":\"\"}}}],\"scatter3d\":[{\"type\":\"scatter3d\",\"line\":{\"colorbar\":{\"outlinewidth\":0,\"ticks\":\"\"}},\"marker\":{\"colorbar\":{\"outlinewidth\":0,\"ticks\":\"\"}}}],\"scattermapbox\":[{\"type\":\"scattermapbox\",\"marker\":{\"colorbar\":{\"outlinewidth\":0,\"ticks\":\"\"}}}],\"scatterternary\":[{\"type\":\"scatterternary\",\"marker\":{\"colorbar\":{\"outlinewidth\":0,\"ticks\":\"\"}}}],\"scattercarpet\":[{\"type\":\"scattercarpet\",\"marker\":{\"colorbar\":{\"outlinewidth\":0,\"ticks\":\"\"}}}],\"carpet\":[{\"aaxis\":{\"endlinecolor\":\"#2a3f5f\",\"gridcolor\":\"white\",\"linecolor\":\"white\",\"minorgridcolor\":\"white\",\"startlinecolor\":\"#2a3f5f\"},\"baxis\":{\"endlinecolor\":\"#2a3f5f\",\"gridcolor\":\"white\",\"linecolor\":\"white\",\"minorgridcolor\":\"white\",\"startlinecolor\":\"#2a3f5f\"},\"type\":\"carpet\"}],\"table\":[{\"cells\":{\"fill\":{\"color\":\"#EBF0F8\"},\"line\":{\"color\":\"white\"}},\"header\":{\"fill\":{\"color\":\"#C8D4E3\"},\"line\":{\"color\":\"white\"}},\"type\":\"table\"}],\"barpolar\":[{\"marker\":{\"line\":{\"color\":\"#E5ECF6\",\"width\":0.5},\"pattern\":{\"fillmode\":\"overlay\",\"size\":10,\"solidity\":0.2}},\"type\":\"barpolar\"}],\"pie\":[{\"automargin\":true,\"type\":\"pie\"}]},\"layout\":{\"autotypenumbers\":\"strict\",\"colorway\":[\"#636efa\",\"#EF553B\",\"#00cc96\",\"#ab63fa\",\"#FFA15A\",\"#19d3f3\",\"#FF6692\",\"#B6E880\",\"#FF97FF\",\"#FECB52\"],\"font\":{\"color\":\"#2a3f5f\"},\"hovermode\":\"closest\",\"hoverlabel\":{\"align\":\"left\"},\"paper_bgcolor\":\"white\",\"plot_bgcolor\":\"#E5ECF6\",\"polar\":{\"bgcolor\":\"#E5ECF6\",\"angularaxis\":{\"gridcolor\":\"white\",\"linecolor\":\"white\",\"ticks\":\"\"},\"radialaxis\":{\"gridcolor\":\"white\",\"linecolor\":\"white\",\"ticks\":\"\"}},\"ternary\":{\"bgcolor\":\"#E5ECF6\",\"aaxis\":{\"gridcolor\":\"white\",\"linecolor\":\"white\",\"ticks\":\"\"},\"baxis\":{\"gridcolor\":\"white\",\"linecolor\":\"white\",\"ticks\":\"\"},\"caxis\":{\"gridcolor\":\"white\",\"linecolor\":\"white\",\"ticks\":\"\"}},\"coloraxis\":{\"colorbar\":{\"outlinewidth\":0,\"ticks\":\"\"}},\"colorscale\":{\"sequential\":[[0.0,\"#0d0887\"],[0.1111111111111111,\"#46039f\"],[0.2222222222222222,\"#7201a8\"],[0.3333333333333333,\"#9c179e\"],[0.4444444444444444,\"#bd3786\"],[0.5555555555555556,\"#d8576b\"],[0.6666666666666666,\"#ed7953\"],[0.7777777777777778,\"#fb9f3a\"],[0.8888888888888888,\"#fdca26\"],[1.0,\"#f0f921\"]],\"sequentialminus\":[[0.0,\"#0d0887\"],[0.1111111111111111,\"#46039f\"],[0.2222222222222222,\"#7201a8\"],[0.3333333333333333,\"#9c179e\"],[0.4444444444444444,\"#bd3786\"],[0.5555555555555556,\"#d8576b\"],[0.6666666666666666,\"#ed7953\"],[0.7777777777777778,\"#fb9f3a\"],[0.8888888888888888,\"#fdca26\"],[1.0,\"#f0f921\"]],\"diverging\":[[0,\"#8e0152\"],[0.1,\"#c51b7d\"],[0.2,\"#de77ae\"],[0.3,\"#f1b6da\"],[0.4,\"#fde0ef\"],[0.5,\"#f7f7f7\"],[0.6,\"#e6f5d0\"],[0.7,\"#b8e186\"],[0.8,\"#7fbc41\"],[0.9,\"#4d9221\"],[1,\"#276419\"]]},\"xaxis\":{\"gridcolor\":\"white\",\"linecolor\":\"white\",\"ticks\":\"\",\"title\":{\"standoff\":15},\"zerolinecolor\":\"white\",\"automargin\":true,\"zerolinewidth\":2},\"yaxis\":{\"gridcolor\":\"white\",\"linecolor\":\"white\",\"ticks\":\"\",\"title\":{\"standoff\":15},\"zerolinecolor\":\"white\",\"automargin\":true,\"zerolinewidth\":2},\"scene\":{\"xaxis\":{\"backgroundcolor\":\"#E5ECF6\",\"gridcolor\":\"white\",\"linecolor\":\"white\",\"showbackground\":true,\"ticks\":\"\",\"zerolinecolor\":\"white\",\"gridwidth\":2},\"yaxis\":{\"backgroundcolor\":\"#E5ECF6\",\"gridcolor\":\"white\",\"linecolor\":\"white\",\"showbackground\":true,\"ticks\":\"\",\"zerolinecolor\":\"white\",\"gridwidth\":2},\"zaxis\":{\"backgroundcolor\":\"#E5ECF6\",\"gridcolor\":\"white\",\"linecolor\":\"white\",\"showbackground\":true,\"ticks\":\"\",\"zerolinecolor\":\"white\",\"gridwidth\":2}},\"shapedefaults\":{\"line\":{\"color\":\"#2a3f5f\"}},\"annotationdefaults\":{\"arrowcolor\":\"#2a3f5f\",\"arrowhead\":0,\"arrowwidth\":1},\"geo\":{\"bgcolor\":\"white\",\"landcolor\":\"#E5ECF6\",\"subunitcolor\":\"white\",\"showland\":true,\"showlakes\":true,\"lakecolor\":\"white\"},\"title\":{\"x\":0.05},\"mapbox\":{\"style\":\"light\"}}},\"xaxis\":{\"anchor\":\"y\",\"domain\":[0.0,1.0],\"title\":{\"text\":\"data\"}},\"yaxis\":{\"anchor\":\"x\",\"domain\":[0.0,1.0],\"title\":{\"text\":\"linear\"},\"range\":[-2,2]},\"legend\":{\"tracegroupgap\":0},\"margin\":{\"t\":60},\"width\":800},                        {\"responsive\": true}                    ).then(function(){\n",
              "                            \n",
              "var gd = document.getElementById('e5a0db12-0766-4fd1-8263-5f9ab280a8f6');\n",
              "var x = new MutationObserver(function (mutations, observer) {{\n",
              "        var display = window.getComputedStyle(gd).display;\n",
              "        if (!display || display === 'none') {{\n",
              "            console.log([gd, 'removed!']);\n",
              "            Plotly.purge(gd);\n",
              "            observer.disconnect();\n",
              "        }}\n",
              "}});\n",
              "\n",
              "// Listen for the removal of the full notebook cells\n",
              "var notebookContainer = gd.closest('#notebook-container');\n",
              "if (notebookContainer) {{\n",
              "    x.observe(notebookContainer, {childList: true});\n",
              "}}\n",
              "\n",
              "// Listen for the clearing of the current output cell\n",
              "var outputEl = gd.closest('.output');\n",
              "if (outputEl) {{\n",
              "    x.observe(outputEl, {childList: true});\n",
              "}}\n",
              "\n",
              "                        })                };                            </script>        </div>\n",
              "</body>\n",
              "</html>"
            ]
          },
          "metadata": {}
        }
      ]
    },
    {
      "cell_type": "markdown",
      "source": [
        "Sigmoid"
      ],
      "metadata": {
        "id": "11I3DT-rN-Lp"
      }
    },
    {
      "cell_type": "code",
      "source": [
        "from tensorflow.keras.activations import sigmoid\n",
        "\n",
        "data = pd.DataFrame({'data': random_data, 'sigmoid': sigmoid(random_data)})\n",
        "data.head()"
      ],
      "metadata": {
        "colab": {
          "base_uri": "https://localhost:8080/",
          "height": 206
        },
        "id": "LduQgyIMNaIE",
        "outputId": "41b561ea-d688-475c-84db-695f28717e88"
      },
      "execution_count": 10,
      "outputs": [
        {
          "output_type": "execute_result",
          "data": {
            "text/plain": [
              "       data   sigmoid\n",
              "0 -2.684796  0.063877\n",
              "1 -2.266756  0.093914\n",
              "2 -2.264480  0.094108\n",
              "3 -2.010770  0.118077\n",
              "4 -2.000333  0.119168"
            ],
            "text/html": [
              "\n",
              "  <div id=\"df-76dbbbeb-08b5-47ef-922a-442c9284f2cb\">\n",
              "    <div class=\"colab-df-container\">\n",
              "      <div>\n",
              "<style scoped>\n",
              "    .dataframe tbody tr th:only-of-type {\n",
              "        vertical-align: middle;\n",
              "    }\n",
              "\n",
              "    .dataframe tbody tr th {\n",
              "        vertical-align: top;\n",
              "    }\n",
              "\n",
              "    .dataframe thead th {\n",
              "        text-align: right;\n",
              "    }\n",
              "</style>\n",
              "<table border=\"1\" class=\"dataframe\">\n",
              "  <thead>\n",
              "    <tr style=\"text-align: right;\">\n",
              "      <th></th>\n",
              "      <th>data</th>\n",
              "      <th>sigmoid</th>\n",
              "    </tr>\n",
              "  </thead>\n",
              "  <tbody>\n",
              "    <tr>\n",
              "      <th>0</th>\n",
              "      <td>-2.684796</td>\n",
              "      <td>0.063877</td>\n",
              "    </tr>\n",
              "    <tr>\n",
              "      <th>1</th>\n",
              "      <td>-2.266756</td>\n",
              "      <td>0.093914</td>\n",
              "    </tr>\n",
              "    <tr>\n",
              "      <th>2</th>\n",
              "      <td>-2.264480</td>\n",
              "      <td>0.094108</td>\n",
              "    </tr>\n",
              "    <tr>\n",
              "      <th>3</th>\n",
              "      <td>-2.010770</td>\n",
              "      <td>0.118077</td>\n",
              "    </tr>\n",
              "    <tr>\n",
              "      <th>4</th>\n",
              "      <td>-2.000333</td>\n",
              "      <td>0.119168</td>\n",
              "    </tr>\n",
              "  </tbody>\n",
              "</table>\n",
              "</div>\n",
              "      <button class=\"colab-df-convert\" onclick=\"convertToInteractive('df-76dbbbeb-08b5-47ef-922a-442c9284f2cb')\"\n",
              "              title=\"Convert this dataframe to an interactive table.\"\n",
              "              style=\"display:none;\">\n",
              "        \n",
              "  <svg xmlns=\"http://www.w3.org/2000/svg\" height=\"24px\"viewBox=\"0 0 24 24\"\n",
              "       width=\"24px\">\n",
              "    <path d=\"M0 0h24v24H0V0z\" fill=\"none\"/>\n",
              "    <path d=\"M18.56 5.44l.94 2.06.94-2.06 2.06-.94-2.06-.94-.94-2.06-.94 2.06-2.06.94zm-11 1L8.5 8.5l.94-2.06 2.06-.94-2.06-.94L8.5 2.5l-.94 2.06-2.06.94zm10 10l.94 2.06.94-2.06 2.06-.94-2.06-.94-.94-2.06-.94 2.06-2.06.94z\"/><path d=\"M17.41 7.96l-1.37-1.37c-.4-.4-.92-.59-1.43-.59-.52 0-1.04.2-1.43.59L10.3 9.45l-7.72 7.72c-.78.78-.78 2.05 0 2.83L4 21.41c.39.39.9.59 1.41.59.51 0 1.02-.2 1.41-.59l7.78-7.78 2.81-2.81c.8-.78.8-2.07 0-2.86zM5.41 20L4 18.59l7.72-7.72 1.47 1.35L5.41 20z\"/>\n",
              "  </svg>\n",
              "      </button>\n",
              "      \n",
              "  <style>\n",
              "    .colab-df-container {\n",
              "      display:flex;\n",
              "      flex-wrap:wrap;\n",
              "      gap: 12px;\n",
              "    }\n",
              "\n",
              "    .colab-df-convert {\n",
              "      background-color: #E8F0FE;\n",
              "      border: none;\n",
              "      border-radius: 50%;\n",
              "      cursor: pointer;\n",
              "      display: none;\n",
              "      fill: #1967D2;\n",
              "      height: 32px;\n",
              "      padding: 0 0 0 0;\n",
              "      width: 32px;\n",
              "    }\n",
              "\n",
              "    .colab-df-convert:hover {\n",
              "      background-color: #E2EBFA;\n",
              "      box-shadow: 0px 1px 2px rgba(60, 64, 67, 0.3), 0px 1px 3px 1px rgba(60, 64, 67, 0.15);\n",
              "      fill: #174EA6;\n",
              "    }\n",
              "\n",
              "    [theme=dark] .colab-df-convert {\n",
              "      background-color: #3B4455;\n",
              "      fill: #D2E3FC;\n",
              "    }\n",
              "\n",
              "    [theme=dark] .colab-df-convert:hover {\n",
              "      background-color: #434B5C;\n",
              "      box-shadow: 0px 1px 3px 1px rgba(0, 0, 0, 0.15);\n",
              "      filter: drop-shadow(0px 1px 2px rgba(0, 0, 0, 0.3));\n",
              "      fill: #FFFFFF;\n",
              "    }\n",
              "  </style>\n",
              "\n",
              "      <script>\n",
              "        const buttonEl =\n",
              "          document.querySelector('#df-76dbbbeb-08b5-47ef-922a-442c9284f2cb button.colab-df-convert');\n",
              "        buttonEl.style.display =\n",
              "          google.colab.kernel.accessAllowed ? 'block' : 'none';\n",
              "\n",
              "        async function convertToInteractive(key) {\n",
              "          const element = document.querySelector('#df-76dbbbeb-08b5-47ef-922a-442c9284f2cb');\n",
              "          const dataTable =\n",
              "            await google.colab.kernel.invokeFunction('convertToInteractive',\n",
              "                                                     [key], {});\n",
              "          if (!dataTable) return;\n",
              "\n",
              "          const docLinkHtml = 'Like what you see? Visit the ' +\n",
              "            '<a target=\"_blank\" href=https://colab.research.google.com/notebooks/data_table.ipynb>data table notebook</a>'\n",
              "            + ' to learn more about interactive tables.';\n",
              "          element.innerHTML = '';\n",
              "          dataTable['output_type'] = 'display_data';\n",
              "          await google.colab.output.renderOutput(dataTable, element);\n",
              "          const docLink = document.createElement('div');\n",
              "          docLink.innerHTML = docLinkHtml;\n",
              "          element.appendChild(docLink);\n",
              "        }\n",
              "      </script>\n",
              "    </div>\n",
              "  </div>\n",
              "  "
            ]
          },
          "metadata": {},
          "execution_count": 10
        }
      ]
    },
    {
      "cell_type": "code",
      "source": [
        "px.line(data, x = 'data', y='sigmoid', width=800, range_y = [-0.5,1.5])"
      ],
      "metadata": {
        "colab": {
          "base_uri": "https://localhost:8080/",
          "height": 542
        },
        "id": "uPsKx70MNywH",
        "outputId": "67177f81-4993-486b-85a3-b0d11006982b"
      },
      "execution_count": 11,
      "outputs": [
        {
          "output_type": "display_data",
          "data": {
            "text/html": [
              "<html>\n",
              "<head><meta charset=\"utf-8\" /></head>\n",
              "<body>\n",
              "    <div>            <script src=\"https://cdnjs.cloudflare.com/ajax/libs/mathjax/2.7.5/MathJax.js?config=TeX-AMS-MML_SVG\"></script><script type=\"text/javascript\">if (window.MathJax && window.MathJax.Hub && window.MathJax.Hub.Config) {window.MathJax.Hub.Config({SVG: {font: \"STIX-Web\"}});}</script>                <script type=\"text/javascript\">window.PlotlyConfig = {MathJaxConfig: 'local'};</script>\n",
              "        <script src=\"https://cdn.plot.ly/plotly-2.18.2.min.js\"></script>                <div id=\"6d83e781-54c6-4ec3-b996-0e28d611f674\" class=\"plotly-graph-div\" style=\"height:525px; width:800px;\"></div>            <script type=\"text/javascript\">                                    window.PLOTLYENV=window.PLOTLYENV || {};                                    if (document.getElementById(\"6d83e781-54c6-4ec3-b996-0e28d611f674\")) {                    Plotly.newPlot(                        \"6d83e781-54c6-4ec3-b996-0e28d611f674\",                        [{\"hovertemplate\":\"data=%{x}<br>sigmoid=%{y}<extra></extra>\",\"legendgroup\":\"\",\"line\":{\"color\":\"#636efa\",\"dash\":\"solid\"},\"marker\":{\"symbol\":\"circle\"},\"mode\":\"lines\",\"name\":\"\",\"orientation\":\"v\",\"showlegend\":false,\"x\":[-2.684795565906477,-2.2667558160936148,-2.264479759106153,-2.0107702771818956,-2.000332666368232,-1.8832354428584683,-1.8275191662545354,-1.7074078598796245,-1.7029872990586592,-1.6148593538799738,-1.5431039390637087,-1.5410123932105155,-1.4316720793805444,-1.417759925616224,-1.3671858177589034,-1.3234203377872746,-1.2372104230308387,-1.2229951531393304,-1.206408801509876,-1.1372068756239542,-1.1072673042400176,-1.1062435017730183,-1.0684505822083954,-1.0551712934038706,-1.0523519583015155,-1.0508952595813061,-1.0485490109408597,-1.0294862202435013,-1.0237017431521271,-1.0020635786653884,-0.9462278866932021,-0.9284324614784433,-0.8702746433530408,-0.8676623945854902,-0.8504176278363189,-0.8490259035156472,-0.8451405682981623,-0.838323323000124,-0.8369205276569781,-0.7924025385063356,-0.7916649658466863,-0.7772763219614546,-0.7433233193713179,-0.699411624822523,-0.6966122562520749,-0.6588745080947183,-0.6507171184090206,-0.612850128546249,-0.6068366467033062,-0.6006814815601593,-0.5853270248197457,-0.5844579238960063,-0.5816508994956026,-0.5681248969192835,-0.5583263844010458,-0.553692659825993,-0.5150304141376122,-0.5130338484122797,-0.5045788500372291,-0.4868806480472465,-0.4783458195413033,-0.4584983927371335,-0.45642220028721464,-0.44308022029243244,-0.44050091138337144,-0.4321619179812401,-0.4153319716927889,-0.41279751249921437,-0.4069875983821267,-0.37902645007278374,-0.3635260486671029,-0.3632051765435091,-0.3552007982679532,-0.3471979772973212,-0.3415868843928979,-0.3402121563464219,-0.3371010018673922,-0.31045871868650227,-0.28711179142310134,-0.25825720475495884,-0.16338422623588647,-0.16221282612626794,-0.1464580257133667,-0.1325904760341113,-0.11033238083964475,-0.09546185780209919,-0.09061810017830475,-0.08959726045614544,-0.0798397585612092,-0.07420552111390914,-0.04684203435534242,-0.03625542959603197,-0.03389812937824503,-0.03160377210908512,-0.020010205689059358,-0.014585009903612542,0.0021054327107545693,0.02123235346670931,0.023345085190403885,0.0323260951508147,0.05361792212292535,0.07670775027999406,0.07921236101784783,0.10042301172199998,0.12750165907160477,0.12901017300892942,0.13311584434923218,0.14219612448924093,0.14722162171076916,0.15006068153535254,0.1508898991852155,0.19189373582388472,0.19240833928598183,0.2019601278604184,0.21034543554572252,0.21209489077871893,0.22288402595269416,0.23405168970477694,0.24420463703572542,0.2549527873032416,0.26052550250152234,0.29388346059224724,0.3475707666611888,0.35878270055957406,0.3647400170354895,0.3651018106401769,0.36827296512546975,0.3785857657787286,0.3802460773048267,0.3969601397138857,0.4013744012600556,0.40682016064277937,0.4166421868421415,0.4478136603362536,0.4532780555808438,0.4542715566957441,0.46324576078406,0.4713029615873358,0.4888317029924552,0.49321389855526326,0.49588140612835063,0.4962569547972923,0.5051542479384272,0.5114662740567023,0.5608883410071012,0.5666850358444591,0.5733333680371684,0.5753624893656273,0.5816994238356578,0.604844018953918,0.6551421908301001,0.6993034063921229,0.7108071213607431,0.745807031785174,0.7472565336299345,0.7706994519798109,0.7817656157827636,0.807094578191009,0.8205608584218048,0.830741836754783,0.8392657334537004,0.8492350122080349,0.8630927896972954,0.8894976892493422,0.9383166317666893,0.9558914517247713,1.0074988127436806,1.0133550695123232,1.0219886698473017,1.0635419766782246,1.106738314821484,1.1337180476098758,1.1397527213425982,1.1666869874580603,1.1739411539010474,1.2430292762815711,1.291821067636718,1.3200139489011138,1.3322742353459522,1.332910413247804,1.3654236431039342,1.3700442504880816,1.4565416667887028,1.4772723587040397,1.4858124671587687,1.5574846291086855,1.5952116717046698,1.6447873753943199,1.7589588424878944,1.8855623313059744,1.9343018123738325,1.9476076528789212,1.9491028357543991,2.0198297801550065,2.032938055327162,2.124793509765412,2.2536777177666494,2.521965738206222,2.575580635744351,4.318466653110579],\"xaxis\":\"x\",\"y\":[0.06387651881775054,0.09391390965551893,0.09410776774185739,0.11807674168353444,0.11916799861173688,0.13201768572023923,0.13853407638175058,0.15350023059628964,0.15407550926045027,0.16591504881309754,0.17608450632351444,0.17638815079125522,0.19283828858524285,0.19501299679681494,0.20307490043563836,0.2102498012512298,0.22492192520882798,0.22740978881108548,0.230337088865595,0.2428335510189344,0.2483806984586633,0.24857187904725658,0.25569785224623903,0.2582333076524417,0.2587737160914556,0.2590532234658988,0.25950382787150583,0.2631837232126471,0.26430697329801506,0.26853589068319966,0.2796440567903173,0.2832428422749134,0.29519715764665916,0.29574094175580895,0.2993452578953545,0.29963723640752515,0.3004532267114055,0.3018880290165164,0.30218375258162655,0.3116530307529449,0.3118112808137856,0.31490719769815523,0.32227785319889707,0.33194269108956215,0.33256376172017943,0.3409924829926386,0.3428279545322773,0.351409319528182,0.35278113883034673,0.3541877970137495,0.35770776863926823,0.35790747179903193,0.35855281024622115,0.3616696075824962,0.3639347904383234,0.36500810879889944,0.3740150214114348,0.3744825903783627,0.37646522694563433,0.38062868207931216,0.38264281186525984,0.3873421072374579,0.387834919820512,0.39100725966096816,0.3916216185726069,0.39361020385434664,0.39763430613020523,0.39824152021323017,0.39963465802778014,0.4063617269130537,0.41010627777291714,0.41018390511272085,0.41212181177207874,0.4140620687976915,0.4154240554464599,0.41575794267221544,0.4165138497926388,0.42300277479078996,0.42871109491694726,0.4357921740280298,0.45924456497259625,0.4595354831534304,0.4634508017771754,0.46690085767925366,0.472444852059687,0.4761526428129954,0.4773609648029968,0.4776156573907623,0.48005065630387606,0.4814571277384523,0.4882916321846948,0.4909371353074494,0.49152627905741336,0.4920997145278311,0.4949976154929909,0.49635381215938795,0.50052635798325,0.5053078889628034,0.505836006251461,0.5080808201110814,0.5134012700958509,0.5191675398817388,0.5197927420447294,0.5250846753509181,0.5318323025030174,0.532207884310527,0.5332299065536776,0.5354892526491535,0.5367390718687515,0.537444930678894,0.5376510660140457,0.5478267627199981,0.5479542333418614,0.5503191139005669,0.552393321764384,0.552825843457608,0.55549147429581,0.5582472651727499,0.5607495543529296,0.5633951728681363,0.5647654675670436,0.572946601442395,0.5860283724730497,0.5887457282842056,0.5901873723033493,0.5902748751053009,0.5910416000976685,0.5935319616037172,0.5939324524166262,0.5979570824048501,0.5990178299491047,0.6003251684965127,0.6026794761297164,0.6101192865392226,0.6114183377704018,0.6116543535355943,0.6137838778010827,0.6156921035238581,0.619831172830946,0.6208632519199602,0.6214909593135367,0.6215792993308218,0.6236698318703405,0.6251501403833153,0.6366580603234917,0.6379979131541442,0.6395319761075362,0.6399996185639715,0.641458349920799,0.6467637578817375,0.6581683062566761,0.668033310307568,0.6705794795902708,0.678264386817651,0.6785806179637076,0.6836721798197746,0.6860605197527547,0.6914900311971168,0.6943553818124799,0.6965117644524669,0.6983105484490162,0.7004066442088976,0.7033064214762625,0.7087865023846964,0.7187594994989943,0.7222984516955383,0.7325303776689859,0.7336762282070667,0.7353597871913065,0.7433668395952118,0.7515205325648976,0.7565243987592897,0.7576342354517479,0.7625456511569766,0.7638566588579634,0.7760908634564789,0.7844552642693825,0.7891840272465371,0.7912165711575175,0.7913216437656865,0.7966397679526498,0.7973873028068557,0.8110031617779925,0.8141602330500145,0.8154489147343323,0.8259921172878594,0.8313480858445287,0.8381853042099771,0.8530792146158492,0.8682487219054361,0.8737248013946886,0.8751855463240544,0.8753487822292998,0.8828634068820284,0.8842122186105015,0.8932897243443525,0.9049672957185201,0.9256674250883988,0.929273359582975,0.9868548053178791],\"yaxis\":\"y\",\"type\":\"scatter\"}],                        {\"template\":{\"data\":{\"histogram2dcontour\":[{\"type\":\"histogram2dcontour\",\"colorbar\":{\"outlinewidth\":0,\"ticks\":\"\"},\"colorscale\":[[0.0,\"#0d0887\"],[0.1111111111111111,\"#46039f\"],[0.2222222222222222,\"#7201a8\"],[0.3333333333333333,\"#9c179e\"],[0.4444444444444444,\"#bd3786\"],[0.5555555555555556,\"#d8576b\"],[0.6666666666666666,\"#ed7953\"],[0.7777777777777778,\"#fb9f3a\"],[0.8888888888888888,\"#fdca26\"],[1.0,\"#f0f921\"]]}],\"choropleth\":[{\"type\":\"choropleth\",\"colorbar\":{\"outlinewidth\":0,\"ticks\":\"\"}}],\"histogram2d\":[{\"type\":\"histogram2d\",\"colorbar\":{\"outlinewidth\":0,\"ticks\":\"\"},\"colorscale\":[[0.0,\"#0d0887\"],[0.1111111111111111,\"#46039f\"],[0.2222222222222222,\"#7201a8\"],[0.3333333333333333,\"#9c179e\"],[0.4444444444444444,\"#bd3786\"],[0.5555555555555556,\"#d8576b\"],[0.6666666666666666,\"#ed7953\"],[0.7777777777777778,\"#fb9f3a\"],[0.8888888888888888,\"#fdca26\"],[1.0,\"#f0f921\"]]}],\"heatmap\":[{\"type\":\"heatmap\",\"colorbar\":{\"outlinewidth\":0,\"ticks\":\"\"},\"colorscale\":[[0.0,\"#0d0887\"],[0.1111111111111111,\"#46039f\"],[0.2222222222222222,\"#7201a8\"],[0.3333333333333333,\"#9c179e\"],[0.4444444444444444,\"#bd3786\"],[0.5555555555555556,\"#d8576b\"],[0.6666666666666666,\"#ed7953\"],[0.7777777777777778,\"#fb9f3a\"],[0.8888888888888888,\"#fdca26\"],[1.0,\"#f0f921\"]]}],\"heatmapgl\":[{\"type\":\"heatmapgl\",\"colorbar\":{\"outlinewidth\":0,\"ticks\":\"\"},\"colorscale\":[[0.0,\"#0d0887\"],[0.1111111111111111,\"#46039f\"],[0.2222222222222222,\"#7201a8\"],[0.3333333333333333,\"#9c179e\"],[0.4444444444444444,\"#bd3786\"],[0.5555555555555556,\"#d8576b\"],[0.6666666666666666,\"#ed7953\"],[0.7777777777777778,\"#fb9f3a\"],[0.8888888888888888,\"#fdca26\"],[1.0,\"#f0f921\"]]}],\"contourcarpet\":[{\"type\":\"contourcarpet\",\"colorbar\":{\"outlinewidth\":0,\"ticks\":\"\"}}],\"contour\":[{\"type\":\"contour\",\"colorbar\":{\"outlinewidth\":0,\"ticks\":\"\"},\"colorscale\":[[0.0,\"#0d0887\"],[0.1111111111111111,\"#46039f\"],[0.2222222222222222,\"#7201a8\"],[0.3333333333333333,\"#9c179e\"],[0.4444444444444444,\"#bd3786\"],[0.5555555555555556,\"#d8576b\"],[0.6666666666666666,\"#ed7953\"],[0.7777777777777778,\"#fb9f3a\"],[0.8888888888888888,\"#fdca26\"],[1.0,\"#f0f921\"]]}],\"surface\":[{\"type\":\"surface\",\"colorbar\":{\"outlinewidth\":0,\"ticks\":\"\"},\"colorscale\":[[0.0,\"#0d0887\"],[0.1111111111111111,\"#46039f\"],[0.2222222222222222,\"#7201a8\"],[0.3333333333333333,\"#9c179e\"],[0.4444444444444444,\"#bd3786\"],[0.5555555555555556,\"#d8576b\"],[0.6666666666666666,\"#ed7953\"],[0.7777777777777778,\"#fb9f3a\"],[0.8888888888888888,\"#fdca26\"],[1.0,\"#f0f921\"]]}],\"mesh3d\":[{\"type\":\"mesh3d\",\"colorbar\":{\"outlinewidth\":0,\"ticks\":\"\"}}],\"scatter\":[{\"fillpattern\":{\"fillmode\":\"overlay\",\"size\":10,\"solidity\":0.2},\"type\":\"scatter\"}],\"parcoords\":[{\"type\":\"parcoords\",\"line\":{\"colorbar\":{\"outlinewidth\":0,\"ticks\":\"\"}}}],\"scatterpolargl\":[{\"type\":\"scatterpolargl\",\"marker\":{\"colorbar\":{\"outlinewidth\":0,\"ticks\":\"\"}}}],\"bar\":[{\"error_x\":{\"color\":\"#2a3f5f\"},\"error_y\":{\"color\":\"#2a3f5f\"},\"marker\":{\"line\":{\"color\":\"#E5ECF6\",\"width\":0.5},\"pattern\":{\"fillmode\":\"overlay\",\"size\":10,\"solidity\":0.2}},\"type\":\"bar\"}],\"scattergeo\":[{\"type\":\"scattergeo\",\"marker\":{\"colorbar\":{\"outlinewidth\":0,\"ticks\":\"\"}}}],\"scatterpolar\":[{\"type\":\"scatterpolar\",\"marker\":{\"colorbar\":{\"outlinewidth\":0,\"ticks\":\"\"}}}],\"histogram\":[{\"marker\":{\"pattern\":{\"fillmode\":\"overlay\",\"size\":10,\"solidity\":0.2}},\"type\":\"histogram\"}],\"scattergl\":[{\"type\":\"scattergl\",\"marker\":{\"colorbar\":{\"outlinewidth\":0,\"ticks\":\"\"}}}],\"scatter3d\":[{\"type\":\"scatter3d\",\"line\":{\"colorbar\":{\"outlinewidth\":0,\"ticks\":\"\"}},\"marker\":{\"colorbar\":{\"outlinewidth\":0,\"ticks\":\"\"}}}],\"scattermapbox\":[{\"type\":\"scattermapbox\",\"marker\":{\"colorbar\":{\"outlinewidth\":0,\"ticks\":\"\"}}}],\"scatterternary\":[{\"type\":\"scatterternary\",\"marker\":{\"colorbar\":{\"outlinewidth\":0,\"ticks\":\"\"}}}],\"scattercarpet\":[{\"type\":\"scattercarpet\",\"marker\":{\"colorbar\":{\"outlinewidth\":0,\"ticks\":\"\"}}}],\"carpet\":[{\"aaxis\":{\"endlinecolor\":\"#2a3f5f\",\"gridcolor\":\"white\",\"linecolor\":\"white\",\"minorgridcolor\":\"white\",\"startlinecolor\":\"#2a3f5f\"},\"baxis\":{\"endlinecolor\":\"#2a3f5f\",\"gridcolor\":\"white\",\"linecolor\":\"white\",\"minorgridcolor\":\"white\",\"startlinecolor\":\"#2a3f5f\"},\"type\":\"carpet\"}],\"table\":[{\"cells\":{\"fill\":{\"color\":\"#EBF0F8\"},\"line\":{\"color\":\"white\"}},\"header\":{\"fill\":{\"color\":\"#C8D4E3\"},\"line\":{\"color\":\"white\"}},\"type\":\"table\"}],\"barpolar\":[{\"marker\":{\"line\":{\"color\":\"#E5ECF6\",\"width\":0.5},\"pattern\":{\"fillmode\":\"overlay\",\"size\":10,\"solidity\":0.2}},\"type\":\"barpolar\"}],\"pie\":[{\"automargin\":true,\"type\":\"pie\"}]},\"layout\":{\"autotypenumbers\":\"strict\",\"colorway\":[\"#636efa\",\"#EF553B\",\"#00cc96\",\"#ab63fa\",\"#FFA15A\",\"#19d3f3\",\"#FF6692\",\"#B6E880\",\"#FF97FF\",\"#FECB52\"],\"font\":{\"color\":\"#2a3f5f\"},\"hovermode\":\"closest\",\"hoverlabel\":{\"align\":\"left\"},\"paper_bgcolor\":\"white\",\"plot_bgcolor\":\"#E5ECF6\",\"polar\":{\"bgcolor\":\"#E5ECF6\",\"angularaxis\":{\"gridcolor\":\"white\",\"linecolor\":\"white\",\"ticks\":\"\"},\"radialaxis\":{\"gridcolor\":\"white\",\"linecolor\":\"white\",\"ticks\":\"\"}},\"ternary\":{\"bgcolor\":\"#E5ECF6\",\"aaxis\":{\"gridcolor\":\"white\",\"linecolor\":\"white\",\"ticks\":\"\"},\"baxis\":{\"gridcolor\":\"white\",\"linecolor\":\"white\",\"ticks\":\"\"},\"caxis\":{\"gridcolor\":\"white\",\"linecolor\":\"white\",\"ticks\":\"\"}},\"coloraxis\":{\"colorbar\":{\"outlinewidth\":0,\"ticks\":\"\"}},\"colorscale\":{\"sequential\":[[0.0,\"#0d0887\"],[0.1111111111111111,\"#46039f\"],[0.2222222222222222,\"#7201a8\"],[0.3333333333333333,\"#9c179e\"],[0.4444444444444444,\"#bd3786\"],[0.5555555555555556,\"#d8576b\"],[0.6666666666666666,\"#ed7953\"],[0.7777777777777778,\"#fb9f3a\"],[0.8888888888888888,\"#fdca26\"],[1.0,\"#f0f921\"]],\"sequentialminus\":[[0.0,\"#0d0887\"],[0.1111111111111111,\"#46039f\"],[0.2222222222222222,\"#7201a8\"],[0.3333333333333333,\"#9c179e\"],[0.4444444444444444,\"#bd3786\"],[0.5555555555555556,\"#d8576b\"],[0.6666666666666666,\"#ed7953\"],[0.7777777777777778,\"#fb9f3a\"],[0.8888888888888888,\"#fdca26\"],[1.0,\"#f0f921\"]],\"diverging\":[[0,\"#8e0152\"],[0.1,\"#c51b7d\"],[0.2,\"#de77ae\"],[0.3,\"#f1b6da\"],[0.4,\"#fde0ef\"],[0.5,\"#f7f7f7\"],[0.6,\"#e6f5d0\"],[0.7,\"#b8e186\"],[0.8,\"#7fbc41\"],[0.9,\"#4d9221\"],[1,\"#276419\"]]},\"xaxis\":{\"gridcolor\":\"white\",\"linecolor\":\"white\",\"ticks\":\"\",\"title\":{\"standoff\":15},\"zerolinecolor\":\"white\",\"automargin\":true,\"zerolinewidth\":2},\"yaxis\":{\"gridcolor\":\"white\",\"linecolor\":\"white\",\"ticks\":\"\",\"title\":{\"standoff\":15},\"zerolinecolor\":\"white\",\"automargin\":true,\"zerolinewidth\":2},\"scene\":{\"xaxis\":{\"backgroundcolor\":\"#E5ECF6\",\"gridcolor\":\"white\",\"linecolor\":\"white\",\"showbackground\":true,\"ticks\":\"\",\"zerolinecolor\":\"white\",\"gridwidth\":2},\"yaxis\":{\"backgroundcolor\":\"#E5ECF6\",\"gridcolor\":\"white\",\"linecolor\":\"white\",\"showbackground\":true,\"ticks\":\"\",\"zerolinecolor\":\"white\",\"gridwidth\":2},\"zaxis\":{\"backgroundcolor\":\"#E5ECF6\",\"gridcolor\":\"white\",\"linecolor\":\"white\",\"showbackground\":true,\"ticks\":\"\",\"zerolinecolor\":\"white\",\"gridwidth\":2}},\"shapedefaults\":{\"line\":{\"color\":\"#2a3f5f\"}},\"annotationdefaults\":{\"arrowcolor\":\"#2a3f5f\",\"arrowhead\":0,\"arrowwidth\":1},\"geo\":{\"bgcolor\":\"white\",\"landcolor\":\"#E5ECF6\",\"subunitcolor\":\"white\",\"showland\":true,\"showlakes\":true,\"lakecolor\":\"white\"},\"title\":{\"x\":0.05},\"mapbox\":{\"style\":\"light\"}}},\"xaxis\":{\"anchor\":\"y\",\"domain\":[0.0,1.0],\"title\":{\"text\":\"data\"}},\"yaxis\":{\"anchor\":\"x\",\"domain\":[0.0,1.0],\"title\":{\"text\":\"sigmoid\"},\"range\":[-0.5,1.5]},\"legend\":{\"tracegroupgap\":0},\"margin\":{\"t\":60},\"width\":800},                        {\"responsive\": true}                    ).then(function(){\n",
              "                            \n",
              "var gd = document.getElementById('6d83e781-54c6-4ec3-b996-0e28d611f674');\n",
              "var x = new MutationObserver(function (mutations, observer) {{\n",
              "        var display = window.getComputedStyle(gd).display;\n",
              "        if (!display || display === 'none') {{\n",
              "            console.log([gd, 'removed!']);\n",
              "            Plotly.purge(gd);\n",
              "            observer.disconnect();\n",
              "        }}\n",
              "}});\n",
              "\n",
              "// Listen for the removal of the full notebook cells\n",
              "var notebookContainer = gd.closest('#notebook-container');\n",
              "if (notebookContainer) {{\n",
              "    x.observe(notebookContainer, {childList: true});\n",
              "}}\n",
              "\n",
              "// Listen for the clearing of the current output cell\n",
              "var outputEl = gd.closest('.output');\n",
              "if (outputEl) {{\n",
              "    x.observe(outputEl, {childList: true});\n",
              "}}\n",
              "\n",
              "                        })                };                            </script>        </div>\n",
              "</body>\n",
              "</html>"
            ]
          },
          "metadata": {}
        }
      ]
    },
    {
      "cell_type": "markdown",
      "source": [
        "Relu"
      ],
      "metadata": {
        "id": "usjEZkFsN_7u"
      }
    },
    {
      "cell_type": "code",
      "source": [
        "from tensorflow.keras.activations import relu\n",
        "\n",
        "data = pd.DataFrame({'data': random_data, 'relu': relu(random_data)})\n",
        "data[96:105]"
      ],
      "metadata": {
        "colab": {
          "base_uri": "https://localhost:8080/",
          "height": 331
        },
        "id": "uzmFKKYQN3TT",
        "outputId": "f2bea995-ee7c-4258-efef-95ae2a719e17"
      },
      "execution_count": 12,
      "outputs": [
        {
          "output_type": "execute_result",
          "data": {
            "text/plain": [
              "         data      relu\n",
              "96   0.002105  0.002105\n",
              "97   0.021232  0.021232\n",
              "98   0.023345  0.023345\n",
              "99   0.032326  0.032326\n",
              "100  0.053618  0.053618\n",
              "101  0.076708  0.076708\n",
              "102  0.079212  0.079212\n",
              "103  0.100423  0.100423\n",
              "104  0.127502  0.127502"
            ],
            "text/html": [
              "\n",
              "  <div id=\"df-48e4c222-768a-43cd-928a-6e06e303c8de\">\n",
              "    <div class=\"colab-df-container\">\n",
              "      <div>\n",
              "<style scoped>\n",
              "    .dataframe tbody tr th:only-of-type {\n",
              "        vertical-align: middle;\n",
              "    }\n",
              "\n",
              "    .dataframe tbody tr th {\n",
              "        vertical-align: top;\n",
              "    }\n",
              "\n",
              "    .dataframe thead th {\n",
              "        text-align: right;\n",
              "    }\n",
              "</style>\n",
              "<table border=\"1\" class=\"dataframe\">\n",
              "  <thead>\n",
              "    <tr style=\"text-align: right;\">\n",
              "      <th></th>\n",
              "      <th>data</th>\n",
              "      <th>relu</th>\n",
              "    </tr>\n",
              "  </thead>\n",
              "  <tbody>\n",
              "    <tr>\n",
              "      <th>96</th>\n",
              "      <td>0.002105</td>\n",
              "      <td>0.002105</td>\n",
              "    </tr>\n",
              "    <tr>\n",
              "      <th>97</th>\n",
              "      <td>0.021232</td>\n",
              "      <td>0.021232</td>\n",
              "    </tr>\n",
              "    <tr>\n",
              "      <th>98</th>\n",
              "      <td>0.023345</td>\n",
              "      <td>0.023345</td>\n",
              "    </tr>\n",
              "    <tr>\n",
              "      <th>99</th>\n",
              "      <td>0.032326</td>\n",
              "      <td>0.032326</td>\n",
              "    </tr>\n",
              "    <tr>\n",
              "      <th>100</th>\n",
              "      <td>0.053618</td>\n",
              "      <td>0.053618</td>\n",
              "    </tr>\n",
              "    <tr>\n",
              "      <th>101</th>\n",
              "      <td>0.076708</td>\n",
              "      <td>0.076708</td>\n",
              "    </tr>\n",
              "    <tr>\n",
              "      <th>102</th>\n",
              "      <td>0.079212</td>\n",
              "      <td>0.079212</td>\n",
              "    </tr>\n",
              "    <tr>\n",
              "      <th>103</th>\n",
              "      <td>0.100423</td>\n",
              "      <td>0.100423</td>\n",
              "    </tr>\n",
              "    <tr>\n",
              "      <th>104</th>\n",
              "      <td>0.127502</td>\n",
              "      <td>0.127502</td>\n",
              "    </tr>\n",
              "  </tbody>\n",
              "</table>\n",
              "</div>\n",
              "      <button class=\"colab-df-convert\" onclick=\"convertToInteractive('df-48e4c222-768a-43cd-928a-6e06e303c8de')\"\n",
              "              title=\"Convert this dataframe to an interactive table.\"\n",
              "              style=\"display:none;\">\n",
              "        \n",
              "  <svg xmlns=\"http://www.w3.org/2000/svg\" height=\"24px\"viewBox=\"0 0 24 24\"\n",
              "       width=\"24px\">\n",
              "    <path d=\"M0 0h24v24H0V0z\" fill=\"none\"/>\n",
              "    <path d=\"M18.56 5.44l.94 2.06.94-2.06 2.06-.94-2.06-.94-.94-2.06-.94 2.06-2.06.94zm-11 1L8.5 8.5l.94-2.06 2.06-.94-2.06-.94L8.5 2.5l-.94 2.06-2.06.94zm10 10l.94 2.06.94-2.06 2.06-.94-2.06-.94-.94-2.06-.94 2.06-2.06.94z\"/><path d=\"M17.41 7.96l-1.37-1.37c-.4-.4-.92-.59-1.43-.59-.52 0-1.04.2-1.43.59L10.3 9.45l-7.72 7.72c-.78.78-.78 2.05 0 2.83L4 21.41c.39.39.9.59 1.41.59.51 0 1.02-.2 1.41-.59l7.78-7.78 2.81-2.81c.8-.78.8-2.07 0-2.86zM5.41 20L4 18.59l7.72-7.72 1.47 1.35L5.41 20z\"/>\n",
              "  </svg>\n",
              "      </button>\n",
              "      \n",
              "  <style>\n",
              "    .colab-df-container {\n",
              "      display:flex;\n",
              "      flex-wrap:wrap;\n",
              "      gap: 12px;\n",
              "    }\n",
              "\n",
              "    .colab-df-convert {\n",
              "      background-color: #E8F0FE;\n",
              "      border: none;\n",
              "      border-radius: 50%;\n",
              "      cursor: pointer;\n",
              "      display: none;\n",
              "      fill: #1967D2;\n",
              "      height: 32px;\n",
              "      padding: 0 0 0 0;\n",
              "      width: 32px;\n",
              "    }\n",
              "\n",
              "    .colab-df-convert:hover {\n",
              "      background-color: #E2EBFA;\n",
              "      box-shadow: 0px 1px 2px rgba(60, 64, 67, 0.3), 0px 1px 3px 1px rgba(60, 64, 67, 0.15);\n",
              "      fill: #174EA6;\n",
              "    }\n",
              "\n",
              "    [theme=dark] .colab-df-convert {\n",
              "      background-color: #3B4455;\n",
              "      fill: #D2E3FC;\n",
              "    }\n",
              "\n",
              "    [theme=dark] .colab-df-convert:hover {\n",
              "      background-color: #434B5C;\n",
              "      box-shadow: 0px 1px 3px 1px rgba(0, 0, 0, 0.15);\n",
              "      filter: drop-shadow(0px 1px 2px rgba(0, 0, 0, 0.3));\n",
              "      fill: #FFFFFF;\n",
              "    }\n",
              "  </style>\n",
              "\n",
              "      <script>\n",
              "        const buttonEl =\n",
              "          document.querySelector('#df-48e4c222-768a-43cd-928a-6e06e303c8de button.colab-df-convert');\n",
              "        buttonEl.style.display =\n",
              "          google.colab.kernel.accessAllowed ? 'block' : 'none';\n",
              "\n",
              "        async function convertToInteractive(key) {\n",
              "          const element = document.querySelector('#df-48e4c222-768a-43cd-928a-6e06e303c8de');\n",
              "          const dataTable =\n",
              "            await google.colab.kernel.invokeFunction('convertToInteractive',\n",
              "                                                     [key], {});\n",
              "          if (!dataTable) return;\n",
              "\n",
              "          const docLinkHtml = 'Like what you see? Visit the ' +\n",
              "            '<a target=\"_blank\" href=https://colab.research.google.com/notebooks/data_table.ipynb>data table notebook</a>'\n",
              "            + ' to learn more about interactive tables.';\n",
              "          element.innerHTML = '';\n",
              "          dataTable['output_type'] = 'display_data';\n",
              "          await google.colab.output.renderOutput(dataTable, element);\n",
              "          const docLink = document.createElement('div');\n",
              "          docLink.innerHTML = docLinkHtml;\n",
              "          element.appendChild(docLink);\n",
              "        }\n",
              "      </script>\n",
              "    </div>\n",
              "  </div>\n",
              "  "
            ]
          },
          "metadata": {},
          "execution_count": 12
        }
      ]
    },
    {
      "cell_type": "code",
      "source": [
        "px.line(data, x = 'data', y='relu', width=800, range_y = [-0.5,1.5])"
      ],
      "metadata": {
        "colab": {
          "base_uri": "https://localhost:8080/",
          "height": 542
        },
        "id": "XrdY4QMaOFlT",
        "outputId": "34891a4f-8de4-4d89-e1ab-b82beb376d97"
      },
      "execution_count": 13,
      "outputs": [
        {
          "output_type": "display_data",
          "data": {
            "text/html": [
              "<html>\n",
              "<head><meta charset=\"utf-8\" /></head>\n",
              "<body>\n",
              "    <div>            <script src=\"https://cdnjs.cloudflare.com/ajax/libs/mathjax/2.7.5/MathJax.js?config=TeX-AMS-MML_SVG\"></script><script type=\"text/javascript\">if (window.MathJax && window.MathJax.Hub && window.MathJax.Hub.Config) {window.MathJax.Hub.Config({SVG: {font: \"STIX-Web\"}});}</script>                <script type=\"text/javascript\">window.PlotlyConfig = {MathJaxConfig: 'local'};</script>\n",
              "        <script src=\"https://cdn.plot.ly/plotly-2.18.2.min.js\"></script>                <div id=\"6585dc73-5b0a-4eb9-b285-730590063094\" class=\"plotly-graph-div\" style=\"height:525px; width:800px;\"></div>            <script type=\"text/javascript\">                                    window.PLOTLYENV=window.PLOTLYENV || {};                                    if (document.getElementById(\"6585dc73-5b0a-4eb9-b285-730590063094\")) {                    Plotly.newPlot(                        \"6585dc73-5b0a-4eb9-b285-730590063094\",                        [{\"hovertemplate\":\"data=%{x}<br>relu=%{y}<extra></extra>\",\"legendgroup\":\"\",\"line\":{\"color\":\"#636efa\",\"dash\":\"solid\"},\"marker\":{\"symbol\":\"circle\"},\"mode\":\"lines\",\"name\":\"\",\"orientation\":\"v\",\"showlegend\":false,\"x\":[-2.684795565906477,-2.2667558160936148,-2.264479759106153,-2.0107702771818956,-2.000332666368232,-1.8832354428584683,-1.8275191662545354,-1.7074078598796245,-1.7029872990586592,-1.6148593538799738,-1.5431039390637087,-1.5410123932105155,-1.4316720793805444,-1.417759925616224,-1.3671858177589034,-1.3234203377872746,-1.2372104230308387,-1.2229951531393304,-1.206408801509876,-1.1372068756239542,-1.1072673042400176,-1.1062435017730183,-1.0684505822083954,-1.0551712934038706,-1.0523519583015155,-1.0508952595813061,-1.0485490109408597,-1.0294862202435013,-1.0237017431521271,-1.0020635786653884,-0.9462278866932021,-0.9284324614784433,-0.8702746433530408,-0.8676623945854902,-0.8504176278363189,-0.8490259035156472,-0.8451405682981623,-0.838323323000124,-0.8369205276569781,-0.7924025385063356,-0.7916649658466863,-0.7772763219614546,-0.7433233193713179,-0.699411624822523,-0.6966122562520749,-0.6588745080947183,-0.6507171184090206,-0.612850128546249,-0.6068366467033062,-0.6006814815601593,-0.5853270248197457,-0.5844579238960063,-0.5816508994956026,-0.5681248969192835,-0.5583263844010458,-0.553692659825993,-0.5150304141376122,-0.5130338484122797,-0.5045788500372291,-0.4868806480472465,-0.4783458195413033,-0.4584983927371335,-0.45642220028721464,-0.44308022029243244,-0.44050091138337144,-0.4321619179812401,-0.4153319716927889,-0.41279751249921437,-0.4069875983821267,-0.37902645007278374,-0.3635260486671029,-0.3632051765435091,-0.3552007982679532,-0.3471979772973212,-0.3415868843928979,-0.3402121563464219,-0.3371010018673922,-0.31045871868650227,-0.28711179142310134,-0.25825720475495884,-0.16338422623588647,-0.16221282612626794,-0.1464580257133667,-0.1325904760341113,-0.11033238083964475,-0.09546185780209919,-0.09061810017830475,-0.08959726045614544,-0.0798397585612092,-0.07420552111390914,-0.04684203435534242,-0.03625542959603197,-0.03389812937824503,-0.03160377210908512,-0.020010205689059358,-0.014585009903612542,0.0021054327107545693,0.02123235346670931,0.023345085190403885,0.0323260951508147,0.05361792212292535,0.07670775027999406,0.07921236101784783,0.10042301172199998,0.12750165907160477,0.12901017300892942,0.13311584434923218,0.14219612448924093,0.14722162171076916,0.15006068153535254,0.1508898991852155,0.19189373582388472,0.19240833928598183,0.2019601278604184,0.21034543554572252,0.21209489077871893,0.22288402595269416,0.23405168970477694,0.24420463703572542,0.2549527873032416,0.26052550250152234,0.29388346059224724,0.3475707666611888,0.35878270055957406,0.3647400170354895,0.3651018106401769,0.36827296512546975,0.3785857657787286,0.3802460773048267,0.3969601397138857,0.4013744012600556,0.40682016064277937,0.4166421868421415,0.4478136603362536,0.4532780555808438,0.4542715566957441,0.46324576078406,0.4713029615873358,0.4888317029924552,0.49321389855526326,0.49588140612835063,0.4962569547972923,0.5051542479384272,0.5114662740567023,0.5608883410071012,0.5666850358444591,0.5733333680371684,0.5753624893656273,0.5816994238356578,0.604844018953918,0.6551421908301001,0.6993034063921229,0.7108071213607431,0.745807031785174,0.7472565336299345,0.7706994519798109,0.7817656157827636,0.807094578191009,0.8205608584218048,0.830741836754783,0.8392657334537004,0.8492350122080349,0.8630927896972954,0.8894976892493422,0.9383166317666893,0.9558914517247713,1.0074988127436806,1.0133550695123232,1.0219886698473017,1.0635419766782246,1.106738314821484,1.1337180476098758,1.1397527213425982,1.1666869874580603,1.1739411539010474,1.2430292762815711,1.291821067636718,1.3200139489011138,1.3322742353459522,1.332910413247804,1.3654236431039342,1.3700442504880816,1.4565416667887028,1.4772723587040397,1.4858124671587687,1.5574846291086855,1.5952116717046698,1.6447873753943199,1.7589588424878944,1.8855623313059744,1.9343018123738325,1.9476076528789212,1.9491028357543991,2.0198297801550065,2.032938055327162,2.124793509765412,2.2536777177666494,2.521965738206222,2.575580635744351,4.318466653110579],\"xaxis\":\"x\",\"y\":[0.0,0.0,0.0,0.0,0.0,0.0,0.0,0.0,0.0,0.0,0.0,0.0,0.0,0.0,0.0,0.0,0.0,0.0,0.0,0.0,0.0,0.0,0.0,0.0,0.0,0.0,0.0,0.0,0.0,0.0,0.0,0.0,0.0,0.0,0.0,0.0,0.0,0.0,0.0,0.0,0.0,0.0,0.0,0.0,0.0,0.0,0.0,0.0,0.0,0.0,0.0,0.0,0.0,0.0,0.0,0.0,0.0,0.0,0.0,0.0,0.0,0.0,0.0,0.0,0.0,0.0,0.0,0.0,0.0,0.0,0.0,0.0,0.0,0.0,0.0,0.0,0.0,0.0,0.0,0.0,0.0,0.0,0.0,0.0,0.0,0.0,0.0,0.0,0.0,0.0,0.0,0.0,0.0,0.0,0.0,0.0,0.0021054327107545693,0.02123235346670931,0.023345085190403885,0.0323260951508147,0.05361792212292535,0.07670775027999406,0.07921236101784783,0.10042301172199998,0.12750165907160477,0.12901017300892942,0.13311584434923218,0.14219612448924093,0.14722162171076916,0.15006068153535254,0.1508898991852155,0.19189373582388472,0.19240833928598183,0.2019601278604184,0.21034543554572252,0.21209489077871893,0.22288402595269416,0.23405168970477694,0.24420463703572542,0.2549527873032416,0.26052550250152234,0.29388346059224724,0.3475707666611888,0.35878270055957406,0.3647400170354895,0.3651018106401769,0.36827296512546975,0.3785857657787286,0.3802460773048267,0.3969601397138857,0.4013744012600556,0.40682016064277937,0.4166421868421415,0.4478136603362536,0.4532780555808438,0.4542715566957441,0.46324576078406,0.4713029615873358,0.4888317029924552,0.49321389855526326,0.49588140612835063,0.4962569547972923,0.5051542479384272,0.5114662740567023,0.5608883410071012,0.5666850358444591,0.5733333680371684,0.5753624893656273,0.5816994238356578,0.604844018953918,0.6551421908301001,0.6993034063921229,0.7108071213607431,0.745807031785174,0.7472565336299345,0.7706994519798109,0.7817656157827636,0.807094578191009,0.8205608584218048,0.830741836754783,0.8392657334537004,0.8492350122080349,0.8630927896972954,0.8894976892493422,0.9383166317666893,0.9558914517247713,1.0074988127436806,1.0133550695123232,1.0219886698473017,1.0635419766782246,1.106738314821484,1.1337180476098758,1.1397527213425982,1.1666869874580603,1.1739411539010474,1.2430292762815711,1.291821067636718,1.3200139489011138,1.3322742353459522,1.332910413247804,1.3654236431039342,1.3700442504880816,1.4565416667887028,1.4772723587040397,1.4858124671587687,1.5574846291086855,1.5952116717046698,1.6447873753943199,1.7589588424878944,1.8855623313059744,1.9343018123738325,1.9476076528789212,1.9491028357543991,2.0198297801550065,2.032938055327162,2.124793509765412,2.2536777177666494,2.521965738206222,2.575580635744351,4.318466653110579],\"yaxis\":\"y\",\"type\":\"scatter\"}],                        {\"template\":{\"data\":{\"histogram2dcontour\":[{\"type\":\"histogram2dcontour\",\"colorbar\":{\"outlinewidth\":0,\"ticks\":\"\"},\"colorscale\":[[0.0,\"#0d0887\"],[0.1111111111111111,\"#46039f\"],[0.2222222222222222,\"#7201a8\"],[0.3333333333333333,\"#9c179e\"],[0.4444444444444444,\"#bd3786\"],[0.5555555555555556,\"#d8576b\"],[0.6666666666666666,\"#ed7953\"],[0.7777777777777778,\"#fb9f3a\"],[0.8888888888888888,\"#fdca26\"],[1.0,\"#f0f921\"]]}],\"choropleth\":[{\"type\":\"choropleth\",\"colorbar\":{\"outlinewidth\":0,\"ticks\":\"\"}}],\"histogram2d\":[{\"type\":\"histogram2d\",\"colorbar\":{\"outlinewidth\":0,\"ticks\":\"\"},\"colorscale\":[[0.0,\"#0d0887\"],[0.1111111111111111,\"#46039f\"],[0.2222222222222222,\"#7201a8\"],[0.3333333333333333,\"#9c179e\"],[0.4444444444444444,\"#bd3786\"],[0.5555555555555556,\"#d8576b\"],[0.6666666666666666,\"#ed7953\"],[0.7777777777777778,\"#fb9f3a\"],[0.8888888888888888,\"#fdca26\"],[1.0,\"#f0f921\"]]}],\"heatmap\":[{\"type\":\"heatmap\",\"colorbar\":{\"outlinewidth\":0,\"ticks\":\"\"},\"colorscale\":[[0.0,\"#0d0887\"],[0.1111111111111111,\"#46039f\"],[0.2222222222222222,\"#7201a8\"],[0.3333333333333333,\"#9c179e\"],[0.4444444444444444,\"#bd3786\"],[0.5555555555555556,\"#d8576b\"],[0.6666666666666666,\"#ed7953\"],[0.7777777777777778,\"#fb9f3a\"],[0.8888888888888888,\"#fdca26\"],[1.0,\"#f0f921\"]]}],\"heatmapgl\":[{\"type\":\"heatmapgl\",\"colorbar\":{\"outlinewidth\":0,\"ticks\":\"\"},\"colorscale\":[[0.0,\"#0d0887\"],[0.1111111111111111,\"#46039f\"],[0.2222222222222222,\"#7201a8\"],[0.3333333333333333,\"#9c179e\"],[0.4444444444444444,\"#bd3786\"],[0.5555555555555556,\"#d8576b\"],[0.6666666666666666,\"#ed7953\"],[0.7777777777777778,\"#fb9f3a\"],[0.8888888888888888,\"#fdca26\"],[1.0,\"#f0f921\"]]}],\"contourcarpet\":[{\"type\":\"contourcarpet\",\"colorbar\":{\"outlinewidth\":0,\"ticks\":\"\"}}],\"contour\":[{\"type\":\"contour\",\"colorbar\":{\"outlinewidth\":0,\"ticks\":\"\"},\"colorscale\":[[0.0,\"#0d0887\"],[0.1111111111111111,\"#46039f\"],[0.2222222222222222,\"#7201a8\"],[0.3333333333333333,\"#9c179e\"],[0.4444444444444444,\"#bd3786\"],[0.5555555555555556,\"#d8576b\"],[0.6666666666666666,\"#ed7953\"],[0.7777777777777778,\"#fb9f3a\"],[0.8888888888888888,\"#fdca26\"],[1.0,\"#f0f921\"]]}],\"surface\":[{\"type\":\"surface\",\"colorbar\":{\"outlinewidth\":0,\"ticks\":\"\"},\"colorscale\":[[0.0,\"#0d0887\"],[0.1111111111111111,\"#46039f\"],[0.2222222222222222,\"#7201a8\"],[0.3333333333333333,\"#9c179e\"],[0.4444444444444444,\"#bd3786\"],[0.5555555555555556,\"#d8576b\"],[0.6666666666666666,\"#ed7953\"],[0.7777777777777778,\"#fb9f3a\"],[0.8888888888888888,\"#fdca26\"],[1.0,\"#f0f921\"]]}],\"mesh3d\":[{\"type\":\"mesh3d\",\"colorbar\":{\"outlinewidth\":0,\"ticks\":\"\"}}],\"scatter\":[{\"fillpattern\":{\"fillmode\":\"overlay\",\"size\":10,\"solidity\":0.2},\"type\":\"scatter\"}],\"parcoords\":[{\"type\":\"parcoords\",\"line\":{\"colorbar\":{\"outlinewidth\":0,\"ticks\":\"\"}}}],\"scatterpolargl\":[{\"type\":\"scatterpolargl\",\"marker\":{\"colorbar\":{\"outlinewidth\":0,\"ticks\":\"\"}}}],\"bar\":[{\"error_x\":{\"color\":\"#2a3f5f\"},\"error_y\":{\"color\":\"#2a3f5f\"},\"marker\":{\"line\":{\"color\":\"#E5ECF6\",\"width\":0.5},\"pattern\":{\"fillmode\":\"overlay\",\"size\":10,\"solidity\":0.2}},\"type\":\"bar\"}],\"scattergeo\":[{\"type\":\"scattergeo\",\"marker\":{\"colorbar\":{\"outlinewidth\":0,\"ticks\":\"\"}}}],\"scatterpolar\":[{\"type\":\"scatterpolar\",\"marker\":{\"colorbar\":{\"outlinewidth\":0,\"ticks\":\"\"}}}],\"histogram\":[{\"marker\":{\"pattern\":{\"fillmode\":\"overlay\",\"size\":10,\"solidity\":0.2}},\"type\":\"histogram\"}],\"scattergl\":[{\"type\":\"scattergl\",\"marker\":{\"colorbar\":{\"outlinewidth\":0,\"ticks\":\"\"}}}],\"scatter3d\":[{\"type\":\"scatter3d\",\"line\":{\"colorbar\":{\"outlinewidth\":0,\"ticks\":\"\"}},\"marker\":{\"colorbar\":{\"outlinewidth\":0,\"ticks\":\"\"}}}],\"scattermapbox\":[{\"type\":\"scattermapbox\",\"marker\":{\"colorbar\":{\"outlinewidth\":0,\"ticks\":\"\"}}}],\"scatterternary\":[{\"type\":\"scatterternary\",\"marker\":{\"colorbar\":{\"outlinewidth\":0,\"ticks\":\"\"}}}],\"scattercarpet\":[{\"type\":\"scattercarpet\",\"marker\":{\"colorbar\":{\"outlinewidth\":0,\"ticks\":\"\"}}}],\"carpet\":[{\"aaxis\":{\"endlinecolor\":\"#2a3f5f\",\"gridcolor\":\"white\",\"linecolor\":\"white\",\"minorgridcolor\":\"white\",\"startlinecolor\":\"#2a3f5f\"},\"baxis\":{\"endlinecolor\":\"#2a3f5f\",\"gridcolor\":\"white\",\"linecolor\":\"white\",\"minorgridcolor\":\"white\",\"startlinecolor\":\"#2a3f5f\"},\"type\":\"carpet\"}],\"table\":[{\"cells\":{\"fill\":{\"color\":\"#EBF0F8\"},\"line\":{\"color\":\"white\"}},\"header\":{\"fill\":{\"color\":\"#C8D4E3\"},\"line\":{\"color\":\"white\"}},\"type\":\"table\"}],\"barpolar\":[{\"marker\":{\"line\":{\"color\":\"#E5ECF6\",\"width\":0.5},\"pattern\":{\"fillmode\":\"overlay\",\"size\":10,\"solidity\":0.2}},\"type\":\"barpolar\"}],\"pie\":[{\"automargin\":true,\"type\":\"pie\"}]},\"layout\":{\"autotypenumbers\":\"strict\",\"colorway\":[\"#636efa\",\"#EF553B\",\"#00cc96\",\"#ab63fa\",\"#FFA15A\",\"#19d3f3\",\"#FF6692\",\"#B6E880\",\"#FF97FF\",\"#FECB52\"],\"font\":{\"color\":\"#2a3f5f\"},\"hovermode\":\"closest\",\"hoverlabel\":{\"align\":\"left\"},\"paper_bgcolor\":\"white\",\"plot_bgcolor\":\"#E5ECF6\",\"polar\":{\"bgcolor\":\"#E5ECF6\",\"angularaxis\":{\"gridcolor\":\"white\",\"linecolor\":\"white\",\"ticks\":\"\"},\"radialaxis\":{\"gridcolor\":\"white\",\"linecolor\":\"white\",\"ticks\":\"\"}},\"ternary\":{\"bgcolor\":\"#E5ECF6\",\"aaxis\":{\"gridcolor\":\"white\",\"linecolor\":\"white\",\"ticks\":\"\"},\"baxis\":{\"gridcolor\":\"white\",\"linecolor\":\"white\",\"ticks\":\"\"},\"caxis\":{\"gridcolor\":\"white\",\"linecolor\":\"white\",\"ticks\":\"\"}},\"coloraxis\":{\"colorbar\":{\"outlinewidth\":0,\"ticks\":\"\"}},\"colorscale\":{\"sequential\":[[0.0,\"#0d0887\"],[0.1111111111111111,\"#46039f\"],[0.2222222222222222,\"#7201a8\"],[0.3333333333333333,\"#9c179e\"],[0.4444444444444444,\"#bd3786\"],[0.5555555555555556,\"#d8576b\"],[0.6666666666666666,\"#ed7953\"],[0.7777777777777778,\"#fb9f3a\"],[0.8888888888888888,\"#fdca26\"],[1.0,\"#f0f921\"]],\"sequentialminus\":[[0.0,\"#0d0887\"],[0.1111111111111111,\"#46039f\"],[0.2222222222222222,\"#7201a8\"],[0.3333333333333333,\"#9c179e\"],[0.4444444444444444,\"#bd3786\"],[0.5555555555555556,\"#d8576b\"],[0.6666666666666666,\"#ed7953\"],[0.7777777777777778,\"#fb9f3a\"],[0.8888888888888888,\"#fdca26\"],[1.0,\"#f0f921\"]],\"diverging\":[[0,\"#8e0152\"],[0.1,\"#c51b7d\"],[0.2,\"#de77ae\"],[0.3,\"#f1b6da\"],[0.4,\"#fde0ef\"],[0.5,\"#f7f7f7\"],[0.6,\"#e6f5d0\"],[0.7,\"#b8e186\"],[0.8,\"#7fbc41\"],[0.9,\"#4d9221\"],[1,\"#276419\"]]},\"xaxis\":{\"gridcolor\":\"white\",\"linecolor\":\"white\",\"ticks\":\"\",\"title\":{\"standoff\":15},\"zerolinecolor\":\"white\",\"automargin\":true,\"zerolinewidth\":2},\"yaxis\":{\"gridcolor\":\"white\",\"linecolor\":\"white\",\"ticks\":\"\",\"title\":{\"standoff\":15},\"zerolinecolor\":\"white\",\"automargin\":true,\"zerolinewidth\":2},\"scene\":{\"xaxis\":{\"backgroundcolor\":\"#E5ECF6\",\"gridcolor\":\"white\",\"linecolor\":\"white\",\"showbackground\":true,\"ticks\":\"\",\"zerolinecolor\":\"white\",\"gridwidth\":2},\"yaxis\":{\"backgroundcolor\":\"#E5ECF6\",\"gridcolor\":\"white\",\"linecolor\":\"white\",\"showbackground\":true,\"ticks\":\"\",\"zerolinecolor\":\"white\",\"gridwidth\":2},\"zaxis\":{\"backgroundcolor\":\"#E5ECF6\",\"gridcolor\":\"white\",\"linecolor\":\"white\",\"showbackground\":true,\"ticks\":\"\",\"zerolinecolor\":\"white\",\"gridwidth\":2}},\"shapedefaults\":{\"line\":{\"color\":\"#2a3f5f\"}},\"annotationdefaults\":{\"arrowcolor\":\"#2a3f5f\",\"arrowhead\":0,\"arrowwidth\":1},\"geo\":{\"bgcolor\":\"white\",\"landcolor\":\"#E5ECF6\",\"subunitcolor\":\"white\",\"showland\":true,\"showlakes\":true,\"lakecolor\":\"white\"},\"title\":{\"x\":0.05},\"mapbox\":{\"style\":\"light\"}}},\"xaxis\":{\"anchor\":\"y\",\"domain\":[0.0,1.0],\"title\":{\"text\":\"data\"}},\"yaxis\":{\"anchor\":\"x\",\"domain\":[0.0,1.0],\"title\":{\"text\":\"relu\"},\"range\":[-0.5,1.5]},\"legend\":{\"tracegroupgap\":0},\"margin\":{\"t\":60},\"width\":800},                        {\"responsive\": true}                    ).then(function(){\n",
              "                            \n",
              "var gd = document.getElementById('6585dc73-5b0a-4eb9-b285-730590063094');\n",
              "var x = new MutationObserver(function (mutations, observer) {{\n",
              "        var display = window.getComputedStyle(gd).display;\n",
              "        if (!display || display === 'none') {{\n",
              "            console.log([gd, 'removed!']);\n",
              "            Plotly.purge(gd);\n",
              "            observer.disconnect();\n",
              "        }}\n",
              "}});\n",
              "\n",
              "// Listen for the removal of the full notebook cells\n",
              "var notebookContainer = gd.closest('#notebook-container');\n",
              "if (notebookContainer) {{\n",
              "    x.observe(notebookContainer, {childList: true});\n",
              "}}\n",
              "\n",
              "// Listen for the clearing of the current output cell\n",
              "var outputEl = gd.closest('.output');\n",
              "if (outputEl) {{\n",
              "    x.observe(outputEl, {childList: true});\n",
              "}}\n",
              "\n",
              "                        })                };                            </script>        </div>\n",
              "</body>\n",
              "</html>"
            ]
          },
          "metadata": {}
        }
      ]
    },
    {
      "cell_type": "markdown",
      "source": [
        "Hyperbolic tangens"
      ],
      "metadata": {
        "id": "mrEzG533Oh5L"
      }
    },
    {
      "cell_type": "code",
      "source": [
        "from tensorflow.keras.activations import tanh\n",
        "\n",
        "data = pd.DataFrame({'data': random_data, 'tanh': tanh(random_data)})\n",
        "data.head()"
      ],
      "metadata": {
        "colab": {
          "base_uri": "https://localhost:8080/",
          "height": 206
        },
        "id": "gB1UzDfxOHRo",
        "outputId": "4796d753-7e55-4689-cb4f-aa665cbf9ad2"
      },
      "execution_count": 14,
      "outputs": [
        {
          "output_type": "execute_result",
          "data": {
            "text/plain": [
              "       data      tanh\n",
              "0 -2.684796 -0.990731\n",
              "1 -2.266756 -0.978743\n",
              "2 -2.264480 -0.978647\n",
              "3 -2.010770 -0.964781\n",
              "4 -2.000333 -0.964051"
            ],
            "text/html": [
              "\n",
              "  <div id=\"df-075a7e04-7fe8-41c7-8ec9-e5993317c4ef\">\n",
              "    <div class=\"colab-df-container\">\n",
              "      <div>\n",
              "<style scoped>\n",
              "    .dataframe tbody tr th:only-of-type {\n",
              "        vertical-align: middle;\n",
              "    }\n",
              "\n",
              "    .dataframe tbody tr th {\n",
              "        vertical-align: top;\n",
              "    }\n",
              "\n",
              "    .dataframe thead th {\n",
              "        text-align: right;\n",
              "    }\n",
              "</style>\n",
              "<table border=\"1\" class=\"dataframe\">\n",
              "  <thead>\n",
              "    <tr style=\"text-align: right;\">\n",
              "      <th></th>\n",
              "      <th>data</th>\n",
              "      <th>tanh</th>\n",
              "    </tr>\n",
              "  </thead>\n",
              "  <tbody>\n",
              "    <tr>\n",
              "      <th>0</th>\n",
              "      <td>-2.684796</td>\n",
              "      <td>-0.990731</td>\n",
              "    </tr>\n",
              "    <tr>\n",
              "      <th>1</th>\n",
              "      <td>-2.266756</td>\n",
              "      <td>-0.978743</td>\n",
              "    </tr>\n",
              "    <tr>\n",
              "      <th>2</th>\n",
              "      <td>-2.264480</td>\n",
              "      <td>-0.978647</td>\n",
              "    </tr>\n",
              "    <tr>\n",
              "      <th>3</th>\n",
              "      <td>-2.010770</td>\n",
              "      <td>-0.964781</td>\n",
              "    </tr>\n",
              "    <tr>\n",
              "      <th>4</th>\n",
              "      <td>-2.000333</td>\n",
              "      <td>-0.964051</td>\n",
              "    </tr>\n",
              "  </tbody>\n",
              "</table>\n",
              "</div>\n",
              "      <button class=\"colab-df-convert\" onclick=\"convertToInteractive('df-075a7e04-7fe8-41c7-8ec9-e5993317c4ef')\"\n",
              "              title=\"Convert this dataframe to an interactive table.\"\n",
              "              style=\"display:none;\">\n",
              "        \n",
              "  <svg xmlns=\"http://www.w3.org/2000/svg\" height=\"24px\"viewBox=\"0 0 24 24\"\n",
              "       width=\"24px\">\n",
              "    <path d=\"M0 0h24v24H0V0z\" fill=\"none\"/>\n",
              "    <path d=\"M18.56 5.44l.94 2.06.94-2.06 2.06-.94-2.06-.94-.94-2.06-.94 2.06-2.06.94zm-11 1L8.5 8.5l.94-2.06 2.06-.94-2.06-.94L8.5 2.5l-.94 2.06-2.06.94zm10 10l.94 2.06.94-2.06 2.06-.94-2.06-.94-.94-2.06-.94 2.06-2.06.94z\"/><path d=\"M17.41 7.96l-1.37-1.37c-.4-.4-.92-.59-1.43-.59-.52 0-1.04.2-1.43.59L10.3 9.45l-7.72 7.72c-.78.78-.78 2.05 0 2.83L4 21.41c.39.39.9.59 1.41.59.51 0 1.02-.2 1.41-.59l7.78-7.78 2.81-2.81c.8-.78.8-2.07 0-2.86zM5.41 20L4 18.59l7.72-7.72 1.47 1.35L5.41 20z\"/>\n",
              "  </svg>\n",
              "      </button>\n",
              "      \n",
              "  <style>\n",
              "    .colab-df-container {\n",
              "      display:flex;\n",
              "      flex-wrap:wrap;\n",
              "      gap: 12px;\n",
              "    }\n",
              "\n",
              "    .colab-df-convert {\n",
              "      background-color: #E8F0FE;\n",
              "      border: none;\n",
              "      border-radius: 50%;\n",
              "      cursor: pointer;\n",
              "      display: none;\n",
              "      fill: #1967D2;\n",
              "      height: 32px;\n",
              "      padding: 0 0 0 0;\n",
              "      width: 32px;\n",
              "    }\n",
              "\n",
              "    .colab-df-convert:hover {\n",
              "      background-color: #E2EBFA;\n",
              "      box-shadow: 0px 1px 2px rgba(60, 64, 67, 0.3), 0px 1px 3px 1px rgba(60, 64, 67, 0.15);\n",
              "      fill: #174EA6;\n",
              "    }\n",
              "\n",
              "    [theme=dark] .colab-df-convert {\n",
              "      background-color: #3B4455;\n",
              "      fill: #D2E3FC;\n",
              "    }\n",
              "\n",
              "    [theme=dark] .colab-df-convert:hover {\n",
              "      background-color: #434B5C;\n",
              "      box-shadow: 0px 1px 3px 1px rgba(0, 0, 0, 0.15);\n",
              "      filter: drop-shadow(0px 1px 2px rgba(0, 0, 0, 0.3));\n",
              "      fill: #FFFFFF;\n",
              "    }\n",
              "  </style>\n",
              "\n",
              "      <script>\n",
              "        const buttonEl =\n",
              "          document.querySelector('#df-075a7e04-7fe8-41c7-8ec9-e5993317c4ef button.colab-df-convert');\n",
              "        buttonEl.style.display =\n",
              "          google.colab.kernel.accessAllowed ? 'block' : 'none';\n",
              "\n",
              "        async function convertToInteractive(key) {\n",
              "          const element = document.querySelector('#df-075a7e04-7fe8-41c7-8ec9-e5993317c4ef');\n",
              "          const dataTable =\n",
              "            await google.colab.kernel.invokeFunction('convertToInteractive',\n",
              "                                                     [key], {});\n",
              "          if (!dataTable) return;\n",
              "\n",
              "          const docLinkHtml = 'Like what you see? Visit the ' +\n",
              "            '<a target=\"_blank\" href=https://colab.research.google.com/notebooks/data_table.ipynb>data table notebook</a>'\n",
              "            + ' to learn more about interactive tables.';\n",
              "          element.innerHTML = '';\n",
              "          dataTable['output_type'] = 'display_data';\n",
              "          await google.colab.output.renderOutput(dataTable, element);\n",
              "          const docLink = document.createElement('div');\n",
              "          docLink.innerHTML = docLinkHtml;\n",
              "          element.appendChild(docLink);\n",
              "        }\n",
              "      </script>\n",
              "    </div>\n",
              "  </div>\n",
              "  "
            ]
          },
          "metadata": {},
          "execution_count": 14
        }
      ]
    },
    {
      "cell_type": "code",
      "source": [
        "data.iloc[1]"
      ],
      "metadata": {
        "colab": {
          "base_uri": "https://localhost:8080/"
        },
        "id": "zBwP2rRgOz1J",
        "outputId": "544f7cb7-234f-419a-e034-b7ca08302343"
      },
      "execution_count": 15,
      "outputs": [
        {
          "output_type": "execute_result",
          "data": {
            "text/plain": [
              "data   -2.266756\n",
              "tanh   -0.978743\n",
              "Name: 1, dtype: float64"
            ]
          },
          "metadata": {},
          "execution_count": 15
        }
      ]
    },
    {
      "cell_type": "code",
      "source": [
        "px.line(data, x = 'data', y='tanh', width=800, range_y = [-1.5,1.5])"
      ],
      "metadata": {
        "colab": {
          "base_uri": "https://localhost:8080/",
          "height": 542
        },
        "id": "P-TsrSf8OmO9",
        "outputId": "3a51c9f1-c3c4-48fe-a5d5-283999f24bb2"
      },
      "execution_count": 16,
      "outputs": [
        {
          "output_type": "display_data",
          "data": {
            "text/html": [
              "<html>\n",
              "<head><meta charset=\"utf-8\" /></head>\n",
              "<body>\n",
              "    <div>            <script src=\"https://cdnjs.cloudflare.com/ajax/libs/mathjax/2.7.5/MathJax.js?config=TeX-AMS-MML_SVG\"></script><script type=\"text/javascript\">if (window.MathJax && window.MathJax.Hub && window.MathJax.Hub.Config) {window.MathJax.Hub.Config({SVG: {font: \"STIX-Web\"}});}</script>                <script type=\"text/javascript\">window.PlotlyConfig = {MathJaxConfig: 'local'};</script>\n",
              "        <script src=\"https://cdn.plot.ly/plotly-2.18.2.min.js\"></script>                <div id=\"a3cc64fa-e7ff-451d-84fc-e7becae31546\" class=\"plotly-graph-div\" style=\"height:525px; width:800px;\"></div>            <script type=\"text/javascript\">                                    window.PLOTLYENV=window.PLOTLYENV || {};                                    if (document.getElementById(\"a3cc64fa-e7ff-451d-84fc-e7becae31546\")) {                    Plotly.newPlot(                        \"a3cc64fa-e7ff-451d-84fc-e7becae31546\",                        [{\"hovertemplate\":\"data=%{x}<br>tanh=%{y}<extra></extra>\",\"legendgroup\":\"\",\"line\":{\"color\":\"#636efa\",\"dash\":\"solid\"},\"marker\":{\"symbol\":\"circle\"},\"mode\":\"lines\",\"name\":\"\",\"orientation\":\"v\",\"showlegend\":false,\"x\":[-2.684795565906477,-2.2667558160936148,-2.264479759106153,-2.0107702771818956,-2.000332666368232,-1.8832354428584683,-1.8275191662545354,-1.7074078598796245,-1.7029872990586592,-1.6148593538799738,-1.5431039390637087,-1.5410123932105155,-1.4316720793805444,-1.417759925616224,-1.3671858177589034,-1.3234203377872746,-1.2372104230308387,-1.2229951531393304,-1.206408801509876,-1.1372068756239542,-1.1072673042400176,-1.1062435017730183,-1.0684505822083954,-1.0551712934038706,-1.0523519583015155,-1.0508952595813061,-1.0485490109408597,-1.0294862202435013,-1.0237017431521271,-1.0020635786653884,-0.9462278866932021,-0.9284324614784433,-0.8702746433530408,-0.8676623945854902,-0.8504176278363189,-0.8490259035156472,-0.8451405682981623,-0.838323323000124,-0.8369205276569781,-0.7924025385063356,-0.7916649658466863,-0.7772763219614546,-0.7433233193713179,-0.699411624822523,-0.6966122562520749,-0.6588745080947183,-0.6507171184090206,-0.612850128546249,-0.6068366467033062,-0.6006814815601593,-0.5853270248197457,-0.5844579238960063,-0.5816508994956026,-0.5681248969192835,-0.5583263844010458,-0.553692659825993,-0.5150304141376122,-0.5130338484122797,-0.5045788500372291,-0.4868806480472465,-0.4783458195413033,-0.4584983927371335,-0.45642220028721464,-0.44308022029243244,-0.44050091138337144,-0.4321619179812401,-0.4153319716927889,-0.41279751249921437,-0.4069875983821267,-0.37902645007278374,-0.3635260486671029,-0.3632051765435091,-0.3552007982679532,-0.3471979772973212,-0.3415868843928979,-0.3402121563464219,-0.3371010018673922,-0.31045871868650227,-0.28711179142310134,-0.25825720475495884,-0.16338422623588647,-0.16221282612626794,-0.1464580257133667,-0.1325904760341113,-0.11033238083964475,-0.09546185780209919,-0.09061810017830475,-0.08959726045614544,-0.0798397585612092,-0.07420552111390914,-0.04684203435534242,-0.03625542959603197,-0.03389812937824503,-0.03160377210908512,-0.020010205689059358,-0.014585009903612542,0.0021054327107545693,0.02123235346670931,0.023345085190403885,0.0323260951508147,0.05361792212292535,0.07670775027999406,0.07921236101784783,0.10042301172199998,0.12750165907160477,0.12901017300892942,0.13311584434923218,0.14219612448924093,0.14722162171076916,0.15006068153535254,0.1508898991852155,0.19189373582388472,0.19240833928598183,0.2019601278604184,0.21034543554572252,0.21209489077871893,0.22288402595269416,0.23405168970477694,0.24420463703572542,0.2549527873032416,0.26052550250152234,0.29388346059224724,0.3475707666611888,0.35878270055957406,0.3647400170354895,0.3651018106401769,0.36827296512546975,0.3785857657787286,0.3802460773048267,0.3969601397138857,0.4013744012600556,0.40682016064277937,0.4166421868421415,0.4478136603362536,0.4532780555808438,0.4542715566957441,0.46324576078406,0.4713029615873358,0.4888317029924552,0.49321389855526326,0.49588140612835063,0.4962569547972923,0.5051542479384272,0.5114662740567023,0.5608883410071012,0.5666850358444591,0.5733333680371684,0.5753624893656273,0.5816994238356578,0.604844018953918,0.6551421908301001,0.6993034063921229,0.7108071213607431,0.745807031785174,0.7472565336299345,0.7706994519798109,0.7817656157827636,0.807094578191009,0.8205608584218048,0.830741836754783,0.8392657334537004,0.8492350122080349,0.8630927896972954,0.8894976892493422,0.9383166317666893,0.9558914517247713,1.0074988127436806,1.0133550695123232,1.0219886698473017,1.0635419766782246,1.106738314821484,1.1337180476098758,1.1397527213425982,1.1666869874580603,1.1739411539010474,1.2430292762815711,1.291821067636718,1.3200139489011138,1.3322742353459522,1.332910413247804,1.3654236431039342,1.3700442504880816,1.4565416667887028,1.4772723587040397,1.4858124671587687,1.5574846291086855,1.5952116717046698,1.6447873753943199,1.7589588424878944,1.8855623313059744,1.9343018123738325,1.9476076528789212,1.9491028357543991,2.0198297801550065,2.032938055327162,2.124793509765412,2.2536777177666494,2.521965738206222,2.575580635744351,4.318466653110579],\"xaxis\":\"x\",\"y\":[-0.9907310871280923,-0.9787425964410219,-0.9786466452331686,-0.9647806608040941,-0.9640510756932327,-0.9547790019394199,-0.9495828019294231,-0.9363287366706976,-0.93578147074911,-0.9238749101856897,-0.9126404698916777,-0.9122903311455915,-0.8920087489526285,-0.889130681792849,-0.8780492529877866,-0.8676320000967088,-0.8446581161277442,-0.8405354695241525,-0.8355990046184838,-0.8134714239815557,-0.8030943033473216,-0.8027305140063541,-0.7888767618368557,-0.7838087335966284,-0.7827190692249284,-0.7821541720366043,-0.7812416035392598,-0.7737021983773898,-0.7713699848484442,-0.7624594449225752,-0.7380705655788729,-0.7298622212600575,-0.7015136432980135,-0.7001845053701101,-0.6912875852520571,-0.6905602367986138,-0.6885222569913059,-0.684919962020732,-0.6841745237821193,-0.6597679159490932,-0.6593512013146992,-0.6511406054205473,-0.631148835674998,-0.6039941792918492,-0.602213038578127,-0.5776139153868297,-0.5721525275896061,-0.5461302655869248,-0.54189650115676,-0.5375343166335989,-0.5265264358514016,-0.5258979884307192,-0.5238643023000955,-0.5139808628587023,-0.5067346234375424,-0.5032826658322254,-0.4738553769867943,-0.472305653861618,-0.4657105548743472,-0.451737137465474,-0.44491785488210883,-0.42885957010735365,-0.4271637245392897,-0.41619437450158436,-0.41405956072201205,-0.4071264705656333,-0.3929905977130521,-0.3908454324461009,-0.38591189423159744,-0.36186169628706377,-0.3483160851579589,-0.3480341110492915,-0.34097978377896876,-0.333888228453541,-0.3288933624049735,-0.3276667860410957,-0.3248868373172677,-0.3008543532280767,-0.27947434512507263,-0.25266471625612996,-0.16194576886863274,-0.1608048744948166,-0.1454197604966939,-0.131818910753206,-0.10988684949737726,-0.09517293071865313,-0.09037087113446872,-0.0893582754380342,-0.07967054682229097,-0.07406961721691568,-0.04680780450551553,-0.03623955255274517,-0.03388515141993242,-0.03159325437864189,-0.020007535365720662,-0.01458397580494562,0.0021054295997397976,0.021229163436139696,0.02334084514536189,0.03231483985292229,0.05356659941537266,0.07655765205969102,0.07904710053837988,0.10008678658998696,0.12681520491498638,0.12829917377345018,0.1323351143537655,0.14124542346766567,0.1461671256666088,0.1489443695099031,0.14975509112697505,0.18957253856331197,0.19006859989929303,0.19925835642859718,0.20729711484796243,0.20897078365132746,0.21926516107895186,0.22986950721727403,0.23946325287085882,0.24956867738215527,0.254786987148885,0.2857052196959282,0.33421941751775625,0.34414135335028967,0.3493823185375543,0.34969990856027633,0.35248016998365755,0.3614786558500938,0.3629211526863982,0.37734494028727317,0.3811243387565298,0.3857693834510641,0.39409789034436865,0.4201001749575766,0.42458983988228516,0.425403892401523,0.4327258989884846,0.43925148217115684,0.45328867813035034,0.45676353652810725,0.45887194026242234,0.4591683610093983,0.4661610360770317,0.4710868610768474,0.5086362479705911,0.5129205950644011,0.5178031122719774,0.5192866247210375,0.5238995090257779,0.5404874925887206,0.5751214786574201,0.603925435422371,0.6111827080294735,0.6326408222037976,0.6335093864391462,0.647335985356286,0.6537189558393444,0.6679843672676823,0.6753750236658602,0.6808741360924501,0.6854199503820396,0.6906696113138842,0.6978477269830117,0.7111455423489107,0.7344478746681811,0.7424386306175398,0.7647255228075546,0.7671461423581211,0.770675292827589,0.7870157202927659,0.8029064113832225,0.812287924172741,0.8143308109311485,0.8232071956943751,0.8255315096977929,0.8463173502791529,0.8596027331798175,0.866787397699009,0.8698040713899172,0.8699588574247682,0.877645037977366,0.8787022776641169,0.8969788323961105,0.9009556909165571,0.9025512968588414,0.9150120130493028,0.9209445918542294,0.9281388531503708,0.9423866090841436,0.9549842357002951,0.959079691824781,0.9601328676505396,0.9602495409514976,0.965402114023985,0.9662822718641166,0.9718612909714637,0.978185392817167,0.9871859357419817,0.9884813757300436,0.9996452025661123],\"yaxis\":\"y\",\"type\":\"scatter\"}],                        {\"template\":{\"data\":{\"histogram2dcontour\":[{\"type\":\"histogram2dcontour\",\"colorbar\":{\"outlinewidth\":0,\"ticks\":\"\"},\"colorscale\":[[0.0,\"#0d0887\"],[0.1111111111111111,\"#46039f\"],[0.2222222222222222,\"#7201a8\"],[0.3333333333333333,\"#9c179e\"],[0.4444444444444444,\"#bd3786\"],[0.5555555555555556,\"#d8576b\"],[0.6666666666666666,\"#ed7953\"],[0.7777777777777778,\"#fb9f3a\"],[0.8888888888888888,\"#fdca26\"],[1.0,\"#f0f921\"]]}],\"choropleth\":[{\"type\":\"choropleth\",\"colorbar\":{\"outlinewidth\":0,\"ticks\":\"\"}}],\"histogram2d\":[{\"type\":\"histogram2d\",\"colorbar\":{\"outlinewidth\":0,\"ticks\":\"\"},\"colorscale\":[[0.0,\"#0d0887\"],[0.1111111111111111,\"#46039f\"],[0.2222222222222222,\"#7201a8\"],[0.3333333333333333,\"#9c179e\"],[0.4444444444444444,\"#bd3786\"],[0.5555555555555556,\"#d8576b\"],[0.6666666666666666,\"#ed7953\"],[0.7777777777777778,\"#fb9f3a\"],[0.8888888888888888,\"#fdca26\"],[1.0,\"#f0f921\"]]}],\"heatmap\":[{\"type\":\"heatmap\",\"colorbar\":{\"outlinewidth\":0,\"ticks\":\"\"},\"colorscale\":[[0.0,\"#0d0887\"],[0.1111111111111111,\"#46039f\"],[0.2222222222222222,\"#7201a8\"],[0.3333333333333333,\"#9c179e\"],[0.4444444444444444,\"#bd3786\"],[0.5555555555555556,\"#d8576b\"],[0.6666666666666666,\"#ed7953\"],[0.7777777777777778,\"#fb9f3a\"],[0.8888888888888888,\"#fdca26\"],[1.0,\"#f0f921\"]]}],\"heatmapgl\":[{\"type\":\"heatmapgl\",\"colorbar\":{\"outlinewidth\":0,\"ticks\":\"\"},\"colorscale\":[[0.0,\"#0d0887\"],[0.1111111111111111,\"#46039f\"],[0.2222222222222222,\"#7201a8\"],[0.3333333333333333,\"#9c179e\"],[0.4444444444444444,\"#bd3786\"],[0.5555555555555556,\"#d8576b\"],[0.6666666666666666,\"#ed7953\"],[0.7777777777777778,\"#fb9f3a\"],[0.8888888888888888,\"#fdca26\"],[1.0,\"#f0f921\"]]}],\"contourcarpet\":[{\"type\":\"contourcarpet\",\"colorbar\":{\"outlinewidth\":0,\"ticks\":\"\"}}],\"contour\":[{\"type\":\"contour\",\"colorbar\":{\"outlinewidth\":0,\"ticks\":\"\"},\"colorscale\":[[0.0,\"#0d0887\"],[0.1111111111111111,\"#46039f\"],[0.2222222222222222,\"#7201a8\"],[0.3333333333333333,\"#9c179e\"],[0.4444444444444444,\"#bd3786\"],[0.5555555555555556,\"#d8576b\"],[0.6666666666666666,\"#ed7953\"],[0.7777777777777778,\"#fb9f3a\"],[0.8888888888888888,\"#fdca26\"],[1.0,\"#f0f921\"]]}],\"surface\":[{\"type\":\"surface\",\"colorbar\":{\"outlinewidth\":0,\"ticks\":\"\"},\"colorscale\":[[0.0,\"#0d0887\"],[0.1111111111111111,\"#46039f\"],[0.2222222222222222,\"#7201a8\"],[0.3333333333333333,\"#9c179e\"],[0.4444444444444444,\"#bd3786\"],[0.5555555555555556,\"#d8576b\"],[0.6666666666666666,\"#ed7953\"],[0.7777777777777778,\"#fb9f3a\"],[0.8888888888888888,\"#fdca26\"],[1.0,\"#f0f921\"]]}],\"mesh3d\":[{\"type\":\"mesh3d\",\"colorbar\":{\"outlinewidth\":0,\"ticks\":\"\"}}],\"scatter\":[{\"fillpattern\":{\"fillmode\":\"overlay\",\"size\":10,\"solidity\":0.2},\"type\":\"scatter\"}],\"parcoords\":[{\"type\":\"parcoords\",\"line\":{\"colorbar\":{\"outlinewidth\":0,\"ticks\":\"\"}}}],\"scatterpolargl\":[{\"type\":\"scatterpolargl\",\"marker\":{\"colorbar\":{\"outlinewidth\":0,\"ticks\":\"\"}}}],\"bar\":[{\"error_x\":{\"color\":\"#2a3f5f\"},\"error_y\":{\"color\":\"#2a3f5f\"},\"marker\":{\"line\":{\"color\":\"#E5ECF6\",\"width\":0.5},\"pattern\":{\"fillmode\":\"overlay\",\"size\":10,\"solidity\":0.2}},\"type\":\"bar\"}],\"scattergeo\":[{\"type\":\"scattergeo\",\"marker\":{\"colorbar\":{\"outlinewidth\":0,\"ticks\":\"\"}}}],\"scatterpolar\":[{\"type\":\"scatterpolar\",\"marker\":{\"colorbar\":{\"outlinewidth\":0,\"ticks\":\"\"}}}],\"histogram\":[{\"marker\":{\"pattern\":{\"fillmode\":\"overlay\",\"size\":10,\"solidity\":0.2}},\"type\":\"histogram\"}],\"scattergl\":[{\"type\":\"scattergl\",\"marker\":{\"colorbar\":{\"outlinewidth\":0,\"ticks\":\"\"}}}],\"scatter3d\":[{\"type\":\"scatter3d\",\"line\":{\"colorbar\":{\"outlinewidth\":0,\"ticks\":\"\"}},\"marker\":{\"colorbar\":{\"outlinewidth\":0,\"ticks\":\"\"}}}],\"scattermapbox\":[{\"type\":\"scattermapbox\",\"marker\":{\"colorbar\":{\"outlinewidth\":0,\"ticks\":\"\"}}}],\"scatterternary\":[{\"type\":\"scatterternary\",\"marker\":{\"colorbar\":{\"outlinewidth\":0,\"ticks\":\"\"}}}],\"scattercarpet\":[{\"type\":\"scattercarpet\",\"marker\":{\"colorbar\":{\"outlinewidth\":0,\"ticks\":\"\"}}}],\"carpet\":[{\"aaxis\":{\"endlinecolor\":\"#2a3f5f\",\"gridcolor\":\"white\",\"linecolor\":\"white\",\"minorgridcolor\":\"white\",\"startlinecolor\":\"#2a3f5f\"},\"baxis\":{\"endlinecolor\":\"#2a3f5f\",\"gridcolor\":\"white\",\"linecolor\":\"white\",\"minorgridcolor\":\"white\",\"startlinecolor\":\"#2a3f5f\"},\"type\":\"carpet\"}],\"table\":[{\"cells\":{\"fill\":{\"color\":\"#EBF0F8\"},\"line\":{\"color\":\"white\"}},\"header\":{\"fill\":{\"color\":\"#C8D4E3\"},\"line\":{\"color\":\"white\"}},\"type\":\"table\"}],\"barpolar\":[{\"marker\":{\"line\":{\"color\":\"#E5ECF6\",\"width\":0.5},\"pattern\":{\"fillmode\":\"overlay\",\"size\":10,\"solidity\":0.2}},\"type\":\"barpolar\"}],\"pie\":[{\"automargin\":true,\"type\":\"pie\"}]},\"layout\":{\"autotypenumbers\":\"strict\",\"colorway\":[\"#636efa\",\"#EF553B\",\"#00cc96\",\"#ab63fa\",\"#FFA15A\",\"#19d3f3\",\"#FF6692\",\"#B6E880\",\"#FF97FF\",\"#FECB52\"],\"font\":{\"color\":\"#2a3f5f\"},\"hovermode\":\"closest\",\"hoverlabel\":{\"align\":\"left\"},\"paper_bgcolor\":\"white\",\"plot_bgcolor\":\"#E5ECF6\",\"polar\":{\"bgcolor\":\"#E5ECF6\",\"angularaxis\":{\"gridcolor\":\"white\",\"linecolor\":\"white\",\"ticks\":\"\"},\"radialaxis\":{\"gridcolor\":\"white\",\"linecolor\":\"white\",\"ticks\":\"\"}},\"ternary\":{\"bgcolor\":\"#E5ECF6\",\"aaxis\":{\"gridcolor\":\"white\",\"linecolor\":\"white\",\"ticks\":\"\"},\"baxis\":{\"gridcolor\":\"white\",\"linecolor\":\"white\",\"ticks\":\"\"},\"caxis\":{\"gridcolor\":\"white\",\"linecolor\":\"white\",\"ticks\":\"\"}},\"coloraxis\":{\"colorbar\":{\"outlinewidth\":0,\"ticks\":\"\"}},\"colorscale\":{\"sequential\":[[0.0,\"#0d0887\"],[0.1111111111111111,\"#46039f\"],[0.2222222222222222,\"#7201a8\"],[0.3333333333333333,\"#9c179e\"],[0.4444444444444444,\"#bd3786\"],[0.5555555555555556,\"#d8576b\"],[0.6666666666666666,\"#ed7953\"],[0.7777777777777778,\"#fb9f3a\"],[0.8888888888888888,\"#fdca26\"],[1.0,\"#f0f921\"]],\"sequentialminus\":[[0.0,\"#0d0887\"],[0.1111111111111111,\"#46039f\"],[0.2222222222222222,\"#7201a8\"],[0.3333333333333333,\"#9c179e\"],[0.4444444444444444,\"#bd3786\"],[0.5555555555555556,\"#d8576b\"],[0.6666666666666666,\"#ed7953\"],[0.7777777777777778,\"#fb9f3a\"],[0.8888888888888888,\"#fdca26\"],[1.0,\"#f0f921\"]],\"diverging\":[[0,\"#8e0152\"],[0.1,\"#c51b7d\"],[0.2,\"#de77ae\"],[0.3,\"#f1b6da\"],[0.4,\"#fde0ef\"],[0.5,\"#f7f7f7\"],[0.6,\"#e6f5d0\"],[0.7,\"#b8e186\"],[0.8,\"#7fbc41\"],[0.9,\"#4d9221\"],[1,\"#276419\"]]},\"xaxis\":{\"gridcolor\":\"white\",\"linecolor\":\"white\",\"ticks\":\"\",\"title\":{\"standoff\":15},\"zerolinecolor\":\"white\",\"automargin\":true,\"zerolinewidth\":2},\"yaxis\":{\"gridcolor\":\"white\",\"linecolor\":\"white\",\"ticks\":\"\",\"title\":{\"standoff\":15},\"zerolinecolor\":\"white\",\"automargin\":true,\"zerolinewidth\":2},\"scene\":{\"xaxis\":{\"backgroundcolor\":\"#E5ECF6\",\"gridcolor\":\"white\",\"linecolor\":\"white\",\"showbackground\":true,\"ticks\":\"\",\"zerolinecolor\":\"white\",\"gridwidth\":2},\"yaxis\":{\"backgroundcolor\":\"#E5ECF6\",\"gridcolor\":\"white\",\"linecolor\":\"white\",\"showbackground\":true,\"ticks\":\"\",\"zerolinecolor\":\"white\",\"gridwidth\":2},\"zaxis\":{\"backgroundcolor\":\"#E5ECF6\",\"gridcolor\":\"white\",\"linecolor\":\"white\",\"showbackground\":true,\"ticks\":\"\",\"zerolinecolor\":\"white\",\"gridwidth\":2}},\"shapedefaults\":{\"line\":{\"color\":\"#2a3f5f\"}},\"annotationdefaults\":{\"arrowcolor\":\"#2a3f5f\",\"arrowhead\":0,\"arrowwidth\":1},\"geo\":{\"bgcolor\":\"white\",\"landcolor\":\"#E5ECF6\",\"subunitcolor\":\"white\",\"showland\":true,\"showlakes\":true,\"lakecolor\":\"white\"},\"title\":{\"x\":0.05},\"mapbox\":{\"style\":\"light\"}}},\"xaxis\":{\"anchor\":\"y\",\"domain\":[0.0,1.0],\"title\":{\"text\":\"data\"}},\"yaxis\":{\"anchor\":\"x\",\"domain\":[0.0,1.0],\"title\":{\"text\":\"tanh\"},\"range\":[-1.5,1.5]},\"legend\":{\"tracegroupgap\":0},\"margin\":{\"t\":60},\"width\":800},                        {\"responsive\": true}                    ).then(function(){\n",
              "                            \n",
              "var gd = document.getElementById('a3cc64fa-e7ff-451d-84fc-e7becae31546');\n",
              "var x = new MutationObserver(function (mutations, observer) {{\n",
              "        var display = window.getComputedStyle(gd).display;\n",
              "        if (!display || display === 'none') {{\n",
              "            console.log([gd, 'removed!']);\n",
              "            Plotly.purge(gd);\n",
              "            observer.disconnect();\n",
              "        }}\n",
              "}});\n",
              "\n",
              "// Listen for the removal of the full notebook cells\n",
              "var notebookContainer = gd.closest('#notebook-container');\n",
              "if (notebookContainer) {{\n",
              "    x.observe(notebookContainer, {childList: true});\n",
              "}}\n",
              "\n",
              "// Listen for the clearing of the current output cell\n",
              "var outputEl = gd.closest('.output');\n",
              "if (outputEl) {{\n",
              "    x.observe(outputEl, {childList: true});\n",
              "}}\n",
              "\n",
              "                        })                };                            </script>        </div>\n",
              "</body>\n",
              "</html>"
            ]
          },
          "metadata": {}
        }
      ]
    },
    {
      "cell_type": "markdown",
      "source": [
        "Budowa modelu"
      ],
      "metadata": {
        "id": "9-12_WV4ZyBq"
      }
    },
    {
      "cell_type": "code",
      "source": [
        "model = Sequential()\n",
        "\n",
        "model.add(Dense(units=8, activation='relu', input_shape=(10,))) #8 nauronów, funkcja aktywacji relu, rozmiar danych wejsciowych 10 cech\n",
        "model.add(Dense(units=1, activation='sigmoid'))\n",
        "model.summary()"
      ],
      "metadata": {
        "colab": {
          "base_uri": "https://localhost:8080/"
        },
        "id": "xs8aWAjhZCHx",
        "outputId": "d47d2016-8fe1-4221-f273-b2ee87158bf4"
      },
      "execution_count": 17,
      "outputs": [
        {
          "output_type": "stream",
          "name": "stdout",
          "text": [
            "Model: \"sequential_1\"\n",
            "_________________________________________________________________\n",
            " Layer (type)                Output Shape              Param #   \n",
            "=================================================================\n",
            " dense_2 (Dense)             (None, 8)                 88        \n",
            "                                                                 \n",
            " dense_3 (Dense)             (None, 1)                 9         \n",
            "                                                                 \n",
            "=================================================================\n",
            "Total params: 97\n",
            "Trainable params: 97\n",
            "Non-trainable params: 0\n",
            "_________________________________________________________________\n"
          ]
        }
      ]
    },
    {
      "cell_type": "markdown",
      "source": [
        "Kompilacja modelu\n",
        "\n",
        "I. Należy określic rodzaj optymalizatora\n",
        "\n",
        "II. Określić funkcje straty\n",
        "\n",
        "III. Metryki, które będziemy obserwować podczas trenowania sieci"
      ],
      "metadata": {
        "id": "pqqK3HYUZzgw"
      }
    },
    {
      "cell_type": "code",
      "source": [
        "#klasyfikacja binarna\n",
        "\n",
        "model.compile(optimizer='rmsprop',\n",
        "              loss='binary_crossentropy', # W KLASYFIKACJI BINARNEJ TYLKO!! FUNKCJA STRATY = BINARY_CROSSENTROPY\n",
        "              metrics=['accuracy'])\n",
        "\n",
        "#klasyfikacja wieloklasowa\n",
        "\n",
        "model.compile(optimizer='rmsProp',\n",
        "              loss='categorical_crossentropy',# W KLASYFIKACJI WIELOKLASOWEJ TYLKO!! FUNKCJA STRATY = BINARY_CROSSENTROPY\n",
        "              metrics=['accuracy'])\n",
        "\n",
        "#regresja\n",
        "model.compile(optimizer='rmsProp',\n",
        "              loss='mse') # W REGRESJI FUNKCJA STRATY = MSE lub MAE"
      ],
      "metadata": {
        "id": "0TZ53Jc6ZsNB"
      },
      "execution_count": 18,
      "outputs": []
    },
    {
      "cell_type": "markdown",
      "source": [
        "Trenowanie modelu\n",
        "\n",
        "epochs -> krotność przejscia danych przez sieć w procesie uczenia\n",
        "\n",
        "batch_size -> rozmiar wsadu po którym następuje aktualizacja wag\n",
        "\n",
        "validation_split -> część danych treningowych, które zostaną wykorzystane jako zbiór walidacyjny\n",
        "\n",
        "validation_data -> (x_val, y_val) -> dane wykorzystane do walidacji modelu"
      ],
      "metadata": {
        "id": "FNIwqzOqfn7v"
      }
    },
    {
      "cell_type": "code",
      "source": [
        "#model.fit(data, labels, epochs=10, batch_size=32)\n",
        "#model.fit(data, labels, epochs=10, batch_size=32, validation_split=0.2)\n",
        "#model.fit(data, labels, epochs=10, batch_size=32, validation_split=0.2, validation_data=(x_val, y_val))"
      ],
      "metadata": {
        "id": "NZIHHoYafcJo"
      },
      "execution_count": 19,
      "outputs": []
    },
    {
      "cell_type": "markdown",
      "source": [
        "### Klasyfikacja binarna przykład"
      ],
      "metadata": {
        "id": "IURZTlahjwNw"
      }
    },
    {
      "cell_type": "code",
      "source": [
        "data = np.random.randn(1000,150)\n",
        "labels = np.random.randint(2, size=(1000, 1))\n",
        "\n",
        "print(data.shape)\n",
        "print(labels.shape)"
      ],
      "metadata": {
        "colab": {
          "base_uri": "https://localhost:8080/"
        },
        "id": "8Sb3W1MgjvcL",
        "outputId": "d6dcd62c-5c99-4545-c1ac-0162f1da2b68"
      },
      "execution_count": 20,
      "outputs": [
        {
          "output_type": "stream",
          "name": "stdout",
          "text": [
            "(1000, 150)\n",
            "(1000, 1)\n"
          ]
        }
      ]
    },
    {
      "cell_type": "code",
      "source": [
        "data[0]"
      ],
      "metadata": {
        "colab": {
          "base_uri": "https://localhost:8080/"
        },
        "id": "Kc-ZAb51kKwj",
        "outputId": "a1725131-6743-4480-e9fd-64e6a08c9335"
      },
      "execution_count": 21,
      "outputs": [
        {
          "output_type": "execute_result",
          "data": {
            "text/plain": [
              "array([-1.39877603, -0.08409155,  1.08375703,  1.12957812, -0.9528998 ,\n",
              "        1.2235577 , -1.53318836, -0.99073006,  1.42970261, -0.8412085 ,\n",
              "        0.66254617,  0.51874236, -1.75917106, -0.61404762, -0.01596087,\n",
              "        0.64283742,  1.0693645 , -0.29346263, -1.28076939, -0.35347388,\n",
              "        0.75851608, -0.138893  , -0.77459569,  0.36526753,  0.10600998,\n",
              "       -1.34283211, -1.13781307, -0.97918576,  0.20640345,  0.33831358,\n",
              "       -1.67827853, -2.03135222, -1.64194482,  0.30984965,  0.80354251,\n",
              "       -2.16450678, -0.78481515,  2.02343053,  0.71503865, -0.83784677,\n",
              "        0.17576248,  0.29662707, -0.80505837,  1.28562767,  0.16576217,\n",
              "       -0.64976265, -0.52942819,  0.62078041,  0.73712175, -2.28783244,\n",
              "        0.59850568,  1.10211619,  0.80285845,  1.45897902, -0.2055745 ,\n",
              "        0.41027395,  0.33837148, -0.78958802, -0.55416781, -0.21833845,\n",
              "        1.48455512,  0.25099383, -0.11526724,  0.27544653, -0.75855556,\n",
              "        0.33263475,  1.14903804, -0.62778037, -0.79972316, -0.30069888,\n",
              "       -0.43476126,  1.88489215, -0.04514177, -0.56349252,  0.02030472,\n",
              "        1.09575812, -0.80994948, -0.35445172,  0.13610845,  1.07776373,\n",
              "        1.6571172 ,  0.579187  ,  0.43409473,  0.42297029,  0.28266214,\n",
              "       -0.23168706, -1.1007575 ,  1.40314414, -0.13573024,  0.01279573,\n",
              "        1.23034466,  1.37409694, -0.83070421, -0.63515408,  0.6680334 ,\n",
              "       -1.33582157, -0.24561112,  0.46040781,  0.68098828,  1.30509884,\n",
              "       -0.37994654,  0.84302665,  0.85526002, -0.28491665, -1.80796936,\n",
              "       -0.89769097, -0.22769621, -0.28070127, -0.9995297 ,  1.11208612,\n",
              "        1.19177882, -0.93124892,  0.45166314, -0.10393579, -0.46060374,\n",
              "       -0.23929073,  0.21773558,  0.55032262, -0.61500121, -0.43353458,\n",
              "       -0.36867074,  1.62836599, -0.42339431,  0.01449861,  0.47769459,\n",
              "       -0.53712934,  0.09424237, -1.94489591, -1.54478506, -0.82310903,\n",
              "       -0.77120336,  1.50035294, -1.29948874, -0.00599907, -0.96956495,\n",
              "       -0.69407347,  0.24783864,  1.45044478, -0.19674238, -0.106018  ,\n",
              "        2.24987354, -1.64999524,  0.14005075, -0.46217341, -0.0787357 ,\n",
              "       -0.80041855, -0.89146956,  1.00251985, -1.02392127,  0.60266319])"
            ]
          },
          "metadata": {},
          "execution_count": 21
        }
      ]
    },
    {
      "cell_type": "code",
      "source": [
        "labels[:5]"
      ],
      "metadata": {
        "colab": {
          "base_uri": "https://localhost:8080/"
        },
        "id": "0YlCwu1UkeGX",
        "outputId": "e6257578-8ce7-44d9-80b7-727241267940"
      },
      "execution_count": 22,
      "outputs": [
        {
          "output_type": "execute_result",
          "data": {
            "text/plain": [
              "array([[0],\n",
              "       [1],\n",
              "       [0],\n",
              "       [0],\n",
              "       [0]])"
            ]
          },
          "metadata": {},
          "execution_count": 22
        }
      ]
    },
    {
      "cell_type": "markdown",
      "source": [
        "Budowa modelu"
      ],
      "metadata": {
        "id": "_QHbPGj6k6JK"
      }
    },
    {
      "cell_type": "code",
      "source": [
        "model = Sequential()\n",
        "\n",
        "model.add(Dense(units=32, activation='relu', input_shape=(150,)))# Dodajemy warstwę gęsto połączoną Dense, liczba neuronów 32 (ogolnie często podaje się ją jako potęgę 2),\n",
        "#relu -> model uczy się nieliniowych rozwiązań\n",
        "model.add(Dense(1, activation='sigmoid'))#warstwa wyjściowa -> chcemy otrzymac prawdopodobienstwo przynaleznosci do danej klasy\n",
        "\n",
        "#kompilacja\n",
        "model.compile(optimizer='rmsprop',\n",
        "              loss='binary_crossentropy',\n",
        "              metrics=['accuracy'])\n",
        "\n",
        "model.fit(data, labels, epochs=10)# przekazujemy labele bo jest to uczenie nadzorowane"
      ],
      "metadata": {
        "colab": {
          "base_uri": "https://localhost:8080/"
        },
        "id": "bBXiRzk-k1ST",
        "outputId": "7f56fd8e-dbdc-422d-b7e9-b9c7a32dc71b"
      },
      "execution_count": 23,
      "outputs": [
        {
          "output_type": "stream",
          "name": "stdout",
          "text": [
            "Epoch 1/10\n",
            "32/32 [==============================] - 1s 2ms/step - loss: 0.9838 - accuracy: 0.4910\n",
            "Epoch 2/10\n",
            "32/32 [==============================] - 0s 2ms/step - loss: 0.7704 - accuracy: 0.5460\n",
            "Epoch 3/10\n",
            "32/32 [==============================] - 0s 2ms/step - loss: 0.6737 - accuracy: 0.6020\n",
            "Epoch 4/10\n",
            "32/32 [==============================] - 0s 2ms/step - loss: 0.6194 - accuracy: 0.6430\n",
            "Epoch 5/10\n",
            "32/32 [==============================] - 0s 2ms/step - loss: 0.5785 - accuracy: 0.6920\n",
            "Epoch 6/10\n",
            "32/32 [==============================] - 0s 2ms/step - loss: 0.5447 - accuracy: 0.7310\n",
            "Epoch 7/10\n",
            "32/32 [==============================] - 0s 2ms/step - loss: 0.5156 - accuracy: 0.7770\n",
            "Epoch 8/10\n",
            "32/32 [==============================] - 0s 2ms/step - loss: 0.4899 - accuracy: 0.8070\n",
            "Epoch 9/10\n",
            "32/32 [==============================] - 0s 2ms/step - loss: 0.4640 - accuracy: 0.8340\n",
            "Epoch 10/10\n",
            "32/32 [==============================] - 0s 3ms/step - loss: 0.4411 - accuracy: 0.8490\n"
          ]
        },
        {
          "output_type": "execute_result",
          "data": {
            "text/plain": [
              "<keras.callbacks.History at 0x7f744fa5b730>"
            ]
          },
          "metadata": {},
          "execution_count": 23
        }
      ]
    },
    {
      "cell_type": "code",
      "source": [
        "model.summary()"
      ],
      "metadata": {
        "colab": {
          "base_uri": "https://localhost:8080/"
        },
        "id": "8x2nJvMundl6",
        "outputId": "cc2dfb51-352d-43ea-bc9c-a1d3983d4dec"
      },
      "execution_count": 24,
      "outputs": [
        {
          "output_type": "stream",
          "name": "stdout",
          "text": [
            "Model: \"sequential_2\"\n",
            "_________________________________________________________________\n",
            " Layer (type)                Output Shape              Param #   \n",
            "=================================================================\n",
            " dense_4 (Dense)             (None, 32)                4832      \n",
            "                                                                 \n",
            " dense_5 (Dense)             (None, 1)                 33        \n",
            "                                                                 \n",
            "=================================================================\n",
            "Total params: 4,865\n",
            "Trainable params: 4,865\n",
            "Non-trainable params: 0\n",
            "_________________________________________________________________\n"
          ]
        }
      ]
    },
    {
      "cell_type": "markdown",
      "source": [
        "Kompilacja z dodatkiem batch_size"
      ],
      "metadata": {
        "id": "JcSXZaACmXzS"
      }
    },
    {
      "cell_type": "code",
      "source": [
        "model = Sequential()\n",
        "\n",
        "model.add(Dense(units=32, activation='relu', input_shape=(150,)))# Dodajemy warstwę gęsto połączoną Dense, liczba neuronów 32 (ogolnie często podaje się ją jako potęgę 2),\n",
        "#relu -> model uczy się nieliniowych rozwiązań\n",
        "model.add(Dense(1, activation='sigmoid'))#warstwa wyjściowa -> chcemy otrzymac prawdopodobienstwo przynaleznosci do danej klasy\n",
        "\n",
        "model.compile(optimizer='rmsprop',\n",
        "              loss='binary_crossentropy',\n",
        "              metrics=['accuracy'])\n",
        "\n",
        "model.fit(data, labels, epochs=10, batch_size=30)# wagi aktualizowane po 30 probek"
      ],
      "metadata": {
        "colab": {
          "base_uri": "https://localhost:8080/"
        },
        "id": "8-bNQW1pmLgo",
        "outputId": "06adacb4-d295-4fa8-ec8b-9785611a211f"
      },
      "execution_count": 25,
      "outputs": [
        {
          "output_type": "stream",
          "name": "stdout",
          "text": [
            "Epoch 1/10\n",
            "34/34 [==============================] - 2s 5ms/step - loss: 0.8419 - accuracy: 0.5160\n",
            "Epoch 2/10\n",
            "34/34 [==============================] - 0s 3ms/step - loss: 0.7119 - accuracy: 0.5630\n",
            "Epoch 3/10\n",
            "34/34 [==============================] - 0s 4ms/step - loss: 0.6524 - accuracy: 0.6270\n",
            "Epoch 4/10\n",
            "34/34 [==============================] - 0s 4ms/step - loss: 0.6112 - accuracy: 0.6640\n",
            "Epoch 5/10\n",
            "34/34 [==============================] - 0s 5ms/step - loss: 0.5749 - accuracy: 0.6980\n",
            "Epoch 6/10\n",
            "34/34 [==============================] - 0s 3ms/step - loss: 0.5441 - accuracy: 0.7460\n",
            "Epoch 7/10\n",
            "34/34 [==============================] - 0s 3ms/step - loss: 0.5163 - accuracy: 0.7760\n",
            "Epoch 8/10\n",
            "34/34 [==============================] - 0s 3ms/step - loss: 0.4894 - accuracy: 0.8070\n",
            "Epoch 9/10\n",
            "34/34 [==============================] - 0s 3ms/step - loss: 0.4648 - accuracy: 0.8270\n",
            "Epoch 10/10\n",
            "34/34 [==============================] - 0s 3ms/step - loss: 0.4401 - accuracy: 0.8480\n"
          ]
        },
        {
          "output_type": "execute_result",
          "data": {
            "text/plain": [
              "<keras.callbacks.History at 0x7f744ef4ccd0>"
            ]
          },
          "metadata": {},
          "execution_count": 25
        }
      ]
    },
    {
      "cell_type": "code",
      "source": [
        "model.summary()"
      ],
      "metadata": {
        "colab": {
          "base_uri": "https://localhost:8080/"
        },
        "id": "dZpoVaG-nobG",
        "outputId": "bf2ceeb9-bd6a-448c-915d-0996cd00fc52"
      },
      "execution_count": 26,
      "outputs": [
        {
          "output_type": "stream",
          "name": "stdout",
          "text": [
            "Model: \"sequential_3\"\n",
            "_________________________________________________________________\n",
            " Layer (type)                Output Shape              Param #   \n",
            "=================================================================\n",
            " dense_6 (Dense)             (None, 32)                4832      \n",
            "                                                                 \n",
            " dense_7 (Dense)             (None, 1)                 33        \n",
            "                                                                 \n",
            "=================================================================\n",
            "Total params: 4,865\n",
            "Trainable params: 4,865\n",
            "Non-trainable params: 0\n",
            "_________________________________________________________________\n"
          ]
        }
      ]
    },
    {
      "cell_type": "markdown",
      "source": [
        "Kompilacja z dodatkiem batch_size i validation_split"
      ],
      "metadata": {
        "id": "cdHxzWn5m9f0"
      }
    },
    {
      "cell_type": "code",
      "source": [
        "model = Sequential()\n",
        "\n",
        "model.add(Dense(units=32, activation='relu', input_shape=(150,)))# Dodajemy warstwę gęsto połączoną Dense, liczba neuronów 32 (ogolnie często podaje się ją jako potęgę 2),\n",
        "#relu -> model uczy się nieliniowych rozwiązań\n",
        "model.add(Dense(1, activation='sigmoid'))#warstwa wyjściowa -> chcemy otrzymac prawdopodobienstwo przynaleznosci do danej klasy\n",
        "\n",
        "model.compile(optimizer='rmsprop',\n",
        "              loss='binary_crossentropy',\n",
        "              metrics=['accuracy'])\n",
        "\n",
        "model.fit(data, labels, epochs=10, batch_size=30, validation_split=0.2)# validation_split=0.2 -> 20% danych będzie zbiorem walidacyjnym"
      ],
      "metadata": {
        "colab": {
          "base_uri": "https://localhost:8080/"
        },
        "id": "NpM8syahmw4z",
        "outputId": "680f3035-edee-41a4-f6d2-495fe46c4111"
      },
      "execution_count": 27,
      "outputs": [
        {
          "output_type": "stream",
          "name": "stdout",
          "text": [
            "Epoch 1/10\n",
            "27/27 [==============================] - 1s 19ms/step - loss: 0.7811 - accuracy: 0.5263 - val_loss: 0.7739 - val_accuracy: 0.5150\n",
            "Epoch 2/10\n",
            "27/27 [==============================] - 0s 5ms/step - loss: 0.6968 - accuracy: 0.5850 - val_loss: 0.7702 - val_accuracy: 0.5250\n",
            "Epoch 3/10\n",
            "27/27 [==============================] - 0s 5ms/step - loss: 0.6463 - accuracy: 0.6438 - val_loss: 0.7746 - val_accuracy: 0.5250\n",
            "Epoch 4/10\n",
            "27/27 [==============================] - 0s 8ms/step - loss: 0.6061 - accuracy: 0.6850 - val_loss: 0.7800 - val_accuracy: 0.5150\n",
            "Epoch 5/10\n",
            "27/27 [==============================] - 0s 5ms/step - loss: 0.5723 - accuracy: 0.7250 - val_loss: 0.7875 - val_accuracy: 0.5100\n",
            "Epoch 6/10\n",
            "27/27 [==============================] - 0s 6ms/step - loss: 0.5416 - accuracy: 0.7437 - val_loss: 0.7963 - val_accuracy: 0.5200\n",
            "Epoch 7/10\n",
            "27/27 [==============================] - 0s 5ms/step - loss: 0.5135 - accuracy: 0.7750 - val_loss: 0.8080 - val_accuracy: 0.5100\n",
            "Epoch 8/10\n",
            "27/27 [==============================] - 0s 9ms/step - loss: 0.4865 - accuracy: 0.8012 - val_loss: 0.8233 - val_accuracy: 0.5100\n",
            "Epoch 9/10\n",
            "27/27 [==============================] - 0s 9ms/step - loss: 0.4622 - accuracy: 0.8188 - val_loss: 0.8356 - val_accuracy: 0.5250\n",
            "Epoch 10/10\n",
            "27/27 [==============================] - 0s 6ms/step - loss: 0.4376 - accuracy: 0.8500 - val_loss: 0.8501 - val_accuracy: 0.5350\n"
          ]
        },
        {
          "output_type": "execute_result",
          "data": {
            "text/plain": [
              "<keras.callbacks.History at 0x7f744ef0d2a0>"
            ]
          },
          "metadata": {},
          "execution_count": 27
        }
      ]
    },
    {
      "cell_type": "code",
      "source": [
        "model.summary()"
      ],
      "metadata": {
        "colab": {
          "base_uri": "https://localhost:8080/"
        },
        "id": "Vx9OvaFqnK2O",
        "outputId": "8902e2f0-2446-4463-8f5b-61bd5fba0891"
      },
      "execution_count": 28,
      "outputs": [
        {
          "output_type": "stream",
          "name": "stdout",
          "text": [
            "Model: \"sequential_4\"\n",
            "_________________________________________________________________\n",
            " Layer (type)                Output Shape              Param #   \n",
            "=================================================================\n",
            " dense_8 (Dense)             (None, 32)                4832      \n",
            "                                                                 \n",
            " dense_9 (Dense)             (None, 1)                 33        \n",
            "                                                                 \n",
            "=================================================================\n",
            "Total params: 4,865\n",
            "Trainable params: 4,865\n",
            "Non-trainable params: 0\n",
            "_________________________________________________________________\n"
          ]
        }
      ]
    },
    {
      "cell_type": "markdown",
      "source": [
        "Dodatkowo zastosowany parametr verbose, który pozwala uniknąc outputu"
      ],
      "metadata": {
        "id": "0CxzjUYjrg1u"
      }
    },
    {
      "cell_type": "code",
      "source": [
        "model = Sequential()\n",
        "\n",
        "model.add(Dense(units=32, activation='relu', input_shape=(150,)))# Dodajemy warstwę gęsto połączoną Dense, liczba neuronów 32 (ogolnie często podaje się ją jako potęgę 2),\n",
        "#relu -> model uczy się nieliniowych rozwiązań\n",
        "model.add(Dense(1, activation='sigmoid'))#warstwa wyjściowa -> chcemy otrzymac prawdopodobienstwo przynaleznosci do danej klasy\n",
        "\n",
        "model.compile(optimizer='rmsprop',\n",
        "              loss='binary_crossentropy',\n",
        "              metrics=['accuracy'])\n",
        "\n",
        "model.fit(data, labels, epochs=10, batch_size=30, validation_split=0.2, verbose=0)# validation_split=0.2 -> 20% danych będzie zbiorem walidacyjnym"
      ],
      "metadata": {
        "colab": {
          "base_uri": "https://localhost:8080/"
        },
        "id": "Czy_1-TBnwc_",
        "outputId": "624b29cd-ad5e-42eb-fee9-c58b9351e265"
      },
      "execution_count": 29,
      "outputs": [
        {
          "output_type": "execute_result",
          "data": {
            "text/plain": [
              "<keras.callbacks.History at 0x7f745cc94f70>"
            ]
          },
          "metadata": {},
          "execution_count": 29
        }
      ]
    },
    {
      "cell_type": "markdown",
      "source": [
        "Przypisanie do history"
      ],
      "metadata": {
        "id": "2RLfrXoJrsaq"
      }
    },
    {
      "cell_type": "code",
      "source": [
        "model = Sequential()\n",
        "\n",
        "model.add(Dense(units=32, activation='relu', input_shape=(150,)))# Dodajemy warstwę gęsto połączoną Dense, liczba neuronów 32 (ogolnie często podaje się ją jako potęgę 2),\n",
        "#relu -> model uczy się nieliniowych rozwiązań\n",
        "model.add(Dense(1, activation='sigmoid'))#warstwa wyjściowa -> chcemy otrzymac prawdopodobienstwo przynaleznosci do danej klasy\n",
        "\n",
        "model.compile(optimizer='rmsprop',\n",
        "              loss='binary_crossentropy',\n",
        "              metrics=['accuracy'])\n",
        "\n",
        "history = model.fit(data, labels, epochs=10, batch_size=30, validation_split=0.2, verbose=0)# validation_split=0.2 -> 20% danych będzie zbiorem walidacyjnym"
      ],
      "metadata": {
        "id": "bEEncjRyrnY6"
      },
      "execution_count": 30,
      "outputs": []
    },
    {
      "cell_type": "markdown",
      "source": [
        "W przypadku history jest do wyboru: epoch, model i history"
      ],
      "metadata": {
        "id": "NWt0tpJasGL5"
      }
    },
    {
      "cell_type": "code",
      "source": [
        "history.epoch"
      ],
      "metadata": {
        "colab": {
          "base_uri": "https://localhost:8080/"
        },
        "id": "HGclkQFarxvz",
        "outputId": "9cfe7c1c-583d-4aae-973c-234555c4db25"
      },
      "execution_count": 31,
      "outputs": [
        {
          "output_type": "execute_result",
          "data": {
            "text/plain": [
              "[0, 1, 2, 3, 4, 5, 6, 7, 8, 9]"
            ]
          },
          "metadata": {},
          "execution_count": 31
        }
      ]
    },
    {
      "cell_type": "code",
      "source": [
        "history.model"
      ],
      "metadata": {
        "colab": {
          "base_uri": "https://localhost:8080/"
        },
        "id": "VZMnYbK1r-uR",
        "outputId": "afb64033-0943-403a-d5d6-d0216764a778"
      },
      "execution_count": 32,
      "outputs": [
        {
          "output_type": "execute_result",
          "data": {
            "text/plain": [
              "<keras.engine.sequential.Sequential at 0x7f745cc858a0>"
            ]
          },
          "metadata": {},
          "execution_count": 32
        }
      ]
    },
    {
      "cell_type": "code",
      "source": [
        "history.history"
      ],
      "metadata": {
        "colab": {
          "base_uri": "https://localhost:8080/"
        },
        "id": "1QJkCLMlsNsh",
        "outputId": "8caa7f80-338f-421c-b97b-f27e3b16de08"
      },
      "execution_count": 33,
      "outputs": [
        {
          "output_type": "execute_result",
          "data": {
            "text/plain": [
              "{'loss': [0.9611915349960327,\n",
              "  0.7739065289497375,\n",
              "  0.6814079880714417,\n",
              "  0.6246888041496277,\n",
              "  0.5831716656684875,\n",
              "  0.5483899116516113,\n",
              "  0.5178067088127136,\n",
              "  0.4882684648036957,\n",
              "  0.4621449410915375,\n",
              "  0.4365510046482086],\n",
              " 'accuracy': [0.5162500143051147,\n",
              "  0.5400000214576721,\n",
              "  0.5862500071525574,\n",
              "  0.6637499928474426,\n",
              "  0.6949999928474426,\n",
              "  0.7425000071525574,\n",
              "  0.7712500095367432,\n",
              "  0.7962499856948853,\n",
              "  0.8199999928474426,\n",
              "  0.84375],\n",
              " 'val_loss': [0.8876621723175049,\n",
              "  0.8183643817901611,\n",
              "  0.7850274443626404,\n",
              "  0.7779443860054016,\n",
              "  0.7798711657524109,\n",
              "  0.7892085313796997,\n",
              "  0.7984902858734131,\n",
              "  0.8093546032905579,\n",
              "  0.8195948600769043,\n",
              "  0.835846483707428],\n",
              " 'val_accuracy': [0.5099999904632568,\n",
              "  0.49000000953674316,\n",
              "  0.48500001430511475,\n",
              "  0.4749999940395355,\n",
              "  0.4699999988079071,\n",
              "  0.4749999940395355,\n",
              "  0.4749999940395355,\n",
              "  0.4699999988079071,\n",
              "  0.47999998927116394,\n",
              "  0.49000000953674316]}"
            ]
          },
          "metadata": {},
          "execution_count": 33
        }
      ]
    },
    {
      "cell_type": "code",
      "source": [
        "metrics = history.history"
      ],
      "metadata": {
        "id": "Qz8enC_ysPRc"
      },
      "execution_count": 34,
      "outputs": []
    },
    {
      "cell_type": "code",
      "source": [
        "metrics.keys()"
      ],
      "metadata": {
        "colab": {
          "base_uri": "https://localhost:8080/"
        },
        "id": "Ni2vCIk5sTkj",
        "outputId": "1a21f997-9889-48f5-cfc9-b1f3b89a257e"
      },
      "execution_count": 35,
      "outputs": [
        {
          "output_type": "execute_result",
          "data": {
            "text/plain": [
              "dict_keys(['loss', 'accuracy', 'val_loss', 'val_accuracy'])"
            ]
          },
          "metadata": {},
          "execution_count": 35
        }
      ]
    },
    {
      "cell_type": "code",
      "source": [
        "model = Sequential()\n",
        "\n",
        "model.add(Dense(units=32, activation='relu', input_shape=(150,)))# Dodajemy warstwę gęsto połączoną Dense, liczba neuronów 32 (ogolnie często podaje się ją jako potęgę 2),\n",
        "#relu -> model uczy się nieliniowych rozwiązań\n",
        "model.add(Dense(1, activation='sigmoid'))#warstwa wyjściowa -> chcemy otrzymac prawdopodobienstwo przynaleznosci do danej klasy\n",
        "\n",
        "model.compile(optimizer='rmsprop',\n",
        "              loss='binary_crossentropy',\n",
        "              metrics=['accuracy'])\n",
        "\n",
        "history = model.fit(data, labels, epochs=10, batch_size=30, validation_split=0.2, verbose=1)# validation_split=0.2 -> 20% danych będzie zbiorem walidacyjnym"
      ],
      "metadata": {
        "colab": {
          "base_uri": "https://localhost:8080/"
        },
        "id": "ryAzrcbRsUyD",
        "outputId": "ec038eae-c00c-4fbc-81ce-d5fc5bf51e27"
      },
      "execution_count": 36,
      "outputs": [
        {
          "output_type": "stream",
          "name": "stdout",
          "text": [
            "Epoch 1/10\n",
            "27/27 [==============================] - 1s 15ms/step - loss: 0.7627 - accuracy: 0.5075 - val_loss: 0.7891 - val_accuracy: 0.4850\n",
            "Epoch 2/10\n",
            "27/27 [==============================] - 0s 7ms/step - loss: 0.6793 - accuracy: 0.5850 - val_loss: 0.7858 - val_accuracy: 0.4850\n",
            "Epoch 3/10\n",
            "27/27 [==============================] - 0s 5ms/step - loss: 0.6285 - accuracy: 0.6413 - val_loss: 0.7882 - val_accuracy: 0.5000\n",
            "Epoch 4/10\n",
            "27/27 [==============================] - 0s 5ms/step - loss: 0.5870 - accuracy: 0.6900 - val_loss: 0.7948 - val_accuracy: 0.5050\n",
            "Epoch 5/10\n",
            "27/27 [==============================] - 0s 4ms/step - loss: 0.5508 - accuracy: 0.7262 - val_loss: 0.8028 - val_accuracy: 0.4900\n",
            "Epoch 6/10\n",
            "27/27 [==============================] - 0s 3ms/step - loss: 0.5194 - accuracy: 0.7613 - val_loss: 0.8132 - val_accuracy: 0.4800\n",
            "Epoch 7/10\n",
            "27/27 [==============================] - 0s 4ms/step - loss: 0.4908 - accuracy: 0.7825 - val_loss: 0.8249 - val_accuracy: 0.4800\n",
            "Epoch 8/10\n",
            "27/27 [==============================] - 0s 4ms/step - loss: 0.4642 - accuracy: 0.8263 - val_loss: 0.8362 - val_accuracy: 0.4750\n",
            "Epoch 9/10\n",
            "27/27 [==============================] - 0s 3ms/step - loss: 0.4393 - accuracy: 0.8350 - val_loss: 0.8505 - val_accuracy: 0.4750\n",
            "Epoch 10/10\n",
            "27/27 [==============================] - 0s 3ms/step - loss: 0.4152 - accuracy: 0.8625 - val_loss: 0.8663 - val_accuracy: 0.4800\n"
          ]
        }
      ]
    },
    {
      "cell_type": "markdown",
      "source": [
        "Przygotowanie danych testowych"
      ],
      "metadata": {
        "id": "sZOR-6R1sqKh"
      }
    },
    {
      "cell_type": "code",
      "source": [
        "test_data = np.random.randn(5,150)# 5 wierszy, 150 zmiennych\n",
        "test_labels = np.random.randint(2, size=(5,1))# 2 -> liczby generowane od 0 do 1 włącznie"
      ],
      "metadata": {
        "id": "dUW1ESYRsksh"
      },
      "execution_count": 37,
      "outputs": []
    },
    {
      "cell_type": "code",
      "source": [
        "test_data[0]"
      ],
      "metadata": {
        "colab": {
          "base_uri": "https://localhost:8080/"
        },
        "id": "RAmnv9qpvtGZ",
        "outputId": "62fb7c2d-d912-4c62-dece-410a046cc78c"
      },
      "execution_count": 38,
      "outputs": [
        {
          "output_type": "execute_result",
          "data": {
            "text/plain": [
              "array([ 0.13968737, -0.11610021, -0.39177674, -1.51466561, -1.17864665,\n",
              "        0.70988187,  1.86734035, -1.22375487,  1.56763229,  0.05802313,\n",
              "        1.14585785, -1.36485643,  0.43229638, -0.54949481, -0.24459505,\n",
              "        0.55413788,  1.04720279, -0.56325785, -1.14488737, -0.21443917,\n",
              "       -0.81655688,  0.48104727, -0.17472597, -0.24822052, -0.43771632,\n",
              "       -0.10454886, -0.66474386,  0.68564972,  1.12224422, -0.76777145,\n",
              "       -1.38687896, -0.31359854, -1.36674011, -0.17099195,  1.51137797,\n",
              "       -0.29026045, -0.52885989,  1.32714527,  0.74869387, -0.00401636,\n",
              "        1.82074909,  0.86147758, -1.08231669, -0.59790802, -0.56826107,\n",
              "        0.21027768, -1.44387105, -2.01494771, -1.24407697,  0.2462611 ,\n",
              "       -0.34484068,  1.85261252, -0.40253918, -0.53001001,  0.96810726,\n",
              "        0.43565488,  0.93726194, -0.61630894,  0.12716478,  0.35458263,\n",
              "        0.95340621,  1.47177102,  1.11631419, -0.02600817,  0.67073173,\n",
              "       -0.71081932, -2.11673723, -0.22895563,  0.92033636,  1.10231871,\n",
              "       -0.90510314, -2.13930319, -0.46306385, -2.44896013, -1.77697461,\n",
              "        0.95889979, -0.03863337, -0.80263235,  0.78647842, -1.96303667,\n",
              "        0.84784623,  0.21132661, -1.48752385,  0.05726808, -0.65192829,\n",
              "        2.55436396, -1.00046136,  0.22638244,  0.02201601, -0.83120531,\n",
              "        0.39998922,  0.63276043,  0.52388378, -0.59952556, -0.33241529,\n",
              "       -1.46695897, -1.05429544,  1.13290996,  0.6761496 ,  0.06849221,\n",
              "       -0.32163195,  1.07352758,  0.69446808,  1.98862482,  0.53915799,\n",
              "       -1.78909886, -0.85259732, -1.00452559, -0.97661474, -0.93566026,\n",
              "       -0.15206453, -0.15255855,  0.3906699 ,  0.62122258, -0.45600939,\n",
              "        0.22781308,  0.55245703, -0.18686196, -0.33211159, -0.2148307 ,\n",
              "        1.39928559, -0.48377024,  0.96085133, -0.00257096, -2.05414037,\n",
              "       -0.59360727, -1.38893525,  0.87491254, -0.10823739, -0.93163662,\n",
              "       -1.84257704, -1.31235104, -0.0592722 ,  0.0634927 ,  0.4588986 ,\n",
              "       -0.97022869, -1.12026834, -0.81676596, -0.24318261,  0.01765662,\n",
              "       -1.4143837 , -0.968072  ,  2.27494171,  1.31819101,  1.4548709 ,\n",
              "        0.89625567, -0.93095692,  0.69387967,  0.83698156, -1.83399972])"
            ]
          },
          "metadata": {},
          "execution_count": 38
        }
      ]
    },
    {
      "cell_type": "code",
      "source": [
        "test_data[1]"
      ],
      "metadata": {
        "colab": {
          "base_uri": "https://localhost:8080/"
        },
        "id": "Y5hSbpfUvxBN",
        "outputId": "e7ed54cc-c8ca-49b3-fd91-7e5541cb92d4"
      },
      "execution_count": 39,
      "outputs": [
        {
          "output_type": "execute_result",
          "data": {
            "text/plain": [
              "array([ 1.24998509, -0.29042755,  0.18335637, -0.40495093, -1.02945128,\n",
              "       -1.69494153, -2.08381998, -0.67895303, -0.62974637,  0.63664266,\n",
              "       -0.05950919,  0.59305761, -1.71141785, -0.39081805,  0.70876744,\n",
              "       -0.42575688,  0.28302472, -0.40448114, -1.40327358,  0.35063012,\n",
              "        1.41903296, -0.52725924,  1.52523701,  0.16733148, -2.0666636 ,\n",
              "        0.30330837,  0.78693973,  1.18090942,  0.75538935, -0.39234391,\n",
              "        0.12792359,  0.54204685,  1.2601588 , -0.3295653 ,  0.11625673,\n",
              "        0.30188909,  0.20670682, -1.41223106,  1.34050715, -0.34639637,\n",
              "        0.49031824,  1.75691623, -0.17126445,  1.5219692 , -0.88867726,\n",
              "       -0.858363  ,  0.37023272,  1.3522841 , -0.73420382,  0.4715922 ,\n",
              "        0.11389202, -1.73209269, -1.03546093, -0.14953583,  0.86142936,\n",
              "        1.2034496 ,  0.59813721,  0.69794308,  0.47211632, -0.85229309,\n",
              "        2.22161158, -1.54790672,  0.51324987, -2.83508146,  0.02738887,\n",
              "        0.12754137, -0.09434677,  1.53206589, -1.37309015,  1.58910716,\n",
              "       -0.69287311, -0.23193504, -0.47549972,  0.54906042,  0.12486887,\n",
              "       -1.52378328, -1.80771738, -0.77498343,  0.71303437,  1.30359927,\n",
              "        0.20567717,  0.22998146, -1.45167748,  1.39287671, -3.65939277,\n",
              "       -0.81646572, -0.4984904 ,  0.54144926,  0.45059343,  0.59471889,\n",
              "       -0.32103367,  0.09005735, -0.1931904 ,  1.6650345 ,  0.54920231,\n",
              "       -0.22917858, -0.28284822, -0.82935069,  0.70874014, -0.35283619,\n",
              "       -0.73774883, -0.65500874, -1.29739202,  0.14544506,  0.39759652,\n",
              "       -1.21174012,  0.81684237,  0.36915883, -2.72337977,  1.44460024,\n",
              "       -0.59913   , -1.09099149, -0.7463995 , -1.01342377,  0.39793518,\n",
              "       -1.1802332 , -0.3227785 ,  0.79476232,  0.1969561 ,  0.15568153,\n",
              "       -0.4154368 , -1.66917528,  0.53262211, -0.24155479,  0.40645093,\n",
              "       -0.16895978,  0.84502511, -0.79722198,  0.12606923,  0.63067138,\n",
              "       -0.55835623, -0.40096997,  0.31558565, -0.80757881, -0.40319846,\n",
              "        0.22580606, -1.35680365, -0.76448712,  0.69244029,  0.78338216,\n",
              "        0.65286409,  0.21987216,  0.38077058, -0.56598222,  0.63486403,\n",
              "        0.50634869, -0.93006108,  0.01070181, -1.72996866,  1.14618734])"
            ]
          },
          "metadata": {},
          "execution_count": 39
        }
      ]
    },
    {
      "cell_type": "code",
      "source": [
        "test_data[0].shape"
      ],
      "metadata": {
        "colab": {
          "base_uri": "https://localhost:8080/"
        },
        "id": "e5sEtrgrs9Wq",
        "outputId": "87460cf5-223f-410b-f551-f4886b611974"
      },
      "execution_count": 40,
      "outputs": [
        {
          "output_type": "execute_result",
          "data": {
            "text/plain": [
              "(150,)"
            ]
          },
          "metadata": {},
          "execution_count": 40
        }
      ]
    },
    {
      "cell_type": "code",
      "source": [
        "test_labels"
      ],
      "metadata": {
        "colab": {
          "base_uri": "https://localhost:8080/"
        },
        "id": "sdSPeHoCs-Cm",
        "outputId": "b2cfda0a-0390-453a-c376-cb174adcefe4"
      },
      "execution_count": 41,
      "outputs": [
        {
          "output_type": "execute_result",
          "data": {
            "text/plain": [
              "array([[1],\n",
              "       [0],\n",
              "       [0],\n",
              "       [1],\n",
              "       [0]])"
            ]
          },
          "metadata": {},
          "execution_count": 41
        }
      ]
    },
    {
      "cell_type": "code",
      "source": [
        "#mode.predict -> zwraca nam prawdopoboienstwo przynaleznosci do danej klasy\n",
        "\n",
        "model.predict(test_data)\n",
        "\n",
        "# wartosci > 0.5 -> klasa 1\n",
        "# wartosci < 0.5 -> klasa 0"
      ],
      "metadata": {
        "colab": {
          "base_uri": "https://localhost:8080/"
        },
        "id": "lu-6hvSgtlK8",
        "outputId": "b5923f8f-02ff-4054-fee8-376b792b1d5a"
      },
      "execution_count": 42,
      "outputs": [
        {
          "output_type": "stream",
          "name": "stdout",
          "text": [
            "1/1 [==============================] - 0s 81ms/step\n"
          ]
        },
        {
          "output_type": "execute_result",
          "data": {
            "text/plain": [
              "array([[0.51942945],\n",
              "       [0.23671257],\n",
              "       [0.5350896 ],\n",
              "       [0.6345021 ],\n",
              "       [0.42403528]], dtype=float32)"
            ]
          },
          "metadata": {},
          "execution_count": 42
        }
      ]
    },
    {
      "cell_type": "markdown",
      "source": [
        "NEW PREDICTION CLASSES IN Tensorflow 2.6.0"
      ],
      "metadata": {
        "id": "EHR22Mr_2it3"
      }
    },
    {
      "cell_type": "code",
      "source": [
        "predictions = (model.predict(test_data) > 0.5).astype(\"int32\")\n",
        "predictions"
      ],
      "metadata": {
        "colab": {
          "base_uri": "https://localhost:8080/"
        },
        "id": "Nx0bSw-d1bBv",
        "outputId": "5a772509-47e3-4a24-80fe-9cddfbcc9b3b"
      },
      "execution_count": 43,
      "outputs": [
        {
          "output_type": "stream",
          "name": "stdout",
          "text": [
            "1/1 [==============================] - 0s 22ms/step\n"
          ]
        },
        {
          "output_type": "execute_result",
          "data": {
            "text/plain": [
              "array([[1],\n",
              "       [0],\n",
              "       [1],\n",
              "       [1],\n",
              "       [0]], dtype=int32)"
            ]
          },
          "metadata": {},
          "execution_count": 43
        }
      ]
    },
    {
      "cell_type": "markdown",
      "source": [
        "### KLASYFIKACJA WIELOKLASOWA"
      ],
      "metadata": {
        "id": "V2jjh2yQ295P"
      }
    },
    {
      "cell_type": "code",
      "source": [
        "data = np.random.random((1000, 150))\n",
        "\n",
        "labels = np.random.randint(10, size=(1000, 1))"
      ],
      "metadata": {
        "id": "zZxe8awF2gQ9"
      },
      "execution_count": 44,
      "outputs": []
    },
    {
      "cell_type": "code",
      "source": [
        "print(data.shape)"
      ],
      "metadata": {
        "colab": {
          "base_uri": "https://localhost:8080/"
        },
        "id": "tJbXnV413KOY",
        "outputId": "ae650d61-bf8e-4b0e-be8a-73cff7c3190f"
      },
      "execution_count": 45,
      "outputs": [
        {
          "output_type": "stream",
          "name": "stdout",
          "text": [
            "(1000, 150)\n"
          ]
        }
      ]
    },
    {
      "cell_type": "code",
      "source": [
        "data[0]"
      ],
      "metadata": {
        "colab": {
          "base_uri": "https://localhost:8080/"
        },
        "id": "u4Qubcme53nM",
        "outputId": "114c1cfe-aa38-44d9-c4db-ece53ee6db07"
      },
      "execution_count": 46,
      "outputs": [
        {
          "output_type": "execute_result",
          "data": {
            "text/plain": [
              "array([0.63608592, 0.83711819, 0.63140516, 0.43085525, 0.06082555,\n",
              "       0.19476631, 0.34392761, 0.4170848 , 0.85485007, 0.52748909,\n",
              "       0.79392865, 0.87671103, 0.19957163, 0.50361772, 0.07001266,\n",
              "       0.69284466, 0.34479688, 0.9924703 , 0.58495051, 0.49367344,\n",
              "       0.30139192, 0.02249461, 0.29770124, 0.10701905, 0.75457042,\n",
              "       0.88767118, 0.13515793, 0.75118727, 0.77063683, 0.8198164 ,\n",
              "       0.64874961, 0.82097413, 0.29938538, 0.13847223, 0.07522958,\n",
              "       0.56853932, 0.05111017, 0.32980659, 0.03040284, 0.76045869,\n",
              "       0.39095892, 0.58544478, 0.09248081, 0.69687797, 0.68069223,\n",
              "       0.96490196, 0.59476263, 0.13331896, 0.123877  , 0.14758423,\n",
              "       0.1127625 , 0.41417421, 0.30882043, 0.72725567, 0.52315793,\n",
              "       0.25638521, 0.15743495, 0.17396727, 0.9794266 , 0.89385723,\n",
              "       0.25640513, 0.40723283, 0.19185886, 0.55515685, 0.93653363,\n",
              "       0.42088773, 0.53706088, 0.28450436, 0.71020907, 0.94859176,\n",
              "       0.05735623, 0.78133295, 0.14424248, 0.19309734, 0.39303879,\n",
              "       0.03729843, 0.84138966, 0.54221907, 0.07123471, 0.39751974,\n",
              "       0.15233934, 0.8333992 , 0.06580498, 0.31522675, 0.42750554,\n",
              "       0.37361622, 0.15210272, 0.92551662, 0.98484623, 0.05790027,\n",
              "       0.33354845, 0.79465443, 0.88627994, 0.48820025, 0.63375117,\n",
              "       0.13836151, 0.18886035, 0.56120416, 0.18081095, 0.64061213,\n",
              "       0.81734638, 0.27912672, 0.33914276, 0.41509765, 0.83705225,\n",
              "       0.07713795, 0.51567254, 0.26495706, 0.81112202, 0.68185166,\n",
              "       0.04627585, 0.2455676 , 0.48127568, 0.7785828 , 0.63294975,\n",
              "       0.77320194, 0.30335097, 0.14936657, 0.37567801, 0.35320242,\n",
              "       0.71124913, 0.68112786, 0.48280032, 0.36524994, 0.65577961,\n",
              "       0.48642281, 0.85349181, 0.65089583, 0.12239021, 0.55523106,\n",
              "       0.18892404, 0.33975329, 0.62781731, 0.97147553, 0.65194659,\n",
              "       0.15101573, 0.94891795, 0.01542188, 0.71349961, 0.79608538,\n",
              "       0.91181453, 0.17666117, 0.51942644, 0.13817482, 0.60856482,\n",
              "       0.36703959, 0.00151111, 0.30294867, 0.3408656 , 0.14465158])"
            ]
          },
          "metadata": {},
          "execution_count": 46
        }
      ]
    },
    {
      "cell_type": "code",
      "source": [
        "data[0].shape"
      ],
      "metadata": {
        "colab": {
          "base_uri": "https://localhost:8080/"
        },
        "id": "6usE8UoI4cVw",
        "outputId": "64d679b8-b551-4095-fcec-739c14275c74"
      },
      "execution_count": 47,
      "outputs": [
        {
          "output_type": "execute_result",
          "data": {
            "text/plain": [
              "(150,)"
            ]
          },
          "metadata": {},
          "execution_count": 47
        }
      ]
    },
    {
      "cell_type": "code",
      "source": [
        "print(labels.shape)"
      ],
      "metadata": {
        "colab": {
          "base_uri": "https://localhost:8080/"
        },
        "id": "6197BPWt3LYW",
        "outputId": "2a0eb344-a911-4604-ad35-310327ef0f18"
      },
      "execution_count": 48,
      "outputs": [
        {
          "output_type": "stream",
          "name": "stdout",
          "text": [
            "(1000, 1)\n"
          ]
        }
      ]
    },
    {
      "cell_type": "code",
      "source": [
        "labels[:10]"
      ],
      "metadata": {
        "colab": {
          "base_uri": "https://localhost:8080/"
        },
        "id": "xopUoOKZ3NDw",
        "outputId": "aa83c809-34b9-4698-dd82-ee8597f9c387"
      },
      "execution_count": 49,
      "outputs": [
        {
          "output_type": "execute_result",
          "data": {
            "text/plain": [
              "array([[7],\n",
              "       [8],\n",
              "       [8],\n",
              "       [6],\n",
              "       [2],\n",
              "       [3],\n",
              "       [5],\n",
              "       [8],\n",
              "       [4],\n",
              "       [0]])"
            ]
          },
          "metadata": {},
          "execution_count": 49
        }
      ]
    },
    {
      "cell_type": "code",
      "source": [
        "from tensorflow.keras.utils import to_categorical\n",
        "\n",
        "labels = to_categorical(labels, num_classes=10)\n",
        "labels"
      ],
      "metadata": {
        "colab": {
          "base_uri": "https://localhost:8080/"
        },
        "id": "C_mBeOR64WBh",
        "outputId": "766215d8-1743-4592-b5f7-42d65b7bb409"
      },
      "execution_count": 50,
      "outputs": [
        {
          "output_type": "execute_result",
          "data": {
            "text/plain": [
              "array([[0., 0., 0., ..., 1., 0., 0.],\n",
              "       [0., 0., 0., ..., 0., 1., 0.],\n",
              "       [0., 0., 0., ..., 0., 1., 0.],\n",
              "       ...,\n",
              "       [0., 0., 0., ..., 0., 0., 0.],\n",
              "       [0., 0., 0., ..., 0., 0., 0.],\n",
              "       [0., 0., 0., ..., 1., 0., 0.]], dtype=float32)"
            ]
          },
          "metadata": {},
          "execution_count": 50
        }
      ]
    },
    {
      "cell_type": "code",
      "source": [
        "labels[0]"
      ],
      "metadata": {
        "colab": {
          "base_uri": "https://localhost:8080/"
        },
        "id": "sEYvfI9T6CPn",
        "outputId": "6c0f08c1-e088-43a8-9041-792906a5a951"
      },
      "execution_count": 51,
      "outputs": [
        {
          "output_type": "execute_result",
          "data": {
            "text/plain": [
              "array([0., 0., 0., 0., 0., 0., 0., 1., 0., 0.], dtype=float32)"
            ]
          },
          "metadata": {},
          "execution_count": 51
        }
      ]
    },
    {
      "cell_type": "code",
      "source": [
        "labels[1]"
      ],
      "metadata": {
        "colab": {
          "base_uri": "https://localhost:8080/"
        },
        "id": "O8Zzxywnu__y",
        "outputId": "b2e86713-af03-49fd-e393-8da243c1f850"
      },
      "execution_count": 52,
      "outputs": [
        {
          "output_type": "execute_result",
          "data": {
            "text/plain": [
              "array([0., 0., 0., 0., 0., 0., 0., 0., 1., 0.], dtype=float32)"
            ]
          },
          "metadata": {},
          "execution_count": 52
        }
      ]
    },
    {
      "cell_type": "markdown",
      "source": [
        "![image.png](data:image/png;base64,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)"
      ],
      "metadata": {
        "id": "gpw94QB2wDtd"
      }
    },
    {
      "cell_type": "code",
      "source": [
        "# 1 i 2 oraz 7 powienien być taki sam skoro mają taką samą klasę\n",
        "print(labels[1])\n",
        "print(labels[2])\n",
        "print(labels[7])"
      ],
      "metadata": {
        "colab": {
          "base_uri": "https://localhost:8080/"
        },
        "id": "kXsEiybLvDVf",
        "outputId": "1dca98e1-9a97-4f14-d3b8-e7576c9ad194"
      },
      "execution_count": 55,
      "outputs": [
        {
          "output_type": "stream",
          "name": "stdout",
          "text": [
            "[0. 0. 0. 0. 0. 0. 0. 0. 1. 0.]\n",
            "[0. 0. 0. 0. 0. 0. 0. 0. 1. 0.]\n",
            "[0. 0. 0. 0. 0. 0. 0. 0. 1. 0.]\n"
          ]
        }
      ]
    },
    {
      "cell_type": "code",
      "source": [
        "model = Sequential()\n",
        "\n",
        "model.add(Dense(units=32, activation='relu', input_shape=(150,)))\n",
        "model.add(Dense(units=10, activation='softmax'))# UNITS MUSI BYC TAKIE ILE JEST KLAS !!!, softmax zwroci prawdopodobienstwo przynaleznosci do klasy\n",
        "\n",
        "model.compile(optimizer='rmsprop',\n",
        "              loss='categorical_crossentropy',\n",
        "              metrics=['accuracy'])\n",
        "\n",
        "model.fit(data, labels, batch_size=32, epochs=30, validation_split=0.2)"
      ],
      "metadata": {
        "colab": {
          "base_uri": "https://localhost:8080/"
        },
        "id": "EgfFMe9JvX7K",
        "outputId": "a9db7f88-8df5-4558-c6c7-85ad586ae722"
      },
      "execution_count": 56,
      "outputs": [
        {
          "output_type": "stream",
          "name": "stdout",
          "text": [
            "Epoch 1/30\n",
            "25/25 [==============================] - 1s 17ms/step - loss: 2.3338 - accuracy: 0.1175 - val_loss: 2.3375 - val_accuracy: 0.1050\n",
            "Epoch 2/30\n",
            "25/25 [==============================] - 0s 5ms/step - loss: 2.2983 - accuracy: 0.1138 - val_loss: 2.3252 - val_accuracy: 0.1200\n",
            "Epoch 3/30\n",
            "25/25 [==============================] - 0s 5ms/step - loss: 2.2898 - accuracy: 0.1437 - val_loss: 2.3289 - val_accuracy: 0.1000\n",
            "Epoch 4/30\n",
            "25/25 [==============================] - 0s 5ms/step - loss: 2.2802 - accuracy: 0.1388 - val_loss: 2.3283 - val_accuracy: 0.1100\n",
            "Epoch 5/30\n",
            "25/25 [==============================] - 0s 4ms/step - loss: 2.2665 - accuracy: 0.1525 - val_loss: 2.3328 - val_accuracy: 0.1100\n",
            "Epoch 6/30\n",
            "25/25 [==============================] - 0s 4ms/step - loss: 2.2561 - accuracy: 0.1737 - val_loss: 2.3372 - val_accuracy: 0.0900\n",
            "Epoch 7/30\n",
            "25/25 [==============================] - 0s 3ms/step - loss: 2.2394 - accuracy: 0.1800 - val_loss: 2.3525 - val_accuracy: 0.0700\n",
            "Epoch 8/30\n",
            "25/25 [==============================] - 0s 4ms/step - loss: 2.2350 - accuracy: 0.2000 - val_loss: 2.3562 - val_accuracy: 0.0800\n",
            "Epoch 9/30\n",
            "25/25 [==============================] - 0s 3ms/step - loss: 2.2224 - accuracy: 0.2025 - val_loss: 2.3343 - val_accuracy: 0.0900\n",
            "Epoch 10/30\n",
            "25/25 [==============================] - 0s 4ms/step - loss: 2.2104 - accuracy: 0.2125 - val_loss: 2.3621 - val_accuracy: 0.0850\n",
            "Epoch 11/30\n",
            "25/25 [==============================] - 0s 3ms/step - loss: 2.1946 - accuracy: 0.2075 - val_loss: 2.3262 - val_accuracy: 0.1250\n",
            "Epoch 12/30\n",
            "25/25 [==============================] - 0s 3ms/step - loss: 2.1813 - accuracy: 0.2313 - val_loss: 2.3424 - val_accuracy: 0.0800\n",
            "Epoch 13/30\n",
            "25/25 [==============================] - 0s 3ms/step - loss: 2.1647 - accuracy: 0.2313 - val_loss: 2.3558 - val_accuracy: 0.0700\n",
            "Epoch 14/30\n",
            "25/25 [==============================] - 0s 3ms/step - loss: 2.1571 - accuracy: 0.2375 - val_loss: 2.3383 - val_accuracy: 0.1300\n",
            "Epoch 15/30\n",
            "25/25 [==============================] - 0s 3ms/step - loss: 2.1382 - accuracy: 0.2587 - val_loss: 2.3671 - val_accuracy: 0.0900\n",
            "Epoch 16/30\n",
            "25/25 [==============================] - 0s 3ms/step - loss: 2.1289 - accuracy: 0.2625 - val_loss: 2.3480 - val_accuracy: 0.1000\n",
            "Epoch 17/30\n",
            "25/25 [==============================] - 0s 3ms/step - loss: 2.1088 - accuracy: 0.2637 - val_loss: 2.3590 - val_accuracy: 0.1050\n",
            "Epoch 18/30\n",
            "25/25 [==============================] - 0s 3ms/step - loss: 2.0951 - accuracy: 0.2713 - val_loss: 2.3488 - val_accuracy: 0.0900\n",
            "Epoch 19/30\n",
            "25/25 [==============================] - 0s 4ms/step - loss: 2.0806 - accuracy: 0.2837 - val_loss: 2.3612 - val_accuracy: 0.1200\n",
            "Epoch 20/30\n",
            "25/25 [==============================] - 0s 3ms/step - loss: 2.0659 - accuracy: 0.2900 - val_loss: 2.3539 - val_accuracy: 0.1150\n",
            "Epoch 21/30\n",
            "25/25 [==============================] - 0s 4ms/step - loss: 2.0505 - accuracy: 0.3137 - val_loss: 2.3626 - val_accuracy: 0.1000\n",
            "Epoch 22/30\n",
            "25/25 [==============================] - 0s 4ms/step - loss: 2.0346 - accuracy: 0.3150 - val_loss: 2.3738 - val_accuracy: 0.1200\n",
            "Epoch 23/30\n",
            "25/25 [==============================] - 0s 4ms/step - loss: 2.0212 - accuracy: 0.3175 - val_loss: 2.3747 - val_accuracy: 0.1200\n",
            "Epoch 24/30\n",
            "25/25 [==============================] - 0s 4ms/step - loss: 2.0050 - accuracy: 0.3175 - val_loss: 2.3945 - val_accuracy: 0.1150\n",
            "Epoch 25/30\n",
            "25/25 [==============================] - 0s 3ms/step - loss: 1.9883 - accuracy: 0.3375 - val_loss: 2.3883 - val_accuracy: 0.1150\n",
            "Epoch 26/30\n",
            "25/25 [==============================] - 0s 4ms/step - loss: 1.9744 - accuracy: 0.3313 - val_loss: 2.4103 - val_accuracy: 0.1100\n",
            "Epoch 27/30\n",
            "25/25 [==============================] - 0s 4ms/step - loss: 1.9536 - accuracy: 0.3475 - val_loss: 2.4144 - val_accuracy: 0.1100\n",
            "Epoch 28/30\n",
            "25/25 [==============================] - 0s 3ms/step - loss: 1.9414 - accuracy: 0.3500 - val_loss: 2.4295 - val_accuracy: 0.0950\n",
            "Epoch 29/30\n",
            "25/25 [==============================] - 0s 4ms/step - loss: 1.9247 - accuracy: 0.3600 - val_loss: 2.4153 - val_accuracy: 0.1200\n",
            "Epoch 30/30\n",
            "25/25 [==============================] - 0s 4ms/step - loss: 1.9123 - accuracy: 0.3675 - val_loss: 2.4268 - val_accuracy: 0.0950\n"
          ]
        },
        {
          "output_type": "execute_result",
          "data": {
            "text/plain": [
              "<keras.callbacks.History at 0x7f7444f599f0>"
            ]
          },
          "metadata": {},
          "execution_count": 56
        }
      ]
    },
    {
      "cell_type": "code",
      "source": [
        "test_data = np.random.random((10,150))\n",
        "\n",
        "model.predict(test_data)"
      ],
      "metadata": {
        "colab": {
          "base_uri": "https://localhost:8080/"
        },
        "id": "QW-bDHWLxMnh",
        "outputId": "71972390-3982-4385-b27c-9b2b201fb4e9"
      },
      "execution_count": 57,
      "outputs": [
        {
          "output_type": "stream",
          "name": "stdout",
          "text": [
            "1/1 [==============================] - 0s 52ms/step\n"
          ]
        },
        {
          "output_type": "execute_result",
          "data": {
            "text/plain": [
              "array([[0.0356311 , 0.18391295, 0.12069956, 0.03559841, 0.1074255 ,\n",
              "        0.1050384 , 0.08526444, 0.09034034, 0.07808355, 0.15800567],\n",
              "       [0.20718631, 0.09986737, 0.07637651, 0.15102328, 0.06580931,\n",
              "        0.05745175, 0.0475882 , 0.11168087, 0.10226177, 0.08075462],\n",
              "       [0.11531208, 0.07141189, 0.02745686, 0.12401379, 0.262954  ,\n",
              "        0.14108446, 0.05716065, 0.08951113, 0.03411246, 0.07698268],\n",
              "       [0.06220991, 0.15255103, 0.09537189, 0.06236762, 0.09201227,\n",
              "        0.12655224, 0.07862712, 0.11257046, 0.04771182, 0.17002559],\n",
              "       [0.05053069, 0.20419954, 0.0819998 , 0.06654119, 0.04083246,\n",
              "        0.12585141, 0.13360605, 0.03945762, 0.08622662, 0.17075463],\n",
              "       [0.0674003 , 0.07246298, 0.05870194, 0.13050923, 0.11577283,\n",
              "        0.25031307, 0.0420051 , 0.09525556, 0.05032806, 0.1172508 ],\n",
              "       [0.07810787, 0.15544856, 0.06627279, 0.06720834, 0.06174135,\n",
              "        0.17192364, 0.13767534, 0.12961818, 0.08043435, 0.05156951],\n",
              "       [0.04498151, 0.14138104, 0.02529036, 0.10448561, 0.09983743,\n",
              "        0.13650092, 0.10969096, 0.09194262, 0.05867823, 0.1872113 ],\n",
              "       [0.08517896, 0.11221156, 0.1689804 , 0.05564605, 0.05502408,\n",
              "        0.12688343, 0.11082809, 0.10888224, 0.06057062, 0.11579458],\n",
              "       [0.0967399 , 0.04211213, 0.20189501, 0.10069911, 0.06832243,\n",
              "        0.05021164, 0.09780084, 0.08196649, 0.16494657, 0.09530586]],\n",
              "      dtype=float32)"
            ]
          },
          "metadata": {},
          "execution_count": 57
        }
      ]
    },
    {
      "cell_type": "markdown",
      "source": [
        "TO CHYBA DZIAŁA W KLASYFIKACJI WIELOKLASOWEJ !!!"
      ],
      "metadata": {
        "id": "2dIMCIDJyDrg"
      }
    },
    {
      "cell_type": "code",
      "source": [
        "#te dane mozna odczytac z tego wyzej kazda macierz 2x5 to jedna z klas. W tym miejscu w macierzy, w ktorym wartosc jest najwyzsza zostaje odpowiednio dopasowana do danej klasy\n",
        "predicted=model.predict(test_data)\n",
        "result=np.argmax(predicted,axis=1)\n",
        "result"
      ],
      "metadata": {
        "colab": {
          "base_uri": "https://localhost:8080/"
        },
        "id": "TVDYEq3rx5Dj",
        "outputId": "a544c807-2e80-4d68-f9b7-e943fab38c79"
      },
      "execution_count": 63,
      "outputs": [
        {
          "output_type": "stream",
          "name": "stdout",
          "text": [
            "1/1 [==============================] - 0s 23ms/step\n"
          ]
        },
        {
          "output_type": "execute_result",
          "data": {
            "text/plain": [
              "array([1, 0, 4, 9, 1, 5, 5, 9, 2, 2])"
            ]
          },
          "metadata": {},
          "execution_count": 63
        }
      ]
    },
    {
      "cell_type": "markdown",
      "source": [
        "A TO CHYBA DZIAŁA W KLASYFIKACJI BINARNEJ"
      ],
      "metadata": {
        "id": "Ux1_RfxByKg8"
      }
    },
    {
      "cell_type": "code",
      "source": [
        "#predictions = (model.predict(test_data) > 0.5).astype(\"int32\")\n",
        "#predictions"
      ],
      "metadata": {
        "id": "glhdD_r_xo7g"
      },
      "execution_count": 60,
      "outputs": []
    },
    {
      "cell_type": "markdown",
      "source": [
        "### REGRESJA"
      ],
      "metadata": {
        "id": "_hQGLN2jzcJJ"
      }
    },
    {
      "cell_type": "code",
      "source": [
        "data = np.random.random((1000, 150))\n",
        "labels = 50 * np.random.random(1000)"
      ],
      "metadata": {
        "id": "CsPZ8ZR5xxrh"
      },
      "execution_count": 64,
      "outputs": []
    },
    {
      "cell_type": "code",
      "source": [
        "data[0]"
      ],
      "metadata": {
        "colab": {
          "base_uri": "https://localhost:8080/"
        },
        "id": "vQ8Yn1FWzlCA",
        "outputId": "11ad65b2-98a6-43f8-a3c7-993f61c3b0cd"
      },
      "execution_count": 65,
      "outputs": [
        {
          "output_type": "execute_result",
          "data": {
            "text/plain": [
              "array([0.84661888, 0.77298286, 0.60928227, 0.77338366, 0.78791149,\n",
              "       0.40917669, 0.21835028, 0.30296505, 0.84782931, 0.10701853,\n",
              "       0.58936432, 0.64785524, 0.8159725 , 0.67380608, 0.85707803,\n",
              "       0.11679903, 0.19409557, 0.1397923 , 0.78684876, 0.03802858,\n",
              "       0.67542902, 0.34219311, 0.29709296, 0.15048029, 0.72950838,\n",
              "       0.45579295, 0.39395649, 0.7284974 , 0.34885396, 0.54090723,\n",
              "       0.5160761 , 0.44884722, 0.21785602, 0.22819149, 0.49049733,\n",
              "       0.20218232, 0.13607973, 0.32015068, 0.08442659, 0.8630428 ,\n",
              "       0.77785593, 0.51216151, 0.32509002, 0.65062803, 0.58104481,\n",
              "       0.20971877, 0.71025739, 0.98126102, 0.32914758, 0.6285174 ,\n",
              "       0.41665247, 0.17595039, 0.94677934, 0.68847074, 0.48458324,\n",
              "       0.35356674, 0.61667139, 0.5218345 , 0.25888663, 0.22022872,\n",
              "       0.40500717, 0.66281619, 0.67379329, 0.90548467, 0.56416664,\n",
              "       0.39587849, 0.06403952, 0.13508653, 0.54875646, 0.28419632,\n",
              "       0.68625733, 0.99491001, 0.47237039, 0.18088214, 0.95761521,\n",
              "       0.29446481, 0.25099853, 0.60359713, 0.34833368, 0.40095074,\n",
              "       0.11499134, 0.34403576, 0.27362604, 0.38805028, 0.68391845,\n",
              "       0.24567985, 0.24901054, 0.35829034, 0.93996333, 0.22236738,\n",
              "       0.52042524, 0.95975687, 0.21518891, 0.66463744, 0.12604459,\n",
              "       0.1917606 , 0.58655928, 0.14287468, 0.98751189, 0.81331246,\n",
              "       0.04928934, 0.55936647, 0.48651743, 0.66484964, 0.20456892,\n",
              "       0.14237348, 0.78673561, 0.18744556, 0.54180094, 0.2880832 ,\n",
              "       0.22977904, 0.06847173, 0.57274766, 0.60115784, 0.92652191,\n",
              "       0.05175518, 0.25395987, 0.6309065 , 0.54100366, 0.17578445,\n",
              "       0.94541026, 0.34547954, 0.16042715, 0.60256934, 0.51334291,\n",
              "       0.18596197, 0.13504716, 0.60135613, 0.86800891, 0.75472824,\n",
              "       0.36707442, 0.23964345, 0.82388109, 0.60401892, 0.71809421,\n",
              "       0.2388373 , 0.17762571, 0.22669366, 0.86333884, 0.83947657,\n",
              "       0.74766354, 0.50111647, 0.40226494, 0.10999961, 0.65137736,\n",
              "       0.48312278, 0.86417559, 0.45664158, 0.37673235, 0.15083972])"
            ]
          },
          "metadata": {},
          "execution_count": 65
        }
      ]
    },
    {
      "cell_type": "code",
      "source": [
        "labels[:10]"
      ],
      "metadata": {
        "colab": {
          "base_uri": "https://localhost:8080/"
        },
        "id": "WK8XkLAxzpUe",
        "outputId": "e316bfc6-3a1e-4b39-ff5a-b1de43dfb92f"
      },
      "execution_count": 66,
      "outputs": [
        {
          "output_type": "execute_result",
          "data": {
            "text/plain": [
              "array([44.57365709, 35.43284446, 12.10710225,  6.16661767,  0.74288082,\n",
              "       31.5256866 ,  5.13195146, 39.85041039, 30.63541734, 42.46375963])"
            ]
          },
          "metadata": {},
          "execution_count": 66
        }
      ]
    },
    {
      "cell_type": "code",
      "source": [
        "model = Sequential()\n",
        "\n",
        "model.add(Dense(units=32, activation='relu', input_shape=(150,)))\n",
        "#funkcja aktywacji domyslnie jest funkcja liniową\n",
        "model.add(Dense(units=1)) # 1 -> ponieważ chcemy miec przewidywana wartosc ciagłą\n",
        "\n",
        "\n",
        "model.compile(optimizer='rmsprop',\n",
        "              loss='mse',)\n",
        "\n",
        "\n",
        "model.fit(data, labels, batch_size=32, epochs=30, validation_split=0.2)"
      ],
      "metadata": {
        "colab": {
          "base_uri": "https://localhost:8080/"
        },
        "id": "Ctt2PWanzr5K",
        "outputId": "6d801238-3539-46a5-d04f-f69bad26ef0f"
      },
      "execution_count": 67,
      "outputs": [
        {
          "output_type": "stream",
          "name": "stdout",
          "text": [
            "Epoch 1/30\n",
            "25/25 [==============================] - 1s 8ms/step - loss: 529.7536 - val_loss: 358.6505\n",
            "Epoch 2/30\n",
            "25/25 [==============================] - 0s 3ms/step - loss: 285.2633 - val_loss: 236.7666\n",
            "Epoch 3/30\n",
            "25/25 [==============================] - 0s 4ms/step - loss: 208.2692 - val_loss: 222.3915\n",
            "Epoch 4/30\n",
            "25/25 [==============================] - 0s 4ms/step - loss: 203.8870 - val_loss: 221.5526\n",
            "Epoch 5/30\n",
            "25/25 [==============================] - 0s 3ms/step - loss: 204.1340 - val_loss: 221.0123\n",
            "Epoch 6/30\n",
            "25/25 [==============================] - 0s 4ms/step - loss: 203.4075 - val_loss: 221.7384\n",
            "Epoch 7/30\n",
            "25/25 [==============================] - 0s 3ms/step - loss: 202.7886 - val_loss: 220.6766\n",
            "Epoch 8/30\n",
            "25/25 [==============================] - 0s 3ms/step - loss: 202.2635 - val_loss: 221.4826\n",
            "Epoch 9/30\n",
            "25/25 [==============================] - 0s 3ms/step - loss: 201.6965 - val_loss: 220.5735\n",
            "Epoch 10/30\n",
            "25/25 [==============================] - 0s 3ms/step - loss: 201.3693 - val_loss: 220.7496\n",
            "Epoch 11/30\n",
            "25/25 [==============================] - 0s 3ms/step - loss: 201.2101 - val_loss: 222.0321\n",
            "Epoch 12/30\n",
            "25/25 [==============================] - 0s 3ms/step - loss: 200.2092 - val_loss: 220.3810\n",
            "Epoch 13/30\n",
            "25/25 [==============================] - 0s 4ms/step - loss: 200.1180 - val_loss: 220.9097\n",
            "Epoch 14/30\n",
            "25/25 [==============================] - 0s 3ms/step - loss: 199.7943 - val_loss: 222.0389\n",
            "Epoch 15/30\n",
            "25/25 [==============================] - 0s 3ms/step - loss: 198.3041 - val_loss: 220.2550\n",
            "Epoch 16/30\n",
            "25/25 [==============================] - 0s 3ms/step - loss: 197.5421 - val_loss: 223.4001\n",
            "Epoch 17/30\n",
            "25/25 [==============================] - 0s 3ms/step - loss: 197.2976 - val_loss: 220.2506\n",
            "Epoch 18/30\n",
            "25/25 [==============================] - 0s 10ms/step - loss: 197.4605 - val_loss: 220.0937\n",
            "Epoch 19/30\n",
            "25/25 [==============================] - 0s 11ms/step - loss: 196.2250 - val_loss: 220.1302\n",
            "Epoch 20/30\n",
            "25/25 [==============================] - 0s 10ms/step - loss: 196.7088 - val_loss: 220.4456\n",
            "Epoch 21/30\n",
            "25/25 [==============================] - 0s 10ms/step - loss: 196.0307 - val_loss: 220.3512\n",
            "Epoch 22/30\n",
            "25/25 [==============================] - 0s 6ms/step - loss: 194.5046 - val_loss: 223.1115\n",
            "Epoch 23/30\n",
            "25/25 [==============================] - 0s 3ms/step - loss: 194.8507 - val_loss: 220.5423\n",
            "Epoch 24/30\n",
            "25/25 [==============================] - 0s 4ms/step - loss: 193.9256 - val_loss: 220.8521\n",
            "Epoch 25/30\n",
            "25/25 [==============================] - 0s 5ms/step - loss: 194.0339 - val_loss: 222.3608\n",
            "Epoch 26/30\n",
            "25/25 [==============================] - 0s 4ms/step - loss: 192.9096 - val_loss: 221.5324\n",
            "Epoch 27/30\n",
            "25/25 [==============================] - 0s 4ms/step - loss: 192.9425 - val_loss: 220.6404\n",
            "Epoch 28/30\n",
            "25/25 [==============================] - 0s 4ms/step - loss: 191.9511 - val_loss: 222.6725\n",
            "Epoch 29/30\n",
            "25/25 [==============================] - 0s 5ms/step - loss: 191.0324 - val_loss: 221.9136\n",
            "Epoch 30/30\n",
            "25/25 [==============================] - 0s 4ms/step - loss: 191.1703 - val_loss: 220.8603\n"
          ]
        },
        {
          "output_type": "execute_result",
          "data": {
            "text/plain": [
              "<keras.callbacks.History at 0x7f7449778e20>"
            ]
          },
          "metadata": {},
          "execution_count": 67
        }
      ]
    },
    {
      "cell_type": "markdown",
      "source": [
        "Funkcja straty -> mae, metryka -> mse"
      ],
      "metadata": {
        "id": "CNyB_wHG2_wX"
      }
    },
    {
      "cell_type": "code",
      "source": [
        "model = Sequential()\n",
        "\n",
        "model.add(Dense(units=32, activation='relu', input_shape=(150,)))\n",
        "#funkcja aktywacji domyslnie jest funkcja liniową\n",
        "model.add(Dense(units=1)) # 1 -> ponieważ chcemy miec przewidywana wartosc ciagłą\n",
        "\n",
        "\n",
        "model.compile(optimizer='rmsprop',\n",
        "              loss='mae',\n",
        "              metrics=['mse'])\n",
        "\n",
        "\n",
        "model.fit(data, labels, batch_size=32, epochs=30, validation_split=0.2)"
      ],
      "metadata": {
        "colab": {
          "base_uri": "https://localhost:8080/"
        },
        "id": "XGFk94gl26BY",
        "outputId": "cd759517-8b4a-4436-ffa6-1b756ea59669"
      },
      "execution_count": 68,
      "outputs": [
        {
          "output_type": "stream",
          "name": "stdout",
          "text": [
            "Epoch 1/30\n",
            "25/25 [==============================] - 1s 9ms/step - loss: 20.1594 - mse: 588.6848 - val_loss: 16.3438 - val_mse: 419.9827\n",
            "Epoch 2/30\n",
            "25/25 [==============================] - 0s 4ms/step - loss: 15.0400 - mse: 343.5920 - val_loss: 13.8232 - val_mse: 273.9658\n",
            "Epoch 3/30\n",
            "25/25 [==============================] - 0s 3ms/step - loss: 12.9034 - mse: 234.7646 - val_loss: 13.0762 - val_mse: 225.6137\n",
            "Epoch 4/30\n",
            "25/25 [==============================] - 0s 3ms/step - loss: 12.3951 - mse: 206.1066 - val_loss: 13.1380 - val_mse: 222.2441\n",
            "Epoch 5/30\n",
            "25/25 [==============================] - 0s 3ms/step - loss: 12.3503 - mse: 203.2137 - val_loss: 13.1708 - val_mse: 223.1951\n",
            "Epoch 6/30\n",
            "25/25 [==============================] - 0s 3ms/step - loss: 12.3458 - mse: 202.7915 - val_loss: 13.0976 - val_mse: 221.0924\n",
            "Epoch 7/30\n",
            "25/25 [==============================] - 0s 4ms/step - loss: 12.3214 - mse: 203.1687 - val_loss: 13.1370 - val_mse: 222.1606\n",
            "Epoch 8/30\n",
            "25/25 [==============================] - 0s 3ms/step - loss: 12.2828 - mse: 202.1888 - val_loss: 13.0740 - val_mse: 221.2866\n",
            "Epoch 9/30\n",
            "25/25 [==============================] - 0s 4ms/step - loss: 12.2988 - mse: 202.4624 - val_loss: 13.1451 - val_mse: 222.4075\n",
            "Epoch 10/30\n",
            "25/25 [==============================] - 0s 3ms/step - loss: 12.2938 - mse: 201.9520 - val_loss: 13.1138 - val_mse: 221.5935\n",
            "Epoch 11/30\n",
            "25/25 [==============================] - 0s 4ms/step - loss: 12.2573 - mse: 201.7132 - val_loss: 13.1753 - val_mse: 223.2808\n",
            "Epoch 12/30\n",
            "25/25 [==============================] - 0s 3ms/step - loss: 12.2628 - mse: 200.6813 - val_loss: 13.0984 - val_mse: 221.2316\n",
            "Epoch 13/30\n",
            "25/25 [==============================] - 0s 3ms/step - loss: 12.2401 - mse: 200.9108 - val_loss: 13.0974 - val_mse: 221.2370\n",
            "Epoch 14/30\n",
            "25/25 [==============================] - 0s 3ms/step - loss: 12.2186 - mse: 200.3658 - val_loss: 13.1515 - val_mse: 222.5665\n",
            "Epoch 15/30\n",
            "25/25 [==============================] - 0s 4ms/step - loss: 12.2113 - mse: 199.9466 - val_loss: 13.1321 - val_mse: 222.0394\n",
            "Epoch 16/30\n",
            "25/25 [==============================] - 0s 4ms/step - loss: 12.1797 - mse: 200.6553 - val_loss: 13.0801 - val_mse: 221.1330\n",
            "Epoch 17/30\n",
            "25/25 [==============================] - 0s 3ms/step - loss: 12.1664 - mse: 198.9779 - val_loss: 13.1780 - val_mse: 223.2104\n",
            "Epoch 18/30\n",
            "25/25 [==============================] - 0s 4ms/step - loss: 12.1499 - mse: 198.6395 - val_loss: 13.1890 - val_mse: 223.5315\n",
            "Epoch 19/30\n",
            "25/25 [==============================] - 0s 3ms/step - loss: 12.1387 - mse: 197.9979 - val_loss: 13.1191 - val_mse: 221.6017\n",
            "Epoch 20/30\n",
            "25/25 [==============================] - 0s 3ms/step - loss: 12.1205 - mse: 197.6569 - val_loss: 13.0879 - val_mse: 220.9538\n",
            "Epoch 21/30\n",
            "25/25 [==============================] - 0s 5ms/step - loss: 12.0817 - mse: 197.1665 - val_loss: 13.0947 - val_mse: 221.0322\n",
            "Epoch 22/30\n",
            "25/25 [==============================] - 0s 7ms/step - loss: 12.0857 - mse: 197.1252 - val_loss: 13.1074 - val_mse: 221.2563\n",
            "Epoch 23/30\n",
            "25/25 [==============================] - 0s 6ms/step - loss: 12.0706 - mse: 196.3334 - val_loss: 13.1097 - val_mse: 221.2762\n",
            "Epoch 24/30\n",
            "25/25 [==============================] - 0s 3ms/step - loss: 12.0232 - mse: 195.1974 - val_loss: 13.0807 - val_mse: 220.8511\n",
            "Epoch 25/30\n",
            "25/25 [==============================] - 0s 3ms/step - loss: 12.0115 - mse: 195.7725 - val_loss: 13.0995 - val_mse: 221.0311\n",
            "Epoch 26/30\n",
            "25/25 [==============================] - 0s 3ms/step - loss: 11.9979 - mse: 194.8091 - val_loss: 13.1314 - val_mse: 221.7453\n",
            "Epoch 27/30\n",
            "25/25 [==============================] - 0s 3ms/step - loss: 11.9889 - mse: 194.8411 - val_loss: 13.1040 - val_mse: 221.1427\n",
            "Epoch 28/30\n",
            "25/25 [==============================] - 0s 5ms/step - loss: 11.9502 - mse: 193.8140 - val_loss: 13.0897 - val_mse: 220.8456\n",
            "Epoch 29/30\n",
            "25/25 [==============================] - 0s 4ms/step - loss: 11.9385 - mse: 193.8502 - val_loss: 13.1656 - val_mse: 222.4731\n",
            "Epoch 30/30\n",
            "25/25 [==============================] - 0s 3ms/step - loss: 11.9217 - mse: 192.9371 - val_loss: 13.1454 - val_mse: 221.9848\n"
          ]
        },
        {
          "output_type": "execute_result",
          "data": {
            "text/plain": [
              "<keras.callbacks.History at 0x7f74495cc970>"
            ]
          },
          "metadata": {},
          "execution_count": 68
        }
      ]
    },
    {
      "cell_type": "code",
      "source": [
        "test_data = np.random.random((10, 150))\n",
        "\n",
        "model.predict(test_data)"
      ],
      "metadata": {
        "colab": {
          "base_uri": "https://localhost:8080/"
        },
        "id": "ID_xky6H7f_G",
        "outputId": "0acab3c6-16ae-4eb0-c234-a3054884a4d8"
      },
      "execution_count": 69,
      "outputs": [
        {
          "output_type": "stream",
          "name": "stdout",
          "text": [
            "1/1 [==============================] - 0s 101ms/step\n"
          ]
        },
        {
          "output_type": "execute_result",
          "data": {
            "text/plain": [
              "array([[24.540478],\n",
              "       [28.068775],\n",
              "       [27.58319 ],\n",
              "       [21.817764],\n",
              "       [22.125587],\n",
              "       [21.005444],\n",
              "       [24.990967],\n",
              "       [21.304977],\n",
              "       [24.552711],\n",
              "       [23.364574]], dtype=float32)"
            ]
          },
          "metadata": {},
          "execution_count": 69
        }
      ]
    }
  ]
}